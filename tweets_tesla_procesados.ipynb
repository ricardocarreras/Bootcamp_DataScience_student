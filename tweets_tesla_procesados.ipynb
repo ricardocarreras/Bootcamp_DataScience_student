{
  "nbformat": 4,
  "nbformat_minor": 0,
  "metadata": {
    "colab": {
      "name": "tweets_tesla_procesados.ipynb",
      "provenance": [],
      "authorship_tag": "ABX9TyOia3CHj+FUA2ud8aIJ+xHJ",
      "include_colab_link": true
    },
    "kernelspec": {
      "name": "python3",
      "display_name": "Python 3"
    },
    "language_info": {
      "name": "python"
    }
  },
  "cells": [
    {
      "cell_type": "markdown",
      "metadata": {
        "id": "view-in-github",
        "colab_type": "text"
      },
      "source": [
        "<a href=\"https://colab.research.google.com/github/ricardocarreras/Bootcamp_DataScience_student/blob/master/tweets_tesla_procesados.ipynb\" target=\"_parent\"><img src=\"https://colab.research.google.com/assets/colab-badge.svg\" alt=\"Open In Colab\"/></a>"
      ]
    },
    {
      "cell_type": "code",
      "execution_count": 92,
      "metadata": {
        "id": "jsSN37CGagdq"
      },
      "outputs": [],
      "source": [
        "import datetime \n",
        "import numpy as np\n",
        "import matplotlib.pyplot as plt\n",
        "from pandas.plotting import scatter_matrix\n",
        "import statsmodels.api as sm\n",
        "from statsmodels.tsa.api import ExponentialSmoothing, SimpleExpSmoothing\n",
        "import pandas as pd"
      ]
    },
    {
      "cell_type": "code",
      "source": [
        "import tweepy"
      ],
      "metadata": {
        "id": "qehXFGyihZjb"
      },
      "execution_count": 93,
      "outputs": []
    },
    {
      "cell_type": "code",
      "source": [
        "tweetsT=pd.read_csv(\"/content/tesla_tweets_eng.csv\")"
      ],
      "metadata": {
        "id": "mE9AAA1Yatrh"
      },
      "execution_count": 113,
      "outputs": []
    },
    {
      "cell_type": "code",
      "source": [
        "tfinal=tweetsT.drop(columns=[\"id\", \"author_id\", \"author\", \"entities\", \"referenced_tweets\", \"media\", \"geo\", \"in_reply_to_user_id\"])"
      ],
      "metadata": {
        "id": "CIB_dMKfatbR"
      },
      "execution_count": 116,
      "outputs": []
    },
    {
      "cell_type": "code",
      "source": [
        ""
      ],
      "metadata": {
        "id": "B2voJ7vseE3K"
      },
      "execution_count": null,
      "outputs": []
    },
    {
      "cell_type": "code",
      "source": [
        "tfinal.info()"
      ],
      "metadata": {
        "colab": {
          "base_uri": "https://localhost:8080/"
        },
        "id": "aKwnX2jUdP5h",
        "outputId": "6e1c80db-3473-4a57-d045-53a8a6ec2326"
      },
      "execution_count": 117,
      "outputs": [
        {
          "output_type": "stream",
          "name": "stdout",
          "text": [
            "<class 'pandas.core.frame.DataFrame'>\n",
            "RangeIndex: 153939 entries, 0 to 153938\n",
            "Data columns (total 3 columns):\n",
            " #   Column      Non-Null Count   Dtype \n",
            "---  ------      --------------   ----- \n",
            " 0   text        153939 non-null  object\n",
            " 1   created_at  153939 non-null  object\n",
            " 2   lang        153939 non-null  object\n",
            "dtypes: object(3)\n",
            "memory usage: 3.5+ MB\n"
          ]
        }
      ]
    },
    {
      "cell_type": "code",
      "source": [
        ""
      ],
      "metadata": {
        "id": "erUy1J1Os-98"
      },
      "execution_count": null,
      "outputs": []
    },
    {
      "cell_type": "code",
      "source": [
        ""
      ],
      "metadata": {
        "id": "X3z0sjbpspwe"
      },
      "execution_count": null,
      "outputs": []
    },
    {
      "cell_type": "code",
      "source": [
        "tfinal.head()"
      ],
      "metadata": {
        "colab": {
          "base_uri": "https://localhost:8080/",
          "height": 206
        },
        "id": "A9A3yTMlf1k2",
        "outputId": "a3063196-5e92-4e8d-95fd-180ba0733e40"
      },
      "execution_count": 118,
      "outputs": [
        {
          "output_type": "execute_result",
          "data": {
            "text/plain": [
              "                                                text  \\\n",
              "0  @scrowder ELON MUSK IS A LIABILITY TO HIS INVE...   \n",
              "1  @elonmusk @TheTexanNews @MayraFlores2022 Dumpe...   \n",
              "2  Tesla becomes most valuable automaker in lates...   \n",
              "3  @elonmusk @teslaownersSV Use your 100+ million...   \n",
              "4  https://t.co/SHqdpbP3PY : 167dbf5b-8bac-41a4-8...   \n",
              "\n",
              "                 created_at lang  \n",
              "0  2022-06-15T23:25:20.000Z   en  \n",
              "1  2022-06-15T23:12:04.000Z   en  \n",
              "2  2022-06-15T23:08:47.000Z   en  \n",
              "3  2022-06-15T22:39:42.000Z   en  \n",
              "4  2022-06-15T22:25:43.000Z   en  "
            ],
            "text/html": [
              "\n",
              "  <div id=\"df-2f4a789c-63e1-4d2a-9d36-d04eaf2bdc28\">\n",
              "    <div class=\"colab-df-container\">\n",
              "      <div>\n",
              "<style scoped>\n",
              "    .dataframe tbody tr th:only-of-type {\n",
              "        vertical-align: middle;\n",
              "    }\n",
              "\n",
              "    .dataframe tbody tr th {\n",
              "        vertical-align: top;\n",
              "    }\n",
              "\n",
              "    .dataframe thead th {\n",
              "        text-align: right;\n",
              "    }\n",
              "</style>\n",
              "<table border=\"1\" class=\"dataframe\">\n",
              "  <thead>\n",
              "    <tr style=\"text-align: right;\">\n",
              "      <th></th>\n",
              "      <th>text</th>\n",
              "      <th>created_at</th>\n",
              "      <th>lang</th>\n",
              "    </tr>\n",
              "  </thead>\n",
              "  <tbody>\n",
              "    <tr>\n",
              "      <th>0</th>\n",
              "      <td>@scrowder ELON MUSK IS A LIABILITY TO HIS INVE...</td>\n",
              "      <td>2022-06-15T23:25:20.000Z</td>\n",
              "      <td>en</td>\n",
              "    </tr>\n",
              "    <tr>\n",
              "      <th>1</th>\n",
              "      <td>@elonmusk @TheTexanNews @MayraFlores2022 Dumpe...</td>\n",
              "      <td>2022-06-15T23:12:04.000Z</td>\n",
              "      <td>en</td>\n",
              "    </tr>\n",
              "    <tr>\n",
              "      <th>2</th>\n",
              "      <td>Tesla becomes most valuable automaker in lates...</td>\n",
              "      <td>2022-06-15T23:08:47.000Z</td>\n",
              "      <td>en</td>\n",
              "    </tr>\n",
              "    <tr>\n",
              "      <th>3</th>\n",
              "      <td>@elonmusk @teslaownersSV Use your 100+ million...</td>\n",
              "      <td>2022-06-15T22:39:42.000Z</td>\n",
              "      <td>en</td>\n",
              "    </tr>\n",
              "    <tr>\n",
              "      <th>4</th>\n",
              "      <td>https://t.co/SHqdpbP3PY : 167dbf5b-8bac-41a4-8...</td>\n",
              "      <td>2022-06-15T22:25:43.000Z</td>\n",
              "      <td>en</td>\n",
              "    </tr>\n",
              "  </tbody>\n",
              "</table>\n",
              "</div>\n",
              "      <button class=\"colab-df-convert\" onclick=\"convertToInteractive('df-2f4a789c-63e1-4d2a-9d36-d04eaf2bdc28')\"\n",
              "              title=\"Convert this dataframe to an interactive table.\"\n",
              "              style=\"display:none;\">\n",
              "        \n",
              "  <svg xmlns=\"http://www.w3.org/2000/svg\" height=\"24px\"viewBox=\"0 0 24 24\"\n",
              "       width=\"24px\">\n",
              "    <path d=\"M0 0h24v24H0V0z\" fill=\"none\"/>\n",
              "    <path d=\"M18.56 5.44l.94 2.06.94-2.06 2.06-.94-2.06-.94-.94-2.06-.94 2.06-2.06.94zm-11 1L8.5 8.5l.94-2.06 2.06-.94-2.06-.94L8.5 2.5l-.94 2.06-2.06.94zm10 10l.94 2.06.94-2.06 2.06-.94-2.06-.94-.94-2.06-.94 2.06-2.06.94z\"/><path d=\"M17.41 7.96l-1.37-1.37c-.4-.4-.92-.59-1.43-.59-.52 0-1.04.2-1.43.59L10.3 9.45l-7.72 7.72c-.78.78-.78 2.05 0 2.83L4 21.41c.39.39.9.59 1.41.59.51 0 1.02-.2 1.41-.59l7.78-7.78 2.81-2.81c.8-.78.8-2.07 0-2.86zM5.41 20L4 18.59l7.72-7.72 1.47 1.35L5.41 20z\"/>\n",
              "  </svg>\n",
              "      </button>\n",
              "      \n",
              "  <style>\n",
              "    .colab-df-container {\n",
              "      display:flex;\n",
              "      flex-wrap:wrap;\n",
              "      gap: 12px;\n",
              "    }\n",
              "\n",
              "    .colab-df-convert {\n",
              "      background-color: #E8F0FE;\n",
              "      border: none;\n",
              "      border-radius: 50%;\n",
              "      cursor: pointer;\n",
              "      display: none;\n",
              "      fill: #1967D2;\n",
              "      height: 32px;\n",
              "      padding: 0 0 0 0;\n",
              "      width: 32px;\n",
              "    }\n",
              "\n",
              "    .colab-df-convert:hover {\n",
              "      background-color: #E2EBFA;\n",
              "      box-shadow: 0px 1px 2px rgba(60, 64, 67, 0.3), 0px 1px 3px 1px rgba(60, 64, 67, 0.15);\n",
              "      fill: #174EA6;\n",
              "    }\n",
              "\n",
              "    [theme=dark] .colab-df-convert {\n",
              "      background-color: #3B4455;\n",
              "      fill: #D2E3FC;\n",
              "    }\n",
              "\n",
              "    [theme=dark] .colab-df-convert:hover {\n",
              "      background-color: #434B5C;\n",
              "      box-shadow: 0px 1px 3px 1px rgba(0, 0, 0, 0.15);\n",
              "      filter: drop-shadow(0px 1px 2px rgba(0, 0, 0, 0.3));\n",
              "      fill: #FFFFFF;\n",
              "    }\n",
              "  </style>\n",
              "\n",
              "      <script>\n",
              "        const buttonEl =\n",
              "          document.querySelector('#df-2f4a789c-63e1-4d2a-9d36-d04eaf2bdc28 button.colab-df-convert');\n",
              "        buttonEl.style.display =\n",
              "          google.colab.kernel.accessAllowed ? 'block' : 'none';\n",
              "\n",
              "        async function convertToInteractive(key) {\n",
              "          const element = document.querySelector('#df-2f4a789c-63e1-4d2a-9d36-d04eaf2bdc28');\n",
              "          const dataTable =\n",
              "            await google.colab.kernel.invokeFunction('convertToInteractive',\n",
              "                                                     [key], {});\n",
              "          if (!dataTable) return;\n",
              "\n",
              "          const docLinkHtml = 'Like what you see? Visit the ' +\n",
              "            '<a target=\"_blank\" href=https://colab.research.google.com/notebooks/data_table.ipynb>data table notebook</a>'\n",
              "            + ' to learn more about interactive tables.';\n",
              "          element.innerHTML = '';\n",
              "          dataTable['output_type'] = 'display_data';\n",
              "          await google.colab.output.renderOutput(dataTable, element);\n",
              "          const docLink = document.createElement('div');\n",
              "          docLink.innerHTML = docLinkHtml;\n",
              "          element.appendChild(docLink);\n",
              "        }\n",
              "      </script>\n",
              "    </div>\n",
              "  </div>\n",
              "  "
            ]
          },
          "metadata": {},
          "execution_count": 118
        }
      ]
    },
    {
      "cell_type": "code",
      "source": [
        ""
      ],
      "metadata": {
        "id": "bRhYRb7Jf3Qe"
      },
      "execution_count": null,
      "outputs": []
    },
    {
      "cell_type": "code",
      "source": [
        "tfinal[\"created_at\"] = pd.to_datetime(tfinal[\"created_at\"])\n",
        "tfinal.info()"
      ],
      "metadata": {
        "colab": {
          "base_uri": "https://localhost:8080/"
        },
        "id": "rtV9EQ6Sewn-",
        "outputId": "5aca2dda-58c7-4019-fc49-482dd7a85c4c"
      },
      "execution_count": 119,
      "outputs": [
        {
          "output_type": "stream",
          "name": "stdout",
          "text": [
            "<class 'pandas.core.frame.DataFrame'>\n",
            "RangeIndex: 153939 entries, 0 to 153938\n",
            "Data columns (total 3 columns):\n",
            " #   Column      Non-Null Count   Dtype              \n",
            "---  ------      --------------   -----              \n",
            " 0   text        153939 non-null  object             \n",
            " 1   created_at  153939 non-null  datetime64[ns, UTC]\n",
            " 2   lang        153939 non-null  object             \n",
            "dtypes: datetime64[ns, UTC](1), object(2)\n",
            "memory usage: 3.5+ MB\n"
          ]
        }
      ]
    },
    {
      "cell_type": "code",
      "source": [
        "import matplotlib.pyplot as plt"
      ],
      "metadata": {
        "id": "F8iGmL9ag9v2"
      },
      "execution_count": 120,
      "outputs": []
    },
    {
      "cell_type": "code",
      "source": [
        "from textblob import TextBlob"
      ],
      "metadata": {
        "id": "1Kr_J4ntg7zq"
      },
      "execution_count": 121,
      "outputs": []
    },
    {
      "cell_type": "code",
      "source": [
        "plt.style.use(\"fivethirtyeight\")"
      ],
      "metadata": {
        "id": "W2a_SAD_g7w5"
      },
      "execution_count": 122,
      "outputs": []
    },
    {
      "cell_type": "code",
      "source": [
        "API_Key=\"TpOaJ2x2ZlK85Yc8nWxuj5G3c\"\n",
        "API_Key_Secret=\"bERVKBantrLO1qF8MJkAgrxeHd3NL3bHEReN8lz9KkvtYooIcO\"\n",
        "Access_Token=\"80347254-Mb585QCTiQu0WlylC7QsoXDGeY2uUKDYqPormSgcI\"\n",
        "Access_Token_Secret=\"56qrJX96Uaw8JaX5xRy4tlfPN7vipDxs3r3JDjYsr55no\"\n",
        "Bearer_Token=\"AAAAAAAAAAAAAAAAAAAAADz5ZwEAAAAA0AUj%2FHHhetSvet71ZMQhAPVJkDA%3DAgSbPsBdtPMjrdeTMiaiPcQCOBafQBkTRHH4ZkMEHnmS9QlI7v\"\n",
        "\n",
        "\n"
      ],
      "metadata": {
        "id": "Cy0ycQibg7uB"
      },
      "execution_count": 71,
      "outputs": []
    },
    {
      "cell_type": "code",
      "source": [
        "authenticate=tweepy.OAuthHandler(API_Key, API_Key_Secret)"
      ],
      "metadata": {
        "id": "gJxauuWeg7rJ"
      },
      "execution_count": 74,
      "outputs": []
    },
    {
      "cell_type": "code",
      "source": [
        "import matplotlib.pyplot as plt"
      ],
      "metadata": {
        "id": "jDIF-W6Bg7oL"
      },
      "execution_count": 75,
      "outputs": []
    },
    {
      "cell_type": "code",
      "source": [
        "from textblob import TextBlob"
      ],
      "metadata": {
        "id": "jyhVp3DYg7lJ"
      },
      "execution_count": 123,
      "outputs": []
    },
    {
      "cell_type": "code",
      "source": [
        "plt.style.use(\"fivethirtyeight\")"
      ],
      "metadata": {
        "id": "b0milXTLg7iC"
      },
      "execution_count": 124,
      "outputs": []
    },
    {
      "cell_type": "code",
      "source": [
        "authenticate.set_access_token(Access_Token, Access_Token_Secret)"
      ],
      "metadata": {
        "id": "XmTFhL7GfgOG"
      },
      "execution_count": 78,
      "outputs": []
    },
    {
      "cell_type": "code",
      "source": [
        "import time"
      ],
      "metadata": {
        "id": "YEvOSo1Pho2Z"
      },
      "execution_count": 125,
      "outputs": []
    },
    {
      "cell_type": "code",
      "source": [
        "def obtenerPolaridad(twt):\n",
        "    return TextBlob(twt).sentiment.polarity"
      ],
      "metadata": {
        "id": "wyntbQG9hozg"
      },
      "execution_count": 126,
      "outputs": []
    },
    {
      "cell_type": "code",
      "source": [
        "#añadimos columna con la polaridad\n",
        "\n",
        "\n",
        "tfinal[\"Polaridad\"]=tfinal[\"text\"].apply(obtenerPolaridad)"
      ],
      "metadata": {
        "id": "QqC3V4Hehowj"
      },
      "execution_count": 127,
      "outputs": []
    },
    {
      "cell_type": "code",
      "source": [
        "tfinal.head(20)"
      ],
      "metadata": {
        "colab": {
          "base_uri": "https://localhost:8080/",
          "height": 677
        },
        "id": "UMW5jduFhooZ",
        "outputId": "ccce5241-5578-4476-ec8d-64fcfe409b53"
      },
      "execution_count": 133,
      "outputs": [
        {
          "output_type": "execute_result",
          "data": {
            "text/plain": [
              "                                                 text  \\\n",
              "0   @scrowder ELON MUSK IS A LIABILITY TO HIS INVE...   \n",
              "1   @elonmusk @TheTexanNews @MayraFlores2022 Dumpe...   \n",
              "2   Tesla becomes most valuable automaker in lates...   \n",
              "3   @elonmusk @teslaownersSV Use your 100+ million...   \n",
              "4   https://t.co/SHqdpbP3PY : 167dbf5b-8bac-41a4-8...   \n",
              "5   https://t.co/SHqdpbP3PY : bdc0b577-13f5-46b6-b...   \n",
              "6   I love this guy. I am so happy to hear that my...   \n",
              "7   @SoldNever @GerberKawasaki @elonmusk Sure, but...   \n",
              "8   @GerberKawasaki @elonmusk Would you buy 25 tes...   \n",
              "9   @Independent Elon really is naive, I'm glad I ...   \n",
              "10  https://t.co/SHqdpbxsro : 8ab393a4-7d88-4856-b...   \n",
              "11  @StanphylCap Who needs a new car when you can ...   \n",
              "12  Just sold the 100 TESLA shares I bought last w...   \n",
              "13  @garyblack00 Gary, if you're right, do we have...   \n",
              "14  https://t.co/SHqdpbP3PY : c56bdec2-0dbe-466c-b...   \n",
              "15  @elonmusk Go back to work man. Tesla shares lo...   \n",
              "16  @business Um, ok\\n\\nTesla like so many other t...   \n",
              "17  Tesla Shares tumble dramatically as the LGTBQ2...   \n",
              "18  @elonmusk @BillyM2k Never mind inverse Cramer....   \n",
              "19  https://t.co/SHqdpbP3PY : f1bad7fe-1167-41ce-a...   \n",
              "\n",
              "                  created_at lang  Polaridad  \n",
              "0  2022-06-15 23:25:20+00:00   en   0.250000  \n",
              "1  2022-06-15 23:12:04+00:00   en   0.160119  \n",
              "2  2022-06-15 23:08:47+00:00   en   0.500000  \n",
              "3  2022-06-15 22:39:42+00:00   en   0.300000  \n",
              "4  2022-06-15 22:25:43+00:00   en   0.000000  \n",
              "5  2022-06-15 21:38:01+00:00   en   0.000000  \n",
              "6  2022-06-15 21:34:18+00:00   en   0.437500  \n",
              "7  2022-06-15 20:25:21+00:00   en   0.316667  \n",
              "8  2022-06-15 20:11:58+00:00   en   0.000000  \n",
              "9  2022-06-15 20:08:24+00:00   en   0.066667  \n",
              "10 2022-06-15 19:36:13+00:00   en   0.000000  \n",
              "11 2022-06-15 19:23:42+00:00   en   0.136364  \n",
              "12 2022-06-15 18:50:49+00:00   en   0.087500  \n",
              "13 2022-06-15 18:47:10+00:00   en   0.028571  \n",
              "14 2022-06-15 18:23:18+00:00   en   0.000000  \n",
              "15 2022-06-15 18:13:11+00:00   en  -0.500000  \n",
              "16 2022-06-15 17:39:09+00:00   en   0.235000  \n",
              "17 2022-06-15 17:31:22+00:00   en   0.000000  \n",
              "18 2022-06-15 17:22:21+00:00   en   0.000000  \n",
              "19 2022-06-15 17:21:47+00:00   en   0.000000  "
            ],
            "text/html": [
              "\n",
              "  <div id=\"df-7cc549bb-121a-427e-96f6-f257a12d6586\">\n",
              "    <div class=\"colab-df-container\">\n",
              "      <div>\n",
              "<style scoped>\n",
              "    .dataframe tbody tr th:only-of-type {\n",
              "        vertical-align: middle;\n",
              "    }\n",
              "\n",
              "    .dataframe tbody tr th {\n",
              "        vertical-align: top;\n",
              "    }\n",
              "\n",
              "    .dataframe thead th {\n",
              "        text-align: right;\n",
              "    }\n",
              "</style>\n",
              "<table border=\"1\" class=\"dataframe\">\n",
              "  <thead>\n",
              "    <tr style=\"text-align: right;\">\n",
              "      <th></th>\n",
              "      <th>text</th>\n",
              "      <th>created_at</th>\n",
              "      <th>lang</th>\n",
              "      <th>Polaridad</th>\n",
              "    </tr>\n",
              "  </thead>\n",
              "  <tbody>\n",
              "    <tr>\n",
              "      <th>0</th>\n",
              "      <td>@scrowder ELON MUSK IS A LIABILITY TO HIS INVE...</td>\n",
              "      <td>2022-06-15 23:25:20+00:00</td>\n",
              "      <td>en</td>\n",
              "      <td>0.250000</td>\n",
              "    </tr>\n",
              "    <tr>\n",
              "      <th>1</th>\n",
              "      <td>@elonmusk @TheTexanNews @MayraFlores2022 Dumpe...</td>\n",
              "      <td>2022-06-15 23:12:04+00:00</td>\n",
              "      <td>en</td>\n",
              "      <td>0.160119</td>\n",
              "    </tr>\n",
              "    <tr>\n",
              "      <th>2</th>\n",
              "      <td>Tesla becomes most valuable automaker in lates...</td>\n",
              "      <td>2022-06-15 23:08:47+00:00</td>\n",
              "      <td>en</td>\n",
              "      <td>0.500000</td>\n",
              "    </tr>\n",
              "    <tr>\n",
              "      <th>3</th>\n",
              "      <td>@elonmusk @teslaownersSV Use your 100+ million...</td>\n",
              "      <td>2022-06-15 22:39:42+00:00</td>\n",
              "      <td>en</td>\n",
              "      <td>0.300000</td>\n",
              "    </tr>\n",
              "    <tr>\n",
              "      <th>4</th>\n",
              "      <td>https://t.co/SHqdpbP3PY : 167dbf5b-8bac-41a4-8...</td>\n",
              "      <td>2022-06-15 22:25:43+00:00</td>\n",
              "      <td>en</td>\n",
              "      <td>0.000000</td>\n",
              "    </tr>\n",
              "    <tr>\n",
              "      <th>5</th>\n",
              "      <td>https://t.co/SHqdpbP3PY : bdc0b577-13f5-46b6-b...</td>\n",
              "      <td>2022-06-15 21:38:01+00:00</td>\n",
              "      <td>en</td>\n",
              "      <td>0.000000</td>\n",
              "    </tr>\n",
              "    <tr>\n",
              "      <th>6</th>\n",
              "      <td>I love this guy. I am so happy to hear that my...</td>\n",
              "      <td>2022-06-15 21:34:18+00:00</td>\n",
              "      <td>en</td>\n",
              "      <td>0.437500</td>\n",
              "    </tr>\n",
              "    <tr>\n",
              "      <th>7</th>\n",
              "      <td>@SoldNever @GerberKawasaki @elonmusk Sure, but...</td>\n",
              "      <td>2022-06-15 20:25:21+00:00</td>\n",
              "      <td>en</td>\n",
              "      <td>0.316667</td>\n",
              "    </tr>\n",
              "    <tr>\n",
              "      <th>8</th>\n",
              "      <td>@GerberKawasaki @elonmusk Would you buy 25 tes...</td>\n",
              "      <td>2022-06-15 20:11:58+00:00</td>\n",
              "      <td>en</td>\n",
              "      <td>0.000000</td>\n",
              "    </tr>\n",
              "    <tr>\n",
              "      <th>9</th>\n",
              "      <td>@Independent Elon really is naive, I'm glad I ...</td>\n",
              "      <td>2022-06-15 20:08:24+00:00</td>\n",
              "      <td>en</td>\n",
              "      <td>0.066667</td>\n",
              "    </tr>\n",
              "    <tr>\n",
              "      <th>10</th>\n",
              "      <td>https://t.co/SHqdpbxsro : 8ab393a4-7d88-4856-b...</td>\n",
              "      <td>2022-06-15 19:36:13+00:00</td>\n",
              "      <td>en</td>\n",
              "      <td>0.000000</td>\n",
              "    </tr>\n",
              "    <tr>\n",
              "      <th>11</th>\n",
              "      <td>@StanphylCap Who needs a new car when you can ...</td>\n",
              "      <td>2022-06-15 19:23:42+00:00</td>\n",
              "      <td>en</td>\n",
              "      <td>0.136364</td>\n",
              "    </tr>\n",
              "    <tr>\n",
              "      <th>12</th>\n",
              "      <td>Just sold the 100 TESLA shares I bought last w...</td>\n",
              "      <td>2022-06-15 18:50:49+00:00</td>\n",
              "      <td>en</td>\n",
              "      <td>0.087500</td>\n",
              "    </tr>\n",
              "    <tr>\n",
              "      <th>13</th>\n",
              "      <td>@garyblack00 Gary, if you're right, do we have...</td>\n",
              "      <td>2022-06-15 18:47:10+00:00</td>\n",
              "      <td>en</td>\n",
              "      <td>0.028571</td>\n",
              "    </tr>\n",
              "    <tr>\n",
              "      <th>14</th>\n",
              "      <td>https://t.co/SHqdpbP3PY : c56bdec2-0dbe-466c-b...</td>\n",
              "      <td>2022-06-15 18:23:18+00:00</td>\n",
              "      <td>en</td>\n",
              "      <td>0.000000</td>\n",
              "    </tr>\n",
              "    <tr>\n",
              "      <th>15</th>\n",
              "      <td>@elonmusk Go back to work man. Tesla shares lo...</td>\n",
              "      <td>2022-06-15 18:13:11+00:00</td>\n",
              "      <td>en</td>\n",
              "      <td>-0.500000</td>\n",
              "    </tr>\n",
              "    <tr>\n",
              "      <th>16</th>\n",
              "      <td>@business Um, ok\\n\\nTesla like so many other t...</td>\n",
              "      <td>2022-06-15 17:39:09+00:00</td>\n",
              "      <td>en</td>\n",
              "      <td>0.235000</td>\n",
              "    </tr>\n",
              "    <tr>\n",
              "      <th>17</th>\n",
              "      <td>Tesla Shares tumble dramatically as the LGTBQ2...</td>\n",
              "      <td>2022-06-15 17:31:22+00:00</td>\n",
              "      <td>en</td>\n",
              "      <td>0.000000</td>\n",
              "    </tr>\n",
              "    <tr>\n",
              "      <th>18</th>\n",
              "      <td>@elonmusk @BillyM2k Never mind inverse Cramer....</td>\n",
              "      <td>2022-06-15 17:22:21+00:00</td>\n",
              "      <td>en</td>\n",
              "      <td>0.000000</td>\n",
              "    </tr>\n",
              "    <tr>\n",
              "      <th>19</th>\n",
              "      <td>https://t.co/SHqdpbP3PY : f1bad7fe-1167-41ce-a...</td>\n",
              "      <td>2022-06-15 17:21:47+00:00</td>\n",
              "      <td>en</td>\n",
              "      <td>0.000000</td>\n",
              "    </tr>\n",
              "  </tbody>\n",
              "</table>\n",
              "</div>\n",
              "      <button class=\"colab-df-convert\" onclick=\"convertToInteractive('df-7cc549bb-121a-427e-96f6-f257a12d6586')\"\n",
              "              title=\"Convert this dataframe to an interactive table.\"\n",
              "              style=\"display:none;\">\n",
              "        \n",
              "  <svg xmlns=\"http://www.w3.org/2000/svg\" height=\"24px\"viewBox=\"0 0 24 24\"\n",
              "       width=\"24px\">\n",
              "    <path d=\"M0 0h24v24H0V0z\" fill=\"none\"/>\n",
              "    <path d=\"M18.56 5.44l.94 2.06.94-2.06 2.06-.94-2.06-.94-.94-2.06-.94 2.06-2.06.94zm-11 1L8.5 8.5l.94-2.06 2.06-.94-2.06-.94L8.5 2.5l-.94 2.06-2.06.94zm10 10l.94 2.06.94-2.06 2.06-.94-2.06-.94-.94-2.06-.94 2.06-2.06.94z\"/><path d=\"M17.41 7.96l-1.37-1.37c-.4-.4-.92-.59-1.43-.59-.52 0-1.04.2-1.43.59L10.3 9.45l-7.72 7.72c-.78.78-.78 2.05 0 2.83L4 21.41c.39.39.9.59 1.41.59.51 0 1.02-.2 1.41-.59l7.78-7.78 2.81-2.81c.8-.78.8-2.07 0-2.86zM5.41 20L4 18.59l7.72-7.72 1.47 1.35L5.41 20z\"/>\n",
              "  </svg>\n",
              "      </button>\n",
              "      \n",
              "  <style>\n",
              "    .colab-df-container {\n",
              "      display:flex;\n",
              "      flex-wrap:wrap;\n",
              "      gap: 12px;\n",
              "    }\n",
              "\n",
              "    .colab-df-convert {\n",
              "      background-color: #E8F0FE;\n",
              "      border: none;\n",
              "      border-radius: 50%;\n",
              "      cursor: pointer;\n",
              "      display: none;\n",
              "      fill: #1967D2;\n",
              "      height: 32px;\n",
              "      padding: 0 0 0 0;\n",
              "      width: 32px;\n",
              "    }\n",
              "\n",
              "    .colab-df-convert:hover {\n",
              "      background-color: #E2EBFA;\n",
              "      box-shadow: 0px 1px 2px rgba(60, 64, 67, 0.3), 0px 1px 3px 1px rgba(60, 64, 67, 0.15);\n",
              "      fill: #174EA6;\n",
              "    }\n",
              "\n",
              "    [theme=dark] .colab-df-convert {\n",
              "      background-color: #3B4455;\n",
              "      fill: #D2E3FC;\n",
              "    }\n",
              "\n",
              "    [theme=dark] .colab-df-convert:hover {\n",
              "      background-color: #434B5C;\n",
              "      box-shadow: 0px 1px 3px 1px rgba(0, 0, 0, 0.15);\n",
              "      filter: drop-shadow(0px 1px 2px rgba(0, 0, 0, 0.3));\n",
              "      fill: #FFFFFF;\n",
              "    }\n",
              "  </style>\n",
              "\n",
              "      <script>\n",
              "        const buttonEl =\n",
              "          document.querySelector('#df-7cc549bb-121a-427e-96f6-f257a12d6586 button.colab-df-convert');\n",
              "        buttonEl.style.display =\n",
              "          google.colab.kernel.accessAllowed ? 'block' : 'none';\n",
              "\n",
              "        async function convertToInteractive(key) {\n",
              "          const element = document.querySelector('#df-7cc549bb-121a-427e-96f6-f257a12d6586');\n",
              "          const dataTable =\n",
              "            await google.colab.kernel.invokeFunction('convertToInteractive',\n",
              "                                                     [key], {});\n",
              "          if (!dataTable) return;\n",
              "\n",
              "          const docLinkHtml = 'Like what you see? Visit the ' +\n",
              "            '<a target=\"_blank\" href=https://colab.research.google.com/notebooks/data_table.ipynb>data table notebook</a>'\n",
              "            + ' to learn more about interactive tables.';\n",
              "          element.innerHTML = '';\n",
              "          dataTable['output_type'] = 'display_data';\n",
              "          await google.colab.output.renderOutput(dataTable, element);\n",
              "          const docLink = document.createElement('div');\n",
              "          docLink.innerHTML = docLinkHtml;\n",
              "          element.appendChild(docLink);\n",
              "        }\n",
              "      </script>\n",
              "    </div>\n",
              "  </div>\n",
              "  "
            ]
          },
          "metadata": {},
          "execution_count": 133
        }
      ]
    },
    {
      "cell_type": "code",
      "source": [
        ""
      ],
      "metadata": {
        "id": "AxZUQ0Gpt5l3"
      },
      "execution_count": null,
      "outputs": []
    },
    {
      "cell_type": "code",
      "source": [
        "tfinal[\"Polaridad\"].describe()"
      ],
      "metadata": {
        "colab": {
          "base_uri": "https://localhost:8080/"
        },
        "id": "P_1Asd9JtXGK",
        "outputId": "d243aafb-f5ea-4f9d-a3de-4660c87b9fce"
      },
      "execution_count": 132,
      "outputs": [
        {
          "output_type": "execute_result",
          "data": {
            "text/plain": [
              "count    153939.000000\n",
              "mean          0.066984\n",
              "std           0.226517\n",
              "min          -1.000000\n",
              "25%           0.000000\n",
              "50%           0.000000\n",
              "75%           0.160000\n",
              "max           1.000000\n",
              "Name: Polaridad, dtype: float64"
            ]
          },
          "metadata": {},
          "execution_count": 132
        }
      ]
    },
    {
      "cell_type": "code",
      "source": [
        ""
      ],
      "metadata": {
        "id": "8C6KwVanthnQ"
      },
      "execution_count": null,
      "outputs": []
    },
    {
      "cell_type": "code",
      "source": [
        ""
      ],
      "metadata": {
        "id": "SJmqTGMNj7Iv"
      },
      "execution_count": null,
      "outputs": []
    },
    {
      "cell_type": "code",
      "source": [
        "df_pordia=tfinal.groupby(by=tfinal[\"created_at\"].dt.date).mean()"
      ],
      "metadata": {
        "id": "cI7B3zcliE9t"
      },
      "execution_count": 134,
      "outputs": []
    },
    {
      "cell_type": "code",
      "source": [
        "df_pordia.info()"
      ],
      "metadata": {
        "colab": {
          "base_uri": "https://localhost:8080/"
        },
        "id": "bn53nMgBhoi5",
        "outputId": "70a5cf9b-3675-44ba-f3fb-adab95c0a70d"
      },
      "execution_count": 137,
      "outputs": [
        {
          "output_type": "stream",
          "name": "stdout",
          "text": [
            "<class 'pandas.core.frame.DataFrame'>\n",
            "Index: 2784 entries, 2014-01-02 to 2022-06-15\n",
            "Data columns (total 1 columns):\n",
            " #   Column     Non-Null Count  Dtype  \n",
            "---  ------     --------------  -----  \n",
            " 0   Polaridad  2784 non-null   float64\n",
            "dtypes: float64(1)\n",
            "memory usage: 43.5+ KB\n"
          ]
        }
      ]
    },
    {
      "cell_type": "code",
      "source": [
        ""
      ],
      "metadata": {
        "id": "LRu8deVNubm7"
      },
      "execution_count": null,
      "outputs": []
    },
    {
      "cell_type": "code",
      "source": [
        ""
      ],
      "metadata": {
        "id": "hAMhD9nwkB28"
      },
      "execution_count": null,
      "outputs": []
    },
    {
      "cell_type": "code",
      "source": [
        "df_pordia.to_csv(\"datospolaridadteslatwitter.csv\")"
      ],
      "metadata": {
        "id": "2Oppe7MrjO5n"
      },
      "execution_count": 136,
      "outputs": []
    },
    {
      "cell_type": "code",
      "source": [
        ""
      ],
      "metadata": {
        "id": "9wkdK7VZgU_W"
      },
      "execution_count": null,
      "outputs": []
    },
    {
      "cell_type": "code",
      "source": [
        ""
      ],
      "metadata": {
        "id": "2akpO-vhicQx"
      },
      "execution_count": null,
      "outputs": []
    },
    {
      "cell_type": "code",
      "source": [
        ""
      ],
      "metadata": {
        "id": "-4dF0-vNgSBm"
      },
      "execution_count": null,
      "outputs": []
    },
    {
      "cell_type": "code",
      "source": [
        ""
      ],
      "metadata": {
        "id": "ZFSXJFuwf__r"
      },
      "execution_count": null,
      "outputs": []
    },
    {
      "cell_type": "code",
      "source": [
        ""
      ],
      "metadata": {
        "id": "cLJGasE5cene"
      },
      "execution_count": null,
      "outputs": []
    },
    {
      "cell_type": "code",
      "source": [
        ""
      ],
      "metadata": {
        "id": "QhYILmn7cc5T"
      },
      "execution_count": null,
      "outputs": []
    },
    {
      "cell_type": "code",
      "source": [
        ""
      ],
      "metadata": {
        "id": "nGCpUEQscTG1"
      },
      "execution_count": null,
      "outputs": []
    },
    {
      "cell_type": "code",
      "source": [
        ""
      ],
      "metadata": {
        "id": "HrirFE5Vc-ov"
      },
      "execution_count": null,
      "outputs": []
    },
    {
      "cell_type": "code",
      "source": [
        ""
      ],
      "metadata": {
        "id": "3_DG52k9atUK"
      },
      "execution_count": null,
      "outputs": []
    }
  ]
}