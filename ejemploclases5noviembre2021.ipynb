{
  "nbformat": 4,
  "nbformat_minor": 0,
  "metadata": {
    "colab": {
      "name": "ejemploclases5noviembre2021.ipynb",
      "provenance": [],
      "authorship_tag": "ABX9TyOd5ImqnU/ThTaxt7tEUgTM",
      "include_colab_link": true
    },
    "kernelspec": {
      "name": "python3",
      "display_name": "Python 3"
    },
    "language_info": {
      "name": "python"
    }
  },
  "cells": [
    {
      "cell_type": "markdown",
      "metadata": {
        "id": "view-in-github",
        "colab_type": "text"
      },
      "source": [
        "<a href=\"https://colab.research.google.com/github/ricardocarreras/Bootcamp_DataScience_student/blob/master/ejemploclases5noviembre2021.ipynb\" target=\"_parent\"><img src=\"https://colab.research.google.com/assets/colab-badge.svg\" alt=\"Open In Colab\"/></a>"
      ]
    },
    {
      "cell_type": "code",
      "metadata": {
        "id": "rJGeu0OwFoPz"
      },
      "source": [
        "\n",
        "import unittest"
      ],
      "execution_count": 5,
      "outputs": []
    },
    {
      "cell_type": "code",
      "metadata": {
        "colab": {
          "base_uri": "https://localhost:8080/"
        },
        "id": "HcqiaF4tGqyJ",
        "outputId": "b8e80e16-76b7-4162-d628-dee00e82e78e"
      },
      "source": [
        "Lista = [16,66]\n",
        "\n",
        "Mas_largo = Lista[0]\n",
        "\n",
        "for num2 in Lista:\n",
        "\n",
        "    if num2 > Mas_largo:\n",
        "\n",
        "        Máslargo=num2\n",
        "\n",
        "print(Mas_largo)"
      ],
      "execution_count": 12,
      "outputs": [
        {
          "output_type": "stream",
          "name": "stdout",
          "text": [
            "16\n"
          ]
        }
      ]
    },
    {
      "cell_type": "code",
      "metadata": {
        "id": "OpGphNaTKXHn"
      },
      "source": [
        "data = 7 # variable global\n",
        "\n",
        "# definimos una función con argumento X\n",
        "def behaviour(x):\n",
        "  return x*2\n",
        "\n",
        "  print (behaviour (data))"
      ],
      "execution_count": 6,
      "outputs": []
    },
    {
      "cell_type": "code",
      "metadata": {
        "id": "SOW_LKFyuSCl"
      },
      "source": [
        "creamos objeto\n",
        "\n",
        "mobile = {\n",
        "    \"fabricante\" : \"Appel\", \n",
        "    \"modelo\" : \"iphone13\",\n",
        "    \"tamaño\": 6.5,\n",
        "    \"color\" : \"silver\",\n",
        "    \n",
        "}"
      ],
      "execution_count": null,
      "outputs": []
    },
    {
      "cell_type": "code",
      "metadata": {
        "colab": {
          "base_uri": "https://localhost:8080/"
        },
        "id": "tQrXZh3LuGGl",
        "outputId": "d8e23f29-9ca7-4a23-9ca3-ccc301ba726b"
      },
      "source": [
        "print (data)"
      ],
      "execution_count": 5,
      "outputs": [
        {
          "output_type": "stream",
          "name": "stdout",
          "text": [
            "7\n"
          ]
        }
      ]
    },
    {
      "cell_type": "code",
      "metadata": {
        "id": "bJyADsgRuJcy"
      },
      "source": [
        "mobile = {\n",
        "    \"fabricante\" : \"Apple\",\n",
        "    \"modelo\" : \"iPhone13\",\n",
        "    \"tamaño\" : 6.5,\n",
        "    \"peso\" : 200,\n",
        "    \"color\" : \"silver\",\n",
        "    \"RAM\" : 8,\n",
        "    \"memoria\": 512,\n",
        "    \"camera\" : {\n",
        "        \"frontal\" :{\"resolución\": \"15MP\"},\n",
        "        \"back\": [\n",
        "            {\"tipo\":\"zoom\",\n",
        "            \"resolución\":\"25MP\"},\n",
        "            {\"tipo\":\"macro\",\n",
        "             \"resolución\":\"30MP\"}\n",
        "        ]\n",
        "    },\n",
        "    \"bateria\" : {\n",
        "        \"tipo\":\"Litio\",\n",
        "        \"maxCarga\":4500,\n",
        "        \"cargaActual\":0.56\n",
        "    },\n",
        "    \"apps\": [\n",
        "        {\"name\":\"Whatsapp\",\n",
        "         \"version\":\"2.3.44\"}\n",
        "    ]\n",
        "}"
      ],
      "execution_count": 42,
      "outputs": []
    },
    {
      "cell_type": "code",
      "metadata": {
        "id": "hy-zCLUdCfZe"
      },
      "source": [
        ""
      ],
      "execution_count": null,
      "outputs": []
    },
    {
      "cell_type": "code",
      "metadata": {
        "id": "EQyR5wQ_tQx6"
      },
      "source": [
        "# deba actuar sobre la bateria y cambiar su estado a carga = n"
      ],
      "execution_count": null,
      "outputs": []
    },
    {
      "cell_type": "code",
      "metadata": {
        "id": "Xf5Y_tlRtI34"
      },
      "source": [
        "\n",
        "def carga_bateria(baterian):\n",
        "\n",
        "  baterian [\"bateria\"] [\"cargaActual\"] = 1\n",
        "\n",
        "  return baterian\n",
        "\n",
        "  carga_bateria (mobile)\n"
      ],
      "execution_count": 22,
      "outputs": []
    },
    {
      "cell_type": "code",
      "metadata": {
        "id": "_trPAdqs5SoB"
      },
      "source": [
        "# funcion para instalar zoom en el móvil \n",
        "\n",
        "def aplicacion_nueva(mobile, app):\n",
        "\n",
        "  mobile[\"apps\"].append(app)\n",
        "\n",
        "  mobile [\"apps\"]\n",
        "\n",
        "  zoom_app = {\"name\":\"zoom\", \"version\": \"2.3.4\"}\n",
        "\n",
        "  aplicacion_nueva (mobile, zoom_app)\n"
      ],
      "execution_count": 40,
      "outputs": []
    },
    {
      "cell_type": "code",
      "metadata": {
        "colab": {
          "base_uri": "https://localhost:8080/"
        },
        "id": "Tzs2Ds49Ccq6",
        "outputId": "ab5380b0-e765-4cd9-c859-cf5ba5fd48cc"
      },
      "source": [
        "class mobile:\n",
        "\n",
        "  def __init__(self, ram, display, price, camara, bateria): \n",
        "\t  self.ram= ram\n",
        "\t  self.display= display\n",
        "\t  self.price= price\n",
        "\t  self.camara=camara\n",
        "\t  self.bateria=bateria\n",
        "\n",
        "    #creamos metodos (variables) para configurar los atributos de la clase\n",
        "\n",
        "  def set_ram(self, ram):\n",
        "    self.ram=ram\n",
        "\n",
        "  def set_display(self,display):\n",
        "    self.display=display\n",
        "\n",
        "  def set_price(self, price):\n",
        "    self.price=price\n",
        "\n",
        "  def set_camara(self, camara):\n",
        "    self.camara=camara\n",
        "\n",
        "  def set_bateria(self,bateria):\n",
        "    self.bateria=bateria\n",
        "\n",
        "  def get_ram(self):\n",
        "    return self.ram\n",
        "\n",
        "\n",
        "pepe = mobile(19, \"popo\", \"pipa\", \"poeo\", \"pro\")\n",
        "pepe.get_ram()\n"
      ],
      "execution_count": 67,
      "outputs": [
        {
          "output_type": "execute_result",
          "data": {
            "text/plain": [
              "19"
            ]
          },
          "metadata": {},
          "execution_count": 67
        }
      ]
    },
    {
      "cell_type": "code",
      "metadata": {
        "colab": {
          "base_uri": "https://localhost:8080/",
          "height": 197
        },
        "id": "IyR0PeXTcB9K",
        "outputId": "cea798d9-6594-4150-d10c-a3916b0e0c47"
      },
      "source": [
        "class apple(mobile):\n",
        "\n",
        "    def __init__(self, ram, display, price, camara, bateria, detalle):\n",
        "\n",
        "        mobile.def__init__(self, ram, display, price, camara, bateria)\n",
        "\n",
        "        self.detalle = detalle\n",
        "       \n",
        "    def set_detalle(self, detalle):\n",
        "        self.detalle = detalle\n",
        "        return self.detalle\n",
        "        \n",
        "    def get_detalle(self):\n",
        "        return self.detalle\n",
        "\n",
        "pepe_prueba = mobile.apple (\"uh\", \"oi\", \"pepe\", 19, \"uy\", \"ui\")"
      ],
      "execution_count": 89,
      "outputs": [
        {
          "output_type": "error",
          "ename": "AttributeError",
          "evalue": "ignored",
          "traceback": [
            "\u001b[0;31m---------------------------------------------------------------------------\u001b[0m",
            "\u001b[0;31mAttributeError\u001b[0m                            Traceback (most recent call last)",
            "\u001b[0;32m<ipython-input-89-c7c15aebf649>\u001b[0m in \u001b[0;36m<module>\u001b[0;34m()\u001b[0m\n\u001b[1;32m     14\u001b[0m         \u001b[0;32mreturn\u001b[0m \u001b[0mself\u001b[0m\u001b[0;34m.\u001b[0m\u001b[0mdetalle\u001b[0m\u001b[0;34m\u001b[0m\u001b[0;34m\u001b[0m\u001b[0m\n\u001b[1;32m     15\u001b[0m \u001b[0;34m\u001b[0m\u001b[0m\n\u001b[0;32m---> 16\u001b[0;31m \u001b[0mpepe_prueba\u001b[0m\u001b[0;34m=\u001b[0m\u001b[0mmobile\u001b[0m\u001b[0;34m.\u001b[0m\u001b[0mapple\u001b[0m \u001b[0;34m(\u001b[0m\u001b[0;34m\"uh\"\u001b[0m\u001b[0;34m,\u001b[0m \u001b[0;34m\"oi\"\u001b[0m\u001b[0;34m,\u001b[0m \u001b[0;34m\"pepe\"\u001b[0m\u001b[0;34m,\u001b[0m \u001b[0;36m19\u001b[0m\u001b[0;34m,\u001b[0m \u001b[0;34m\"uy\"\u001b[0m\u001b[0;34m,\u001b[0m \u001b[0;34m\"ui\"\u001b[0m\u001b[0;34m)\u001b[0m\u001b[0;34m\u001b[0m\u001b[0;34m\u001b[0m\u001b[0m\n\u001b[0m",
            "\u001b[0;31mAttributeError\u001b[0m: type object 'mobile' has no attribute 'apple'"
          ]
        }
      ]
    },
    {
      "cell_type": "code",
      "metadata": {
        "id": "ZBotjtoJj8JL"
      },
      "source": [
        ""
      ],
      "execution_count": null,
      "outputs": []
    },
    {
      "cell_type": "code",
      "metadata": {
        "colab": {
          "base_uri": "https://localhost:8080/"
        },
        "id": "XCxqb9h_j5Yd",
        "outputId": "21723683-b140-49c7-e237-271e59c23558"
      },
      "source": [
        "class pet:\n",
        "\n",
        "    def __init__(self, altura, peso, sexo, raza, edad):\n",
        "\n",
        "        self.altura = altura\n",
        "        self.peso = peso\n",
        "        self.sexo = sexo\n",
        "        self.raza = raza\n",
        "        self.edad = edad\n",
        "        \n",
        "    def set_altura(self, altura):\n",
        "        self.altura = altura\n",
        "        return self.altura\n",
        "        \n",
        "    def set_peso(self, peso):\n",
        "        self.peso = peso\n",
        "    \n",
        "    def set_sexo(self, sexo):\n",
        "        self.sexo = sexo\n",
        "\n",
        "    def set_raza(self, raza):\n",
        "        self.raza = raza\n",
        "\n",
        "    def set_edad(self, edad):\n",
        "        self.edad = edad\n",
        "\n",
        "    def get_altura(self):\n",
        "        return self.altura\n",
        "    \n",
        "    def get_peso(self):\n",
        "        return self.peso\n",
        "\n",
        "    def present (self):\n",
        "    \n",
        "        return f\"Hola, mi peso es {self.peso}, y soy un {self.raza} y soy {self.sexo}!\"\n"
      ],
      "execution_count": 90,
      "outputs": [
        {
          "output_type": "execute_result",
          "data": {
            "text/plain": [
              "<__main__.pet at 0x7fbb96e82e50>"
            ]
          },
          "metadata": {},
          "execution_count": 90
        }
      ]
    },
    {
      "cell_type": "code",
      "metadata": {
        "id": "jidfBsnAwsOM"
      },
      "source": [
        "pedro = pet(1, 50, \"macho\", \"canina\", 75)"
      ],
      "execution_count": 91,
      "outputs": []
    },
    {
      "cell_type": "code",
      "metadata": {
        "id": "XOUrq4kgw6bV"
      },
      "source": [
        "class pet:\n",
        "\n",
        "    def __init__(self, altura, peso, sexo, raza, edad):\n",
        "\n",
        "        self.altura = altura\n",
        "        self.peso = peso\n",
        "        self.sexo = sexo\n",
        "        self.raza = raza\n",
        "        self.edad = edad\n",
        "        \n",
        "    def set_altura(self, altura):\n",
        "        self.altura = altura\n",
        "        return self.altura\n",
        "        \n",
        "    def set_peso(self, peso):\n",
        "        self.peso = peso\n",
        "    \n",
        "    def set_sexo(self, sexo):\n",
        "        self.sexo = sexo\n",
        "\n",
        "    def set_raza(self, raza):\n",
        "        self.raza = raza\n",
        "\n",
        "    def set_edad(self, edad):\n",
        "        self.edad = edad\n",
        "\n",
        "    def get_altura(self):\n",
        "        return self.altura\n",
        "    \n",
        "    def get_peso(self):\n",
        "        return self.peso\n",
        "\n",
        "    def present (self):\n",
        "    \n",
        "        return f\"Hola, mi peso es {self.peso}, y soy un {self.raza} y soy {self.sexo}!\"\n",
        "\n",
        "lagarto= pet(30, 50, \"macho\", \"reptil\", 75)"
      ],
      "execution_count": 93,
      "outputs": []
    },
    {
      "cell_type": "code",
      "metadata": {
        "id": "A9XI8XiVyRgU"
      },
      "source": [
        "class pet:\n",
        "\n",
        "    def __init__(self, altura, peso, sexo, raza, edad):\n",
        "\n",
        "        self.altura = altura\n",
        "        self.peso = peso\n",
        "        self.sexo = sexo\n",
        "        self.raza = raza\n",
        "        self.edad = edad\n",
        "        \n",
        "    def set_altura(self, altura):\n",
        "        self.altura = altura\n",
        "        return self.altura\n",
        "        \n",
        "    def set_peso(self, peso):\n",
        "        self.peso = peso\n",
        "    \n",
        "    def set_sexo(self, sexo):\n",
        "        self.sexo = sexo\n",
        "\n",
        "    def set_raza(self, raza):\n",
        "        self.raza = raza\n",
        "\n",
        "    def set_edad(self, edad):\n",
        "        self.edad = edad\n",
        "\n",
        "    def get_altura(self):\n",
        "        return self.altura\n",
        "    \n",
        "    def get_peso(self):\n",
        "        return self.peso\n",
        "\n",
        "    def present (self):\n",
        "    \n",
        "        return f\"Hola, mi peso es {self.peso}, y soy un {self.raza} y soy {self.sexo}!\"\n",
        "\n",
        "lagarto= pet(30, 50, \"macho\", \"reptil\", 75)\n",
        "\n",
        "class perro (pet):\n",
        "\n",
        "    def __init__(self, altura, peso, sexo, raza, edad, correa):\n",
        "\n",
        "        pet.__init__(self, altura, peso, sexo, raza, edad)\n",
        "\n",
        "        self.correa = correa\n",
        "\n",
        "    def set_correa(self, correa):\n",
        "        self.correa = correa\n",
        "    \n",
        "    def get_correa(self):\n",
        "        return self.correa\n",
        "\n",
        "    def present (self):\n",
        "    \n",
        "        return f\"Hola, mi peso es {self.peso}, y soy un {self.raza} y soy {self.sexo}!\"\n",
        "\n",
        "class gato (pet):\n",
        "\n",
        "    def __init__(self, altura, peso, sexo, raza, edad, color):\n",
        "\n",
        "        pet.__init__(self, altura, peso, sexo, raza, edad)\n",
        "\n",
        "        self.color = color\n",
        "\n",
        "    def set_color (self, color):\n",
        "        self.color = color\n",
        "    \n",
        "    def get_color(self):\n",
        "        return self.color\n",
        "\n",
        "    def present (self):\n",
        "    \n",
        "        return f\"Hola, mi peso es {self.peso}, y soy un {self.raza} y soy de color {self.color}!\""
      ],
      "execution_count": 96,
      "outputs": []
    },
    {
      "cell_type": "code",
      "metadata": {
        "id": "mvpLoRYszAvf"
      },
      "source": [
        "\n",
        "class pet:\n",
        "\n",
        "    def __init__(self, altura, peso, sexo, raza, edad):\n",
        "\n",
        "        self.altura = altura\n",
        "        self.peso = peso\n",
        "        self.sexo = sexo\n",
        "        self.raza = raza\n",
        "        self.edad = edad\n",
        "        \n",
        "    def set_altura(self, altura):\n",
        "        self.altura = altura\n",
        "        return self.altura\n",
        "        \n",
        "    def set_peso(self, peso):\n",
        "        self.peso = peso\n",
        "    \n",
        "    def set_sexo(self, sexo):\n",
        "        self.sexo = sexo\n",
        "\n",
        "    def set_raza(self, raza):\n",
        "        self.raza = raza\n",
        "\n",
        "    def set_edad(self, edad):\n",
        "        self.edad = edad\n",
        "\n",
        "    def get_altura(self):\n",
        "        return self.altura\n",
        "    \n",
        "    def get_peso(self):\n",
        "        return self.peso\n",
        "\n",
        "    def present (self):\n",
        "    \n",
        "        return f\"Hola, mi peso es {self.peso}, y soy un {self.raza} y soy {self.sexo}!\"\n",
        "\n",
        "lagarto= pet(30, 50, \"macho\", \"reptil\", 75)\n",
        "\n",
        "class perro (pet):\n",
        "\n",
        "    def __init__(self, altura, peso, sexo, raza, edad, correa):\n",
        "\n",
        "        pet.__init__(self, altura, peso, sexo, raza, edad)\n",
        "\n",
        "        self.correa = correa\n",
        "\n",
        "    def set_correa(self, correa):\n",
        "        self.correa = correa\n",
        "    \n",
        "    def get_correa(self):\n",
        "        return self.correa\n",
        "\n",
        "    def present (self):\n",
        "    \n",
        "        return f\"Hola, mi peso es {self.peso}, y soy un {self.raza} y soy {self.sexo}!\"\n",
        "\n",
        "class gato (pet):\n",
        "\n",
        "    def __init__(self, altura, peso, sexo, raza, edad, color):\n",
        "\n",
        "        pet.__init__(self, altura, peso, sexo, raza, edad)\n",
        "\n",
        "        self.color = color\n",
        "\n",
        "    def set_color (self, color):\n",
        "        self.color = color\n",
        "    \n",
        "    def get_color(self):\n",
        "        return self.color\n",
        "\n",
        "    def present (self):\n",
        "    \n",
        "        return f\"Hola, mi peso es {self.peso}, y soy un {self.raza} y soy de color {self.color}!\"\n",
        "\n",
        "pedro = gato(1, 5, \"macho\", \"siames\", 45, \"verde\")"
      ],
      "execution_count": 98,
      "outputs": []
    },
    {
      "cell_type": "code",
      "metadata": {
        "colab": {
          "base_uri": "https://localhost:8080/",
          "height": 35
        },
        "id": "oIfcVD3oz9pf",
        "outputId": "cb619f81-b3e8-41fe-83f9-f0bd64ad0bcc"
      },
      "source": [
        "pedro.color"
      ],
      "execution_count": 100,
      "outputs": [
        {
          "output_type": "execute_result",
          "data": {
            "application/vnd.google.colaboratory.intrinsic+json": {
              "type": "string"
            },
            "text/plain": [
              "'verde'"
            ]
          },
          "metadata": {},
          "execution_count": 100
        }
      ]
    },
    {
      "cell_type": "code",
      "metadata": {
        "colab": {
          "base_uri": "https://localhost:8080/",
          "height": 35
        },
        "id": "SrS7l7Up2z6_",
        "outputId": "e9eebf28-0ea6-4e94-f1c2-1ebdbe7820fa"
      },
      "source": [
        "pedro.raza"
      ],
      "execution_count": 101,
      "outputs": [
        {
          "output_type": "execute_result",
          "data": {
            "application/vnd.google.colaboratory.intrinsic+json": {
              "type": "string"
            },
            "text/plain": [
              "'siames'"
            ]
          },
          "metadata": {},
          "execution_count": 101
        }
      ]
    },
    {
      "cell_type": "code",
      "metadata": {
        "id": "2EV0uT2J22CD"
      },
      "source": [
        ""
      ],
      "execution_count": null,
      "outputs": []
    },
    {
      "cell_type": "code",
      "metadata": {
        "id": "3QDqw2d1zyeb"
      },
      "source": [
        ""
      ],
      "execution_count": null,
      "outputs": []
    },
    {
      "cell_type": "code",
      "metadata": {
        "id": "2OnsUGFcyNp3"
      },
      "source": [
        ""
      ],
      "execution_count": null,
      "outputs": []
    },
    {
      "cell_type": "code",
      "metadata": {
        "id": "CPlwcNuXw_GH"
      },
      "source": [
        ""
      ],
      "execution_count": null,
      "outputs": []
    },
    {
      "cell_type": "code",
      "metadata": {
        "id": "vUeFHn-rjb1-"
      },
      "source": [
        ""
      ],
      "execution_count": null,
      "outputs": []
    },
    {
      "cell_type": "code",
      "metadata": {
        "id": "lzG10YiljZqB"
      },
      "source": [
        ""
      ],
      "execution_count": null,
      "outputs": []
    },
    {
      "cell_type": "code",
      "metadata": {
        "id": "J4fWgNisjW2k"
      },
      "source": [
        ""
      ],
      "execution_count": null,
      "outputs": []
    },
    {
      "cell_type": "code",
      "metadata": {
        "id": "tzMFV4UQjR3G"
      },
      "source": [
        ""
      ],
      "execution_count": null,
      "outputs": []
    },
    {
      "cell_type": "code",
      "metadata": {
        "id": "Gmj2q0sEi6m2"
      },
      "source": [
        ""
      ],
      "execution_count": null,
      "outputs": []
    },
    {
      "cell_type": "code",
      "metadata": {
        "id": "tLfkiieWjCch"
      },
      "source": [
        ""
      ],
      "execution_count": null,
      "outputs": []
    },
    {
      "cell_type": "code",
      "metadata": {
        "id": "GGEJFdGWi7kI"
      },
      "source": [
        ""
      ],
      "execution_count": null,
      "outputs": []
    },
    {
      "cell_type": "code",
      "metadata": {
        "id": "V40aHxD6ize1"
      },
      "source": [
        ""
      ],
      "execution_count": null,
      "outputs": []
    },
    {
      "cell_type": "code",
      "metadata": {
        "id": "5XTvHOy5h_MG"
      },
      "source": [
        ""
      ],
      "execution_count": null,
      "outputs": []
    },
    {
      "cell_type": "code",
      "metadata": {
        "id": "hsbaOJifh77O"
      },
      "source": [
        ""
      ],
      "execution_count": null,
      "outputs": []
    },
    {
      "cell_type": "code",
      "metadata": {
        "id": "fnuSTk2Yhzym"
      },
      "source": [
        ""
      ],
      "execution_count": null,
      "outputs": []
    },
    {
      "cell_type": "code",
      "metadata": {
        "id": "cTbI-Kg-htPO"
      },
      "source": [
        ""
      ],
      "execution_count": null,
      "outputs": []
    },
    {
      "cell_type": "code",
      "metadata": {
        "id": "NtkDOqvOhpDh"
      },
      "source": [
        ""
      ],
      "execution_count": null,
      "outputs": []
    },
    {
      "cell_type": "code",
      "metadata": {
        "id": "v1Sxqt9ohmL0"
      },
      "source": [
        ""
      ],
      "execution_count": null,
      "outputs": []
    },
    {
      "cell_type": "code",
      "metadata": {
        "id": "jC6vqvV-hdOe"
      },
      "source": [
        ""
      ],
      "execution_count": null,
      "outputs": []
    },
    {
      "cell_type": "code",
      "metadata": {
        "id": "JwWKAERAhBj7"
      },
      "source": [
        ""
      ],
      "execution_count": null,
      "outputs": []
    },
    {
      "cell_type": "code",
      "metadata": {
        "id": "jKCvjtIfg5va"
      },
      "source": [
        ""
      ],
      "execution_count": null,
      "outputs": []
    },
    {
      "cell_type": "code",
      "metadata": {
        "id": "pPgB5zBmb_Lq"
      },
      "source": [
        ""
      ],
      "execution_count": null,
      "outputs": []
    },
    {
      "cell_type": "code",
      "metadata": {
        "id": "nXF6i0XBbZqw"
      },
      "source": [
        ""
      ],
      "execution_count": null,
      "outputs": []
    },
    {
      "cell_type": "code",
      "metadata": {
        "id": "RZeCGBulbV8Z"
      },
      "source": [
        ""
      ],
      "execution_count": null,
      "outputs": []
    },
    {
      "cell_type": "code",
      "metadata": {
        "id": "uWX25T-BbRC-"
      },
      "source": [
        ""
      ],
      "execution_count": null,
      "outputs": []
    },
    {
      "cell_type": "code",
      "metadata": {
        "id": "QarPf8FvbETD"
      },
      "source": [
        ""
      ],
      "execution_count": null,
      "outputs": []
    },
    {
      "cell_type": "code",
      "metadata": {
        "id": "wKsyQEdjbB7w"
      },
      "source": [
        ""
      ],
      "execution_count": null,
      "outputs": []
    },
    {
      "cell_type": "code",
      "metadata": {
        "id": "biDPTio0a_QD"
      },
      "source": [
        ""
      ],
      "execution_count": null,
      "outputs": []
    },
    {
      "cell_type": "code",
      "metadata": {
        "id": "SbMGWTB7auAX"
      },
      "source": [
        ""
      ],
      "execution_count": null,
      "outputs": []
    },
    {
      "cell_type": "code",
      "metadata": {
        "id": "VQtshKH6Z3_m"
      },
      "source": [
        ""
      ],
      "execution_count": null,
      "outputs": []
    },
    {
      "cell_type": "code",
      "metadata": {
        "id": "0RZ1rKZYZyO5"
      },
      "source": [
        ""
      ],
      "execution_count": null,
      "outputs": []
    },
    {
      "cell_type": "code",
      "metadata": {
        "id": "P1foa1EAYfJX"
      },
      "source": [
        ""
      ],
      "execution_count": null,
      "outputs": []
    },
    {
      "cell_type": "code",
      "metadata": {
        "id": "JjA09wR9Xt4x"
      },
      "source": [
        ""
      ],
      "execution_count": null,
      "outputs": []
    },
    {
      "cell_type": "code",
      "metadata": {
        "id": "IsUYMuEAXO7W"
      },
      "source": [
        ""
      ],
      "execution_count": null,
      "outputs": []
    },
    {
      "cell_type": "code",
      "metadata": {
        "id": "7hH37JUhXLsj"
      },
      "source": [
        ""
      ],
      "execution_count": null,
      "outputs": []
    },
    {
      "cell_type": "code",
      "metadata": {
        "id": "nkjR3e3hWZrP"
      },
      "source": [
        ""
      ],
      "execution_count": null,
      "outputs": []
    },
    {
      "cell_type": "code",
      "metadata": {
        "id": "wfJhTJAvWR4L"
      },
      "source": [
        ""
      ],
      "execution_count": null,
      "outputs": []
    },
    {
      "cell_type": "code",
      "metadata": {
        "id": "BbgMcGd5WLLM"
      },
      "source": [
        ""
      ],
      "execution_count": null,
      "outputs": []
    },
    {
      "cell_type": "code",
      "metadata": {
        "id": "AVo9a5ZbV7R3"
      },
      "source": [
        ""
      ],
      "execution_count": null,
      "outputs": []
    },
    {
      "cell_type": "code",
      "metadata": {
        "id": "phlgz_3TV1Zq"
      },
      "source": [
        ""
      ],
      "execution_count": null,
      "outputs": []
    },
    {
      "cell_type": "code",
      "metadata": {
        "id": "rwCwJfyNVyfa"
      },
      "source": [
        ""
      ],
      "execution_count": null,
      "outputs": []
    },
    {
      "cell_type": "code",
      "metadata": {
        "id": "9k3vwaJQVwc6"
      },
      "source": [
        ""
      ],
      "execution_count": null,
      "outputs": []
    },
    {
      "cell_type": "code",
      "metadata": {
        "id": "9EENMJIVVmVU"
      },
      "source": [
        ""
      ],
      "execution_count": null,
      "outputs": []
    },
    {
      "cell_type": "code",
      "metadata": {
        "id": "s70ao4ELVhU2"
      },
      "source": [
        ""
      ],
      "execution_count": null,
      "outputs": []
    },
    {
      "cell_type": "code",
      "metadata": {
        "id": "zSZG-qmWVeyF"
      },
      "source": [
        ""
      ],
      "execution_count": null,
      "outputs": []
    },
    {
      "cell_type": "code",
      "metadata": {
        "id": "CR0kfj3vVXO3"
      },
      "source": [
        ""
      ],
      "execution_count": null,
      "outputs": []
    },
    {
      "cell_type": "code",
      "metadata": {
        "id": "8WHNoRqh_H9H"
      },
      "source": [
        ""
      ],
      "execution_count": null,
      "outputs": []
    },
    {
      "cell_type": "code",
      "metadata": {
        "id": "_J_u_APO-V80"
      },
      "source": [
        ""
      ],
      "execution_count": null,
      "outputs": []
    },
    {
      "cell_type": "code",
      "metadata": {
        "id": "eJw2_cjp-RbW"
      },
      "source": [
        ""
      ],
      "execution_count": null,
      "outputs": []
    },
    {
      "cell_type": "code",
      "metadata": {
        "id": "eNppahaV891Y"
      },
      "source": [
        ""
      ],
      "execution_count": null,
      "outputs": []
    },
    {
      "cell_type": "code",
      "metadata": {
        "id": "On4NHbro8v4S"
      },
      "source": [
        ""
      ],
      "execution_count": null,
      "outputs": []
    },
    {
      "cell_type": "code",
      "metadata": {
        "id": "2gMYdTRl8q45"
      },
      "source": [
        ""
      ],
      "execution_count": null,
      "outputs": []
    },
    {
      "cell_type": "code",
      "metadata": {
        "id": "rarCFMfv8jBc"
      },
      "source": [
        ""
      ],
      "execution_count": null,
      "outputs": []
    },
    {
      "cell_type": "code",
      "metadata": {
        "id": "3bOaLtaF8fsj"
      },
      "source": [
        ""
      ],
      "execution_count": null,
      "outputs": []
    },
    {
      "cell_type": "code",
      "metadata": {
        "id": "IA17-bkp8ayt"
      },
      "source": [
        ""
      ],
      "execution_count": null,
      "outputs": []
    },
    {
      "cell_type": "code",
      "metadata": {
        "id": "7rDB2OXq7rqw"
      },
      "source": [
        ""
      ],
      "execution_count": null,
      "outputs": []
    },
    {
      "cell_type": "code",
      "metadata": {
        "id": "zFOFyc787n7V"
      },
      "source": [
        ""
      ],
      "execution_count": null,
      "outputs": []
    },
    {
      "cell_type": "code",
      "metadata": {
        "id": "GSufTpSX7k-v"
      },
      "source": [
        ""
      ],
      "execution_count": null,
      "outputs": []
    },
    {
      "cell_type": "code",
      "metadata": {
        "id": "3IdZxJOh7io1"
      },
      "source": [
        ""
      ],
      "execution_count": null,
      "outputs": []
    },
    {
      "cell_type": "code",
      "metadata": {
        "id": "mS4o7KTH7dCy"
      },
      "source": [
        ""
      ],
      "execution_count": null,
      "outputs": []
    },
    {
      "cell_type": "code",
      "metadata": {
        "id": "5w0WydK37bD6"
      },
      "source": [
        ""
      ],
      "execution_count": null,
      "outputs": []
    },
    {
      "cell_type": "code",
      "metadata": {
        "id": "BuG9d_4w7R7l"
      },
      "source": [
        ""
      ],
      "execution_count": null,
      "outputs": []
    },
    {
      "cell_type": "code",
      "metadata": {
        "id": "iXAHIhgU7Oai"
      },
      "source": [
        ""
      ],
      "execution_count": null,
      "outputs": []
    },
    {
      "cell_type": "code",
      "metadata": {
        "id": "wXs2-hRA33yD"
      },
      "source": [
        ""
      ],
      "execution_count": null,
      "outputs": []
    },
    {
      "cell_type": "code",
      "metadata": {
        "id": "L6vhtdqr2_O8"
      },
      "source": [
        ""
      ],
      "execution_count": null,
      "outputs": []
    },
    {
      "cell_type": "code",
      "metadata": {
        "id": "cMOJ9-Pa2ix0"
      },
      "source": [
        ""
      ],
      "execution_count": null,
      "outputs": []
    },
    {
      "cell_type": "code",
      "metadata": {
        "id": "ftUbvGGH2S49"
      },
      "source": [
        ""
      ],
      "execution_count": null,
      "outputs": []
    },
    {
      "cell_type": "code",
      "metadata": {
        "id": "x8XcsKM-2QX1"
      },
      "source": [
        ""
      ],
      "execution_count": null,
      "outputs": []
    },
    {
      "cell_type": "code",
      "metadata": {
        "id": "lanKXCKz2N3D"
      },
      "source": [
        ""
      ],
      "execution_count": null,
      "outputs": []
    },
    {
      "cell_type": "code",
      "metadata": {
        "id": "EAYGxP4d2JKl"
      },
      "source": [
        ""
      ],
      "execution_count": null,
      "outputs": []
    },
    {
      "cell_type": "code",
      "metadata": {
        "id": "4j0Esd-d2Gqm"
      },
      "source": [
        ""
      ],
      "execution_count": null,
      "outputs": []
    },
    {
      "cell_type": "code",
      "metadata": {
        "id": "jTeLvIqE1t_x"
      },
      "source": [
        ""
      ],
      "execution_count": null,
      "outputs": []
    },
    {
      "cell_type": "code",
      "metadata": {
        "id": "WxT0IQwV1d1_"
      },
      "source": [
        ""
      ],
      "execution_count": null,
      "outputs": []
    },
    {
      "cell_type": "code",
      "metadata": {
        "id": "ia4_soV71bbL"
      },
      "source": [
        ""
      ],
      "execution_count": null,
      "outputs": []
    },
    {
      "cell_type": "code",
      "metadata": {
        "id": "7gXzJKX51FEk"
      },
      "source": [
        ""
      ],
      "execution_count": null,
      "outputs": []
    },
    {
      "cell_type": "code",
      "metadata": {
        "id": "vS71JoAC1CNG"
      },
      "source": [
        ""
      ],
      "execution_count": null,
      "outputs": []
    },
    {
      "cell_type": "code",
      "metadata": {
        "id": "ksgmH8WQ091b"
      },
      "source": [
        ""
      ],
      "execution_count": null,
      "outputs": []
    },
    {
      "cell_type": "code",
      "metadata": {
        "id": "3J7zIhTKKHYO"
      },
      "source": [
        ""
      ],
      "execution_count": null,
      "outputs": []
    },
    {
      "cell_type": "code",
      "metadata": {
        "id": "lMJK0nUDJ6XR"
      },
      "source": [
        ""
      ],
      "execution_count": null,
      "outputs": []
    },
    {
      "cell_type": "code",
      "metadata": {
        "id": "lM6egxqfJ16m"
      },
      "source": [
        ""
      ],
      "execution_count": null,
      "outputs": []
    },
    {
      "cell_type": "code",
      "metadata": {
        "id": "VR0VBV9RHavA"
      },
      "source": [
        ""
      ],
      "execution_count": null,
      "outputs": []
    },
    {
      "cell_type": "code",
      "metadata": {
        "id": "illHWCw0HUVC"
      },
      "source": [
        ""
      ],
      "execution_count": null,
      "outputs": []
    },
    {
      "cell_type": "code",
      "metadata": {
        "id": "dSLHlzObHM_b"
      },
      "source": [
        ""
      ],
      "execution_count": null,
      "outputs": []
    },
    {
      "cell_type": "code",
      "metadata": {
        "id": "qgMxAshWHKKT"
      },
      "source": [
        ""
      ],
      "execution_count": null,
      "outputs": []
    },
    {
      "cell_type": "code",
      "metadata": {
        "id": "nQeXp5_EG5-x"
      },
      "source": [
        ""
      ],
      "execution_count": null,
      "outputs": []
    },
    {
      "cell_type": "code",
      "metadata": {
        "id": "P1G-XCyRGsw2"
      },
      "source": [
        ""
      ],
      "execution_count": null,
      "outputs": []
    },
    {
      "cell_type": "code",
      "metadata": {
        "id": "JiEyqdCgGphT"
      },
      "source": [
        ""
      ],
      "execution_count": null,
      "outputs": []
    },
    {
      "cell_type": "code",
      "metadata": {
        "id": "LsWtfeo0Gnz1"
      },
      "source": [
        ""
      ],
      "execution_count": null,
      "outputs": []
    },
    {
      "cell_type": "code",
      "metadata": {
        "id": "flk-uc_4Glfg"
      },
      "source": [
        ""
      ],
      "execution_count": null,
      "outputs": []
    },
    {
      "cell_type": "code",
      "metadata": {
        "id": "w6Vdqs2mFpZS"
      },
      "source": [
        ""
      ],
      "execution_count": null,
      "outputs": []
    }
  ]
}