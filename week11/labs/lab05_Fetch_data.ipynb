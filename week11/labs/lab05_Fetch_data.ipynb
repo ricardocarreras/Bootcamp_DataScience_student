{
  "nbformat": 4,
  "nbformat_minor": 0,
  "metadata": {
    "colab": {
      "name": "lab05 - Fetch data",
      "provenance": []
    },
    "kernelspec": {
      "name": "python3",
      "display_name": "Python 3"
    },
    "language_info": {
      "name": "python"
    }
  },
  "cells": [
    {
      "cell_type": "markdown",
      "source": [
        "### Ejercicio 5\n",
        "\n",
        "Queremos programar una función que devuelva la fecha y hora de los 10 próximos pases de la estación espacial internacional ([ISS](http://api.open-notify.org)) sobre la Torre Eiffel  (especificada por su **longitud** y **latitud**). La función debe devolver una lista de 10 elementos, cada uno de los cuales debe ser una cadena de caracteres con la fecha y la hora de los pases."
      ],
      "metadata": {
        "id": "z2zwUgnGf1zL"
      }
    },
    {
      "cell_type": "code",
      "execution_count": null,
      "metadata": {
        "id": "dsxGKIMHfyiN"
      },
      "outputs": [],
      "source": [
        "# Respuesta\n",
        "http://api.open-notify.org/iss-pass.json"
      ]
    }
  ]
}