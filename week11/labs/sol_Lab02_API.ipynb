{
  "nbformat": 4,
  "nbformat_minor": 0,
  "metadata": {
    "colab": {
      "name": "sol_Lab02 - API",
      "provenance": [],
      "collapsed_sections": []
    },
    "kernelspec": {
      "name": "python3",
      "display_name": "Python 3"
    },
    "language_info": {
      "name": "python"
    }
  },
  "cells": [
    {
      "cell_type": "markdown",
      "source": [
        "### Ejercicio 2\n",
        "\n",
        "Implementad un conjunto de funciones para obtener la **secuencia de ADN** del organismo *Homo sapiens* del cromosoma 1 (**chr1**) desde la posición 100000 hasta 101000 para la referencia **hg19**.  Para realizar el ejercicio utilizad la API de [UCSC](https://genome.ucsc.edu/goldenPath/help/api.html).\n",
        "\n",
        "**Nota**: El genoma de referencia de una célula es un repositorio de secuencias de ADN ( ácido desoxirribonucleico) empaquetado en forma de cromosoma. El ADN es un ácido nucleico que contiene la información genética que dirige el desarrollo y el funcionamiento de todos los seres vivos. El ADN se puede entender como una secuencia de nucleótidos (A, C, T y G) de una determinada longitud.  Este material hereditario codifica los genes que, una vez descifrados, son indispensables para la síntesis de las proteínas. \n",
        "\n",
        "Un genoma de referencia es la representación de la secuencia de ADN del genoma de una especie.  En el caso del organismo *Homo sapiens*, existen diferentes versiones del genoma de referencia.  La última versión, hg38, se publicó en el 2014 y es la más detallada y precisa.\n",
        "\n",
        "UCSC es un navegador de la Universidad de Santa Cruz de California que ofrece acceso a secuencias genómicas y su correspondiente anotación (genes, mRNAs, CpG,…) de una gran variedad de organismos, vertebrados e invertebrados. \n",
        "\n",
        "Referencia: [Genómica Computacional](http://discovery.uoc.edu/iii/encore/record/C__Rb1046448__Sgenomica%20Computacional__Orightresult__U__X7?lang=cat&suite=def). Enrique Blanco. Barcelona, Universitat Oberta de Catalunya, 2011.\n",
        "\n",
        "**Importante**: No es necesario entender toda la información que podéis obtener a través de la API de UCSC. Fijaros bien con lo que os pide el enunciado ( prestad atención a la palabras clave en negrita), y revisad los ejemplos de acceso a los datos que hay en la web de [UCSC](https://genome.ucsc.edu/goldenPath/help/api.html).\n"
      ],
      "metadata": {
        "id": "bHkwdQIPXlfY"
      }
    },
    {
      "cell_type": "code",
      "source": [
        "# Respuesta\n",
        "import requests\n",
        "import json"
      ],
      "metadata": {
        "id": "jUqfpRKhXmmD"
      },
      "execution_count": null,
      "outputs": []
    },
    {
      "cell_type": "code",
      "source": [
        "def parse_response(response):\n",
        "  data = None\n",
        "  if response.status_code == 200:\n",
        "    # Los datos están formateados en str\n",
        "    data = json.loads(response.content)\n",
        "  else:\n",
        "    raise Exception(f\"Error en la respuesta {response.status_code}, {response.reason}\")\n",
        "  return data"
      ],
      "metadata": {
        "id": "7gapT3aAiE26"
      },
      "execution_count": null,
      "outputs": []
    },
    {
      "cell_type": "code",
      "source": [
        "def get_sequence_UCSC(endpoint, genome_ref, chrom, start, end):\n",
        "  base_url = endpoint + \"genome=\" + genome_ref + \";chrom=\" + chrom + \";start=\" +  start + \";end=\" + end\n",
        "\n",
        "  # Creamos la petición\n",
        "  response = requests.get(base_url)\n",
        "\n",
        "  # Realizamos el check de la petición\n",
        "  data = parse_response(response)\n",
        "\n",
        "  if data:\n",
        "    dna = data.get('dna')\n",
        "  return dna"
      ],
      "metadata": {
        "id": "R8vFeQr-iHZi"
      },
      "execution_count": null,
      "outputs": []
    },
    {
      "cell_type": "code",
      "source": [
        "endpoint = \"https://api.genome.ucsc.edu/getData/sequence?\"\n",
        "gen_ref = \"hg19\"\n",
        "chrom = 'chr1'\n",
        "start = '100000'\n",
        "end = '101000'"
      ],
      "metadata": {
        "id": "xnqKbYxXinXV"
      },
      "execution_count": null,
      "outputs": []
    },
    {
      "cell_type": "code",
      "source": [
        "sequence_data = get_sequence_UCSC(endpoint, gen_ref, chrom, start, end)"
      ],
      "metadata": {
        "id": "71KY28hFkDc9"
      },
      "execution_count": null,
      "outputs": []
    },
    {
      "cell_type": "code",
      "source": [
        "print(sequence_data[0:11])"
      ],
      "metadata": {
        "colab": {
          "base_uri": "https://localhost:8080/"
        },
        "id": "Bi2Gj-O1kMBy",
        "outputId": "314c30a8-4462-44b2-abc3-fdb746d65409"
      },
      "execution_count": null,
      "outputs": [
        {
          "output_type": "stream",
          "name": "stdout",
          "text": [
            "actaagcacac\n"
          ]
        }
      ]
    },
    {
      "cell_type": "code",
      "source": [
        "len(sequence_data)"
      ],
      "metadata": {
        "colab": {
          "base_uri": "https://localhost:8080/"
        },
        "id": "sE9memNIjyEI",
        "outputId": "c7439534-dcb3-414b-8a3d-8aaaffb9b88e"
      },
      "execution_count": null,
      "outputs": [
        {
          "output_type": "execute_result",
          "data": {
            "text/plain": [
              "1000"
            ]
          },
          "metadata": {},
          "execution_count": 9
        }
      ]
    }
  ]
}