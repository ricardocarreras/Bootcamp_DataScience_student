{
  "nbformat": 4,
  "nbformat_minor": 0,
  "metadata": {
    "colab": {
      "name": "pelismodelos1.ipynb",
      "provenance": [],
      "authorship_tag": "ABX9TyP9Ccom9ULP5Jw/QQgv344A",
      "include_colab_link": true
    },
    "kernelspec": {
      "name": "python3",
      "display_name": "Python 3"
    },
    "language_info": {
      "name": "python"
    }
  },
  "cells": [
    {
      "cell_type": "markdown",
      "metadata": {
        "id": "view-in-github",
        "colab_type": "text"
      },
      "source": [
        "<a href=\"https://colab.research.google.com/github/ricardocarreras/Bootcamp_DataScience_student/blob/master/pelismodelos1.ipynb\" target=\"_parent\"><img src=\"https://colab.research.google.com/assets/colab-badge.svg\" alt=\"Open In Colab\"/></a>"
      ]
    },
    {
      "cell_type": "code",
      "execution_count": 26,
      "metadata": {
        "colab": {
          "base_uri": "https://localhost:8080/",
          "height": 595
        },
        "id": "q_14fGXIAYEV",
        "outputId": "efc7b06b-fac2-4354-ba07-ae75da45f823"
      },
      "outputs": [
        {
          "output_type": "execute_result",
          "data": {
            "text/plain": [
              "                             pelicula   año  ratings  genero     ventas  \\\n",
              "0                             13 Sins  2014      6.3       8       9130   \n",
              "1                      22 Jump Street  2014      7.1       1  192000000   \n",
              "2                      3 Days to Kill  2014      6.2       1   30700000   \n",
              "3              300: Rise of an Empire  2014      6.3       1  106000000   \n",
              "4                   A Haunted House 2  2014      4.7       8   17300000   \n",
              "5                      A Long Way Off  2014      4.6       3      29000   \n",
              "6   A Million Ways to Die in the West  2014      6.1       8   42600000   \n",
              "7                 A Most Violent Year  2014      7.1       1    5750000   \n",
              "8         A Walk Among the Tombstones  2014      6.5      10   26000000   \n",
              "9                    About Last Night  2014      6.1       8   48600000   \n",
              "10                    American Sniper  2014      7.3       1  350000000   \n",
              "\n",
              "    presupuesto  secuela  vistas_youtube  positivos_youtube  \\\n",
              "0     4000000.0        1         3280543               4632   \n",
              "1    50000000.0        2          583289               3465   \n",
              "2    28000000.0        1          304861                328   \n",
              "3   110000000.0        2          452917               2429   \n",
              "4     3500000.0        2         3145573              12163   \n",
              "5      500000.0        1           91137                112   \n",
              "6    40000000.0        1         3013011               9595   \n",
              "7    20000000.0        1         1854103               2207   \n",
              "8    28000000.0        1         2213659               2210   \n",
              "9    12500000.0        1         5218079              11709   \n",
              "10   58800000.0        1         3927600              13143   \n",
              "\n",
              "    negativos_youtube  comentarios  seguidores_agregados  \n",
              "0                 425          636             1120000.0  \n",
              "1                  61          186            12350000.0  \n",
              "2                  34           47              483000.0  \n",
              "3                 132          590              568000.0  \n",
              "4                 610         1082             1923800.0  \n",
              "5                   7            1              310000.0  \n",
              "6                 419         1020             8153000.0  \n",
              "7                 197          593              130655.0  \n",
              "8                 419          382              125646.0  \n",
              "9                 532          770            21697300.0  \n",
              "10                573         3134               24300.0  "
            ],
            "text/html": [
              "\n",
              "  <div id=\"df-3b2166da-c3c6-47cd-ae6e-6ce2e2eea1c0\">\n",
              "    <div class=\"colab-df-container\">\n",
              "      <div>\n",
              "<style scoped>\n",
              "    .dataframe tbody tr th:only-of-type {\n",
              "        vertical-align: middle;\n",
              "    }\n",
              "\n",
              "    .dataframe tbody tr th {\n",
              "        vertical-align: top;\n",
              "    }\n",
              "\n",
              "    .dataframe thead th {\n",
              "        text-align: right;\n",
              "    }\n",
              "</style>\n",
              "<table border=\"1\" class=\"dataframe\">\n",
              "  <thead>\n",
              "    <tr style=\"text-align: right;\">\n",
              "      <th></th>\n",
              "      <th>pelicula</th>\n",
              "      <th>año</th>\n",
              "      <th>ratings</th>\n",
              "      <th>genero</th>\n",
              "      <th>ventas</th>\n",
              "      <th>presupuesto</th>\n",
              "      <th>secuela</th>\n",
              "      <th>vistas_youtube</th>\n",
              "      <th>positivos_youtube</th>\n",
              "      <th>negativos_youtube</th>\n",
              "      <th>comentarios</th>\n",
              "      <th>seguidores_agregados</th>\n",
              "    </tr>\n",
              "  </thead>\n",
              "  <tbody>\n",
              "    <tr>\n",
              "      <th>0</th>\n",
              "      <td>13 Sins</td>\n",
              "      <td>2014</td>\n",
              "      <td>6.3</td>\n",
              "      <td>8</td>\n",
              "      <td>9130</td>\n",
              "      <td>4000000.0</td>\n",
              "      <td>1</td>\n",
              "      <td>3280543</td>\n",
              "      <td>4632</td>\n",
              "      <td>425</td>\n",
              "      <td>636</td>\n",
              "      <td>1120000.0</td>\n",
              "    </tr>\n",
              "    <tr>\n",
              "      <th>1</th>\n",
              "      <td>22 Jump Street</td>\n",
              "      <td>2014</td>\n",
              "      <td>7.1</td>\n",
              "      <td>1</td>\n",
              "      <td>192000000</td>\n",
              "      <td>50000000.0</td>\n",
              "      <td>2</td>\n",
              "      <td>583289</td>\n",
              "      <td>3465</td>\n",
              "      <td>61</td>\n",
              "      <td>186</td>\n",
              "      <td>12350000.0</td>\n",
              "    </tr>\n",
              "    <tr>\n",
              "      <th>2</th>\n",
              "      <td>3 Days to Kill</td>\n",
              "      <td>2014</td>\n",
              "      <td>6.2</td>\n",
              "      <td>1</td>\n",
              "      <td>30700000</td>\n",
              "      <td>28000000.0</td>\n",
              "      <td>1</td>\n",
              "      <td>304861</td>\n",
              "      <td>328</td>\n",
              "      <td>34</td>\n",
              "      <td>47</td>\n",
              "      <td>483000.0</td>\n",
              "    </tr>\n",
              "    <tr>\n",
              "      <th>3</th>\n",
              "      <td>300: Rise of an Empire</td>\n",
              "      <td>2014</td>\n",
              "      <td>6.3</td>\n",
              "      <td>1</td>\n",
              "      <td>106000000</td>\n",
              "      <td>110000000.0</td>\n",
              "      <td>2</td>\n",
              "      <td>452917</td>\n",
              "      <td>2429</td>\n",
              "      <td>132</td>\n",
              "      <td>590</td>\n",
              "      <td>568000.0</td>\n",
              "    </tr>\n",
              "    <tr>\n",
              "      <th>4</th>\n",
              "      <td>A Haunted House 2</td>\n",
              "      <td>2014</td>\n",
              "      <td>4.7</td>\n",
              "      <td>8</td>\n",
              "      <td>17300000</td>\n",
              "      <td>3500000.0</td>\n",
              "      <td>2</td>\n",
              "      <td>3145573</td>\n",
              "      <td>12163</td>\n",
              "      <td>610</td>\n",
              "      <td>1082</td>\n",
              "      <td>1923800.0</td>\n",
              "    </tr>\n",
              "    <tr>\n",
              "      <th>5</th>\n",
              "      <td>A Long Way Off</td>\n",
              "      <td>2014</td>\n",
              "      <td>4.6</td>\n",
              "      <td>3</td>\n",
              "      <td>29000</td>\n",
              "      <td>500000.0</td>\n",
              "      <td>1</td>\n",
              "      <td>91137</td>\n",
              "      <td>112</td>\n",
              "      <td>7</td>\n",
              "      <td>1</td>\n",
              "      <td>310000.0</td>\n",
              "    </tr>\n",
              "    <tr>\n",
              "      <th>6</th>\n",
              "      <td>A Million Ways to Die in the West</td>\n",
              "      <td>2014</td>\n",
              "      <td>6.1</td>\n",
              "      <td>8</td>\n",
              "      <td>42600000</td>\n",
              "      <td>40000000.0</td>\n",
              "      <td>1</td>\n",
              "      <td>3013011</td>\n",
              "      <td>9595</td>\n",
              "      <td>419</td>\n",
              "      <td>1020</td>\n",
              "      <td>8153000.0</td>\n",
              "    </tr>\n",
              "    <tr>\n",
              "      <th>7</th>\n",
              "      <td>A Most Violent Year</td>\n",
              "      <td>2014</td>\n",
              "      <td>7.1</td>\n",
              "      <td>1</td>\n",
              "      <td>5750000</td>\n",
              "      <td>20000000.0</td>\n",
              "      <td>1</td>\n",
              "      <td>1854103</td>\n",
              "      <td>2207</td>\n",
              "      <td>197</td>\n",
              "      <td>593</td>\n",
              "      <td>130655.0</td>\n",
              "    </tr>\n",
              "    <tr>\n",
              "      <th>8</th>\n",
              "      <td>A Walk Among the Tombstones</td>\n",
              "      <td>2014</td>\n",
              "      <td>6.5</td>\n",
              "      <td>10</td>\n",
              "      <td>26000000</td>\n",
              "      <td>28000000.0</td>\n",
              "      <td>1</td>\n",
              "      <td>2213659</td>\n",
              "      <td>2210</td>\n",
              "      <td>419</td>\n",
              "      <td>382</td>\n",
              "      <td>125646.0</td>\n",
              "    </tr>\n",
              "    <tr>\n",
              "      <th>9</th>\n",
              "      <td>About Last Night</td>\n",
              "      <td>2014</td>\n",
              "      <td>6.1</td>\n",
              "      <td>8</td>\n",
              "      <td>48600000</td>\n",
              "      <td>12500000.0</td>\n",
              "      <td>1</td>\n",
              "      <td>5218079</td>\n",
              "      <td>11709</td>\n",
              "      <td>532</td>\n",
              "      <td>770</td>\n",
              "      <td>21697300.0</td>\n",
              "    </tr>\n",
              "    <tr>\n",
              "      <th>10</th>\n",
              "      <td>American Sniper</td>\n",
              "      <td>2014</td>\n",
              "      <td>7.3</td>\n",
              "      <td>1</td>\n",
              "      <td>350000000</td>\n",
              "      <td>58800000.0</td>\n",
              "      <td>1</td>\n",
              "      <td>3927600</td>\n",
              "      <td>13143</td>\n",
              "      <td>573</td>\n",
              "      <td>3134</td>\n",
              "      <td>24300.0</td>\n",
              "    </tr>\n",
              "  </tbody>\n",
              "</table>\n",
              "</div>\n",
              "      <button class=\"colab-df-convert\" onclick=\"convertToInteractive('df-3b2166da-c3c6-47cd-ae6e-6ce2e2eea1c0')\"\n",
              "              title=\"Convert this dataframe to an interactive table.\"\n",
              "              style=\"display:none;\">\n",
              "        \n",
              "  <svg xmlns=\"http://www.w3.org/2000/svg\" height=\"24px\"viewBox=\"0 0 24 24\"\n",
              "       width=\"24px\">\n",
              "    <path d=\"M0 0h24v24H0V0z\" fill=\"none\"/>\n",
              "    <path d=\"M18.56 5.44l.94 2.06.94-2.06 2.06-.94-2.06-.94-.94-2.06-.94 2.06-2.06.94zm-11 1L8.5 8.5l.94-2.06 2.06-.94-2.06-.94L8.5 2.5l-.94 2.06-2.06.94zm10 10l.94 2.06.94-2.06 2.06-.94-2.06-.94-.94-2.06-.94 2.06-2.06.94z\"/><path d=\"M17.41 7.96l-1.37-1.37c-.4-.4-.92-.59-1.43-.59-.52 0-1.04.2-1.43.59L10.3 9.45l-7.72 7.72c-.78.78-.78 2.05 0 2.83L4 21.41c.39.39.9.59 1.41.59.51 0 1.02-.2 1.41-.59l7.78-7.78 2.81-2.81c.8-.78.8-2.07 0-2.86zM5.41 20L4 18.59l7.72-7.72 1.47 1.35L5.41 20z\"/>\n",
              "  </svg>\n",
              "      </button>\n",
              "      \n",
              "  <style>\n",
              "    .colab-df-container {\n",
              "      display:flex;\n",
              "      flex-wrap:wrap;\n",
              "      gap: 12px;\n",
              "    }\n",
              "\n",
              "    .colab-df-convert {\n",
              "      background-color: #E8F0FE;\n",
              "      border: none;\n",
              "      border-radius: 50%;\n",
              "      cursor: pointer;\n",
              "      display: none;\n",
              "      fill: #1967D2;\n",
              "      height: 32px;\n",
              "      padding: 0 0 0 0;\n",
              "      width: 32px;\n",
              "    }\n",
              "\n",
              "    .colab-df-convert:hover {\n",
              "      background-color: #E2EBFA;\n",
              "      box-shadow: 0px 1px 2px rgba(60, 64, 67, 0.3), 0px 1px 3px 1px rgba(60, 64, 67, 0.15);\n",
              "      fill: #174EA6;\n",
              "    }\n",
              "\n",
              "    [theme=dark] .colab-df-convert {\n",
              "      background-color: #3B4455;\n",
              "      fill: #D2E3FC;\n",
              "    }\n",
              "\n",
              "    [theme=dark] .colab-df-convert:hover {\n",
              "      background-color: #434B5C;\n",
              "      box-shadow: 0px 1px 3px 1px rgba(0, 0, 0, 0.15);\n",
              "      filter: drop-shadow(0px 1px 2px rgba(0, 0, 0, 0.3));\n",
              "      fill: #FFFFFF;\n",
              "    }\n",
              "  </style>\n",
              "\n",
              "      <script>\n",
              "        const buttonEl =\n",
              "          document.querySelector('#df-3b2166da-c3c6-47cd-ae6e-6ce2e2eea1c0 button.colab-df-convert');\n",
              "        buttonEl.style.display =\n",
              "          google.colab.kernel.accessAllowed ? 'block' : 'none';\n",
              "\n",
              "        async function convertToInteractive(key) {\n",
              "          const element = document.querySelector('#df-3b2166da-c3c6-47cd-ae6e-6ce2e2eea1c0');\n",
              "          const dataTable =\n",
              "            await google.colab.kernel.invokeFunction('convertToInteractive',\n",
              "                                                     [key], {});\n",
              "          if (!dataTable) return;\n",
              "\n",
              "          const docLinkHtml = 'Like what you see? Visit the ' +\n",
              "            '<a target=\"_blank\" href=https://colab.research.google.com/notebooks/data_table.ipynb>data table notebook</a>'\n",
              "            + ' to learn more about interactive tables.';\n",
              "          element.innerHTML = '';\n",
              "          dataTable['output_type'] = 'display_data';\n",
              "          await google.colab.output.renderOutput(dataTable, element);\n",
              "          const docLink = document.createElement('div');\n",
              "          docLink.innerHTML = docLinkHtml;\n",
              "          element.appendChild(docLink);\n",
              "        }\n",
              "      </script>\n",
              "    </div>\n",
              "  </div>\n",
              "  "
            ]
          },
          "metadata": {},
          "execution_count": 26
        }
      ],
      "source": [
        "import pandas as pd   # Tratamiento dataframes\n",
        "import numpy as np # Mates\n",
        "import matplotlib.pyplot as plt #Gráficas\n",
        "import seaborn as sns #Gráficas aún más chulas\n",
        "import scipy # Estadísticas, ciencia\n",
        "import os\n",
        "from sklearn import datasets\n",
        "from sklearn.neighbors import KNeighborsClassifier\n",
        "from sklearn.model_selection import train_test_split\n",
        "\n",
        "nombre_fichero = \"/content/datos_peliculas-220326-142410 (1).csv\"\n",
        "\n",
        "pelis=pd.read_csv(nombre_fichero, sep=\",\")\n",
        "\n",
        "\n",
        "\n",
        "pelis.head(11)\n"
      ]
    },
    {
      "cell_type": "code",
      "source": [
        ""
      ],
      "metadata": {
        "id": "P_wF-Kddzb21"
      },
      "execution_count": null,
      "outputs": []
    },
    {
      "cell_type": "code",
      "source": [
        ""
      ],
      "metadata": {
        "id": "i-x5arelza7F"
      },
      "execution_count": null,
      "outputs": []
    },
    {
      "cell_type": "code",
      "source": [
        "pelis.shape"
      ],
      "metadata": {
        "id": "UFV54qRGRxts",
        "colab": {
          "base_uri": "https://localhost:8080/"
        },
        "outputId": "71e30eb7-4791-49d0-d463-6c75a86aae33"
      },
      "execution_count": 29,
      "outputs": [
        {
          "output_type": "execute_result",
          "data": {
            "text/plain": [
              "(231, 11)"
            ]
          },
          "metadata": {},
          "execution_count": 29
        }
      ]
    },
    {
      "cell_type": "code",
      "source": [
        "from sklearn.model_selection import cross_val_score\n",
        "from sklearn.metrics import make_scorer\n",
        "\n",
        "pelis=pelis.drop(columns=\"pelicula\")"
      ],
      "metadata": {
        "id": "iO0U3rqTeMJy"
      },
      "execution_count": 28,
      "outputs": []
    },
    {
      "cell_type": "code",
      "source": [
        "X_train,X_test,y_train,y_test=train_test_split(pelis.drop(columns=\"genero\"),pelis[\"genero\"],test_size=0.3,random_state=1234)"
      ],
      "metadata": {
        "id": "WLOgLWCzA1lA"
      },
      "execution_count": 30,
      "outputs": []
    },
    {
      "cell_type": "code",
      "source": [
        "clasificador=KNeighborsClassifier(3)"
      ],
      "metadata": {
        "id": "JIY0TJJYzZjE"
      },
      "execution_count": 31,
      "outputs": []
    },
    {
      "cell_type": "code",
      "source": [
        "clasificador"
      ],
      "metadata": {
        "id": "CBpCEFOJSMUP",
        "colab": {
          "base_uri": "https://localhost:8080/"
        },
        "outputId": "45c6cab9-83b3-46d1-9b46-059f24ef54a5"
      },
      "execution_count": 32,
      "outputs": [
        {
          "output_type": "execute_result",
          "data": {
            "text/plain": [
              "KNeighborsClassifier(n_neighbors=3)"
            ]
          },
          "metadata": {},
          "execution_count": 32
        }
      ]
    },
    {
      "cell_type": "code",
      "source": [
        "# brute tree ball \n",
        "\n",
        "clasificador.fit(X_train,y_train)\n"
      ],
      "metadata": {
        "colab": {
          "base_uri": "https://localhost:8080/"
        },
        "id": "Yy0ysO6fBIyC",
        "outputId": "35d4486d-96fd-4725-a86b-cc844e0f5bd9"
      },
      "execution_count": 34,
      "outputs": [
        {
          "output_type": "execute_result",
          "data": {
            "text/plain": [
              "KNeighborsClassifier(n_neighbors=3)"
            ]
          },
          "metadata": {},
          "execution_count": 34
        }
      ]
    },
    {
      "cell_type": "code",
      "source": [
        "y_pred=clasificador.predict(X_test)"
      ],
      "metadata": {
        "id": "1MZdOZn1U6CP"
      },
      "execution_count": 35,
      "outputs": []
    },
    {
      "cell_type": "code",
      "source": [
        "\n",
        "y_pred\n"
      ],
      "metadata": {
        "colab": {
          "base_uri": "https://localhost:8080/"
        },
        "id": "4L8FCXGoL0BA",
        "outputId": "a05ccf3e-fe82-43ff-e3cc-35d06248bdb7"
      },
      "execution_count": 36,
      "outputs": [
        {
          "output_type": "execute_result",
          "data": {
            "text/plain": [
              "array([ 8,  8,  1,  3,  1,  1,  3,  9,  1,  3,  1,  3,  3,  1,  3,  3,  9,\n",
              "        1,  8,  1,  8,  1,  2,  8,  1,  1,  1,  2,  1,  3,  1,  8,  1,  3,\n",
              "        8,  1,  1,  1,  1,  1,  8,  3, 12,  1,  1,  3,  1,  1,  2,  3,  1,\n",
              "        1,  1,  1,  1,  3,  1,  2,  8,  1,  8,  3, 12,  8,  8,  8,  3,  8,\n",
              "        1,  3])"
            ]
          },
          "metadata": {},
          "execution_count": 36
        }
      ]
    },
    {
      "cell_type": "code",
      "source": [
        "pd.crosstab(y_test,y_pred)"
      ],
      "metadata": {
        "id": "RojrftYgLxUA",
        "colab": {
          "base_uri": "https://localhost:8080/",
          "height": 363
        },
        "outputId": "8b41cdd6-af5a-4531-9400-9055a19d76d2"
      },
      "execution_count": 37,
      "outputs": [
        {
          "output_type": "execute_result",
          "data": {
            "text/plain": [
              "col_0   1   2   3   8   9   12\n",
              "genero                        \n",
              "1       11   0   2   3   0   2\n",
              "2        1   0   0   0   0   0\n",
              "3        4   0   3   1   1   0\n",
              "6        1   0   0   0   0   0\n",
              "8        8   0   5   7   1   0\n",
              "9        2   1   2   1   0   0\n",
              "10       1   0   3   0   0   0\n",
              "12       2   1   0   0   0   0\n",
              "15       2   2   1   2   0   0"
            ],
            "text/html": [
              "\n",
              "  <div id=\"df-63fdeddc-a9e6-431f-b848-92db86d7862e\">\n",
              "    <div class=\"colab-df-container\">\n",
              "      <div>\n",
              "<style scoped>\n",
              "    .dataframe tbody tr th:only-of-type {\n",
              "        vertical-align: middle;\n",
              "    }\n",
              "\n",
              "    .dataframe tbody tr th {\n",
              "        vertical-align: top;\n",
              "    }\n",
              "\n",
              "    .dataframe thead th {\n",
              "        text-align: right;\n",
              "    }\n",
              "</style>\n",
              "<table border=\"1\" class=\"dataframe\">\n",
              "  <thead>\n",
              "    <tr style=\"text-align: right;\">\n",
              "      <th>col_0</th>\n",
              "      <th>1</th>\n",
              "      <th>2</th>\n",
              "      <th>3</th>\n",
              "      <th>8</th>\n",
              "      <th>9</th>\n",
              "      <th>12</th>\n",
              "    </tr>\n",
              "    <tr>\n",
              "      <th>genero</th>\n",
              "      <th></th>\n",
              "      <th></th>\n",
              "      <th></th>\n",
              "      <th></th>\n",
              "      <th></th>\n",
              "      <th></th>\n",
              "    </tr>\n",
              "  </thead>\n",
              "  <tbody>\n",
              "    <tr>\n",
              "      <th>1</th>\n",
              "      <td>11</td>\n",
              "      <td>0</td>\n",
              "      <td>2</td>\n",
              "      <td>3</td>\n",
              "      <td>0</td>\n",
              "      <td>2</td>\n",
              "    </tr>\n",
              "    <tr>\n",
              "      <th>2</th>\n",
              "      <td>1</td>\n",
              "      <td>0</td>\n",
              "      <td>0</td>\n",
              "      <td>0</td>\n",
              "      <td>0</td>\n",
              "      <td>0</td>\n",
              "    </tr>\n",
              "    <tr>\n",
              "      <th>3</th>\n",
              "      <td>4</td>\n",
              "      <td>0</td>\n",
              "      <td>3</td>\n",
              "      <td>1</td>\n",
              "      <td>1</td>\n",
              "      <td>0</td>\n",
              "    </tr>\n",
              "    <tr>\n",
              "      <th>6</th>\n",
              "      <td>1</td>\n",
              "      <td>0</td>\n",
              "      <td>0</td>\n",
              "      <td>0</td>\n",
              "      <td>0</td>\n",
              "      <td>0</td>\n",
              "    </tr>\n",
              "    <tr>\n",
              "      <th>8</th>\n",
              "      <td>8</td>\n",
              "      <td>0</td>\n",
              "      <td>5</td>\n",
              "      <td>7</td>\n",
              "      <td>1</td>\n",
              "      <td>0</td>\n",
              "    </tr>\n",
              "    <tr>\n",
              "      <th>9</th>\n",
              "      <td>2</td>\n",
              "      <td>1</td>\n",
              "      <td>2</td>\n",
              "      <td>1</td>\n",
              "      <td>0</td>\n",
              "      <td>0</td>\n",
              "    </tr>\n",
              "    <tr>\n",
              "      <th>10</th>\n",
              "      <td>1</td>\n",
              "      <td>0</td>\n",
              "      <td>3</td>\n",
              "      <td>0</td>\n",
              "      <td>0</td>\n",
              "      <td>0</td>\n",
              "    </tr>\n",
              "    <tr>\n",
              "      <th>12</th>\n",
              "      <td>2</td>\n",
              "      <td>1</td>\n",
              "      <td>0</td>\n",
              "      <td>0</td>\n",
              "      <td>0</td>\n",
              "      <td>0</td>\n",
              "    </tr>\n",
              "    <tr>\n",
              "      <th>15</th>\n",
              "      <td>2</td>\n",
              "      <td>2</td>\n",
              "      <td>1</td>\n",
              "      <td>2</td>\n",
              "      <td>0</td>\n",
              "      <td>0</td>\n",
              "    </tr>\n",
              "  </tbody>\n",
              "</table>\n",
              "</div>\n",
              "      <button class=\"colab-df-convert\" onclick=\"convertToInteractive('df-63fdeddc-a9e6-431f-b848-92db86d7862e')\"\n",
              "              title=\"Convert this dataframe to an interactive table.\"\n",
              "              style=\"display:none;\">\n",
              "        \n",
              "  <svg xmlns=\"http://www.w3.org/2000/svg\" height=\"24px\"viewBox=\"0 0 24 24\"\n",
              "       width=\"24px\">\n",
              "    <path d=\"M0 0h24v24H0V0z\" fill=\"none\"/>\n",
              "    <path d=\"M18.56 5.44l.94 2.06.94-2.06 2.06-.94-2.06-.94-.94-2.06-.94 2.06-2.06.94zm-11 1L8.5 8.5l.94-2.06 2.06-.94-2.06-.94L8.5 2.5l-.94 2.06-2.06.94zm10 10l.94 2.06.94-2.06 2.06-.94-2.06-.94-.94-2.06-.94 2.06-2.06.94z\"/><path d=\"M17.41 7.96l-1.37-1.37c-.4-.4-.92-.59-1.43-.59-.52 0-1.04.2-1.43.59L10.3 9.45l-7.72 7.72c-.78.78-.78 2.05 0 2.83L4 21.41c.39.39.9.59 1.41.59.51 0 1.02-.2 1.41-.59l7.78-7.78 2.81-2.81c.8-.78.8-2.07 0-2.86zM5.41 20L4 18.59l7.72-7.72 1.47 1.35L5.41 20z\"/>\n",
              "  </svg>\n",
              "      </button>\n",
              "      \n",
              "  <style>\n",
              "    .colab-df-container {\n",
              "      display:flex;\n",
              "      flex-wrap:wrap;\n",
              "      gap: 12px;\n",
              "    }\n",
              "\n",
              "    .colab-df-convert {\n",
              "      background-color: #E8F0FE;\n",
              "      border: none;\n",
              "      border-radius: 50%;\n",
              "      cursor: pointer;\n",
              "      display: none;\n",
              "      fill: #1967D2;\n",
              "      height: 32px;\n",
              "      padding: 0 0 0 0;\n",
              "      width: 32px;\n",
              "    }\n",
              "\n",
              "    .colab-df-convert:hover {\n",
              "      background-color: #E2EBFA;\n",
              "      box-shadow: 0px 1px 2px rgba(60, 64, 67, 0.3), 0px 1px 3px 1px rgba(60, 64, 67, 0.15);\n",
              "      fill: #174EA6;\n",
              "    }\n",
              "\n",
              "    [theme=dark] .colab-df-convert {\n",
              "      background-color: #3B4455;\n",
              "      fill: #D2E3FC;\n",
              "    }\n",
              "\n",
              "    [theme=dark] .colab-df-convert:hover {\n",
              "      background-color: #434B5C;\n",
              "      box-shadow: 0px 1px 3px 1px rgba(0, 0, 0, 0.15);\n",
              "      filter: drop-shadow(0px 1px 2px rgba(0, 0, 0, 0.3));\n",
              "      fill: #FFFFFF;\n",
              "    }\n",
              "  </style>\n",
              "\n",
              "      <script>\n",
              "        const buttonEl =\n",
              "          document.querySelector('#df-63fdeddc-a9e6-431f-b848-92db86d7862e button.colab-df-convert');\n",
              "        buttonEl.style.display =\n",
              "          google.colab.kernel.accessAllowed ? 'block' : 'none';\n",
              "\n",
              "        async function convertToInteractive(key) {\n",
              "          const element = document.querySelector('#df-63fdeddc-a9e6-431f-b848-92db86d7862e');\n",
              "          const dataTable =\n",
              "            await google.colab.kernel.invokeFunction('convertToInteractive',\n",
              "                                                     [key], {});\n",
              "          if (!dataTable) return;\n",
              "\n",
              "          const docLinkHtml = 'Like what you see? Visit the ' +\n",
              "            '<a target=\"_blank\" href=https://colab.research.google.com/notebooks/data_table.ipynb>data table notebook</a>'\n",
              "            + ' to learn more about interactive tables.';\n",
              "          element.innerHTML = '';\n",
              "          dataTable['output_type'] = 'display_data';\n",
              "          await google.colab.output.renderOutput(dataTable, element);\n",
              "          const docLink = document.createElement('div');\n",
              "          docLink.innerHTML = docLinkHtml;\n",
              "          element.appendChild(docLink);\n",
              "        }\n",
              "      </script>\n",
              "    </div>\n",
              "  </div>\n",
              "  "
            ]
          },
          "metadata": {},
          "execution_count": 37
        }
      ]
    },
    {
      "cell_type": "code",
      "source": [
        "from sklearn.metrics import accuracy_score\n",
        "accuracy_score(y_pred,y_test)"
      ],
      "metadata": {
        "id": "BSBLmVv7Lvf2",
        "colab": {
          "base_uri": "https://localhost:8080/"
        },
        "outputId": "c18a4c6a-655a-45cb-b3a0-45f3caa15f67"
      },
      "execution_count": 38,
      "outputs": [
        {
          "output_type": "execute_result",
          "data": {
            "text/plain": [
              "0.3"
            ]
          },
          "metadata": {},
          "execution_count": 38
        }
      ]
    },
    {
      "cell_type": "code",
      "source": [
        ""
      ],
      "metadata": {
        "id": "VS5lYfnaLuSQ"
      },
      "execution_count": null,
      "outputs": []
    },
    {
      "cell_type": "code",
      "source": [
        "clasificador1=KNeighborsClassifier(3,algorithm='brute', leaf_size=40, metric='euclidean')\n",
        "\n"
      ],
      "metadata": {
        "id": "w9w6L4GLH9-f"
      },
      "execution_count": 39,
      "outputs": []
    },
    {
      "cell_type": "code",
      "source": [
        "clasificador1.fit(X_train,y_train)"
      ],
      "metadata": {
        "id": "iWUM6ENLW0Ne",
        "colab": {
          "base_uri": "https://localhost:8080/"
        },
        "outputId": "1e0b7f1c-1cbe-49f0-fe7a-3e4b45e7979a"
      },
      "execution_count": 40,
      "outputs": [
        {
          "output_type": "execute_result",
          "data": {
            "text/plain": [
              "KNeighborsClassifier(algorithm='brute', leaf_size=40, metric='euclidean',\n",
              "                     n_neighbors=3)"
            ]
          },
          "metadata": {},
          "execution_count": 40
        }
      ]
    },
    {
      "cell_type": "code",
      "source": [
        "y_pred1=clasificador1.predict(X_test)"
      ],
      "metadata": {
        "id": "myh2sFerXLlT"
      },
      "execution_count": 41,
      "outputs": []
    },
    {
      "cell_type": "code",
      "source": [
        "accuracy_score(y_pred1,y_test)"
      ],
      "metadata": {
        "id": "lDPg34MLI4OC",
        "colab": {
          "base_uri": "https://localhost:8080/"
        },
        "outputId": "d5b71e27-b406-4a37-8ba3-abacc62d0444"
      },
      "execution_count": 42,
      "outputs": [
        {
          "output_type": "execute_result",
          "data": {
            "text/plain": [
              "0.3"
            ]
          },
          "metadata": {},
          "execution_count": 42
        }
      ]
    },
    {
      "cell_type": "code",
      "source": [
        "import matplotlib.pyplot as plt"
      ],
      "metadata": {
        "id": "oS_tpozxIhIN"
      },
      "execution_count": 46,
      "outputs": []
    },
    {
      "cell_type": "code",
      "source": [
        "lista_resutaltado=[]\n",
        "for i in range(3,50):\n",
        "    clasificador=KNeighborsClassifier(i,algorithm=\"brute\")\n",
        "    clasificador.fit(X_train,y_train)\n",
        "    y_pred=clasificador.predict(X_test)\n",
        "    resultado=accuracy_score(y_test,y_pred)\n",
        "    lista_resutaltado.append(resultado)\n",
        "    \n",
        "lista_resutaltado_1=[]\n",
        "for i in range(3,50):\n",
        "    clasificador=KNeighborsClassifier(i,algorithm=\"auto\")\n",
        "    clasificador.fit(X_train,y_train)\n",
        "    y_pred=clasificador.predict(X_test)\n",
        "    resultado=accuracy_score(y_test,y_pred)\n",
        "    lista_resutaltado_1.append(resultado)\n",
        "\n",
        "lista_resutaltado_2=[]\n",
        "for i in range(3,50):\n",
        "    clasificador=KNeighborsClassifier(i,algorithm=\"ball_tree\")\n",
        "    clasificador.fit(X_train,y_train)\n",
        "    y_pred=clasificador.predict(X_test)\n",
        "    resultado=accuracy_score(y_test,y_pred)\n",
        "    lista_resutaltado_2.append(resultado)\n",
        "\n",
        "\n",
        "lista_resutaltado_3=[]\n",
        "for i in range(3,50):\n",
        "    clasificador=KNeighborsClassifier(i,algorithm=\"kd_tree\")\n",
        "    clasificador.fit(X_train,y_train)\n",
        "    y_pred=clasificador.predict(X_test)\n",
        "    resultado=accuracy_score(y_test,y_pred)\n",
        "    lista_resutaltado_3.append(resultado)"
      ],
      "metadata": {
        "id": "Y3ahNAZiItkI"
      },
      "execution_count": 47,
      "outputs": []
    },
    {
      "cell_type": "code",
      "source": [
        "plt.plot(lista_resutaltado)\n",
        "plt.plot(lista_resutaltado_1)\n",
        "plt.plot(lista_resutaltado_2)\n",
        "plt.plot(lista_resutaltado_3)\n",
        "plt.ylabel(\"Exactitud\")\n",
        "plt.xlabel(\"Número de vecinos\")## Grafico la posición no la K ¡OJO!\n",
        "plt.show()"
      ],
      "metadata": {
        "colab": {
          "base_uri": "https://localhost:8080/",
          "height": 279
        },
        "id": "bKny4a8MIrB1",
        "outputId": "5cb9646d-fff8-47f0-9805-6efd2270606d"
      },
      "execution_count": 48,
      "outputs": [
        {
          "output_type": "display_data",
          "data": {
            "text/plain": [
              "<Figure size 432x288 with 1 Axes>"
            ],
            "image/png": "[encoded data removed]"
          },
          "metadata": {
            "needs_background": "light"
          }
        }
      ]
    },
    {
      "cell_type": "code",
      "source": [
        "Lista=[]\n",
        "for i in range(20):\n",
        "    X_train,X_test,y_train,y_test=train_test_split(pelis.drop(columns=\"genero\"),pelis[\"genero\"],test_size=0.3)\n",
        "    clf=KNeighborsClassifier(3)\n",
        "    clf.fit(X_train,y_train)\n",
        "    y_pred=clf.predict(X_test)\n",
        "#     print(\"=\"*20)\n",
        "    Lista.append(accuracy_score(y_pred,y_test))\n",
        "#     print(\"Exactitud: \",accuracy_score(y_pred,y_test))"
      ],
      "metadata": {
        "id": "pIRxRo_LXyNc"
      },
      "execution_count": 51,
      "outputs": []
    },
    {
      "cell_type": "code",
      "source": [
        "np.mean(Lista)"
      ],
      "metadata": {
        "id": "XEaj6Z7ZdoRX",
        "colab": {
          "base_uri": "https://localhost:8080/"
        },
        "outputId": "8bfa82f7-878a-4a94-f8df-49770aca1b1f"
      },
      "execution_count": 52,
      "outputs": [
        {
          "output_type": "execute_result",
          "data": {
            "text/plain": [
              "0.3157142857142857"
            ]
          },
          "metadata": {},
          "execution_count": 52
        }
      ]
    },
    {
      "cell_type": "code",
      "source": [
        "from sklearn.model_selection import LeaveOneOut"
      ],
      "metadata": {
        "id": "XRawB45Rjhuv"
      },
      "execution_count": 53,
      "outputs": []
    },
    {
      "cell_type": "code",
      "source": [
        "LOO=LeaveOneOut()\n",
        "y_pred=[]\n",
        "xx=0\n",
        "X=pelis.drop(columns=\"genero\")\n",
        "y=pelis[\"genero\"]"
      ],
      "metadata": {
        "id": "2yf_AeANj-1e"
      },
      "execution_count": 55,
      "outputs": []
    },
    {
      "cell_type": "code",
      "source": [
        "for train_index,test_index in LOO.split(pelis):\n",
        "    X_train,X_test=X.iloc[train_index],X.iloc[test_index]\n",
        "    y_train=y.iloc[train_index]\n",
        "    clf=KNeighborsClassifier(3)\n",
        "    clf.fit(X_train,y_train)\n",
        "    y_pred.append(clf.predict(X_test))"
      ],
      "metadata": {
        "id": "xysf3njGnqvB"
      },
      "execution_count": 56,
      "outputs": []
    },
    {
      "cell_type": "code",
      "source": [
        "accuracy_score(y,y_pred)"
      ],
      "metadata": {
        "colab": {
          "base_uri": "https://localhost:8080/"
        },
        "id": "c9YWcoi3kBFp",
        "outputId": "f5df027b-6a18-47af-ad98-409a71cd39b7"
      },
      "execution_count": 57,
      "outputs": [
        {
          "output_type": "execute_result",
          "data": {
            "text/plain": [
              "0.31601731601731603"
            ]
          },
          "metadata": {},
          "execution_count": 57
        }
      ]
    },
    {
      "cell_type": "code",
      "source": [
        ""
      ],
      "metadata": {
        "id": "zqW5kYWqsaSy"
      },
      "execution_count": null,
      "outputs": []
    },
    {
      "cell_type": "code",
      "source": [
        "\n",
        "\n"
      ],
      "metadata": {
        "id": "Bnv914tHoSyZ"
      },
      "execution_count": 54,
      "outputs": []
    },
    {
      "cell_type": "code",
      "source": [
        ""
      ],
      "metadata": {
        "id": "Wrf5lfiLtg4Q"
      },
      "execution_count": null,
      "outputs": []
    }
  ]
}