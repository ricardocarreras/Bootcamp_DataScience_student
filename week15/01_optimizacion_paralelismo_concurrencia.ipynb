{
 "cells": [
  {
   "cell_type": "markdown",
   "metadata": {},
   "source": [
    "![](img/concurrencia_ib.png)"
   ]
  },
  {
   "cell_type": "markdown",
   "metadata": {},
   "source": [
    "Hasta ahora hemos creado programas que se ejecutan **secuencialmente**: siguiendo el flujo de ejecución definido por el código, las instrucciones se ejecutaban siempre una detrás de la otra, esperando a que finalice cada instrucción para empezar a ejecutar la siguiente. Ahora bien, por un lado, la mayoría de los ordenadores modernos disponen de varias CPU, lo que permite ejecutar varios flujos de ejecución al mismo tiempo. Por otra parte, aunque solo dispongamos de una única CPU, a veces será más eficiente ir intercalando la ejecución de varios hilos, en vez de ir esperando a que finalice cada uno de ellos para ejecutar el siguiente. Es el caso, por ejemplo, de hilos de ejecución que esperan a eventos externos: mientras uno de los hilos se encuentra esperando al evento externo, un segundo hilo puede aprovechar la CPU para hacer cálculos.\n",
    "\n",
    "Así, en este notebook describiremos cómo podemos realizar programación **concurrente** (en la que diversas tareas pueden avanzar simultáneamente, sin necesidad de esperar a que finalice una para iniciar la siguiente) y programación **paralela** (en la cual varias tareas se ejecutan a la vez) en Python. La imagen siguiente muestra el concepto clave que distingue la programación secuencial, la concurrente y la paralela:"
   ]
  },
  {
   "cell_type": "markdown",
   "metadata": {},
   "source": [
    "Un **proceso** es un programa que se ha cargado en memoria para su ejecución, junto con los recursos que necesita para ejecutarse. Estos recursos contienen los registros (que pueden contener una instrucción, una dirección, un dato, etc.); el contador de programa (un registro especial que almacena un puntero a la instrucción que se está ejecutando); y la pila y el heap (con el hilo de llamadas que han ido sucediendo y las variables que se han ido creando)."
   ]
  },
  {
   "cell_type": "markdown",
   "metadata": {},
   "source": [
    "Un hilo de **ejecución** o **thread** es una unidad de ejecución dentro de un proceso. Un proceso siempre tiene al menos un thread, pero puede tener varios de ellos."
   ]
  },
  {
   "cell_type": "markdown",
   "metadata": {},
   "source": [
    "## Uso de múltiples threads en Python"
   ]
  },
  {
   "cell_type": "code",
   "execution_count": 11,
   "metadata": {},
   "outputs": [],
   "source": [
    "from threading import Thread\n",
    "from random import randint\n",
    "from time import sleep\n",
    "import logging\n",
    "import sys"
   ]
  },
  {
   "cell_type": "code",
   "execution_count": 2,
   "metadata": {},
   "outputs": [],
   "source": [
    "def random_wait(t_index):\n",
    "    \"\"\"\n",
    "    Espera un tiempo aleatorio entre 1 y 4 segundos.\n",
    "    \"\"\"\n",
    "    logging.info(\"[T{}]\\tStarted\".format(t_index))\n",
    "    t = randint(4, 6)\n",
    "    logging.info(\"[T{}]\\tSleeping {} seconds...\".format(t_index, t))\n",
    "    sleep(t)\n",
    "    logging.info(\"[T{}]\\tEnd\".format(t_index))"
   ]
  },
  {
   "cell_type": "code",
   "execution_count": 12,
   "metadata": {},
   "outputs": [],
   "source": [
    "# Configura el logging\n",
    "log_format = '[%(process)d]\\t%(asctime)s %(levelname)s: %(message)s'\n",
    "logging.basicConfig(format=log_format, level=logging.INFO, datefmt=\"%H:%M:%S\",\n",
    "                    handlers=[logging.StreamHandler(sys.stdout)])"
   ]
  },
  {
   "cell_type": "code",
   "execution_count": 7,
   "metadata": {},
   "outputs": [
    {
     "name": "stdout",
     "output_type": "stream",
     "text": [
      "[37008]\t13:36:30 INFO: [M]\tScript Initialized!\n",
      "[37008]\t13:36:30 INFO: [M]\tCreating threads 0\n",
      "[37008]\t13:36:30 INFO: [T0]\tStarted\n",
      "[37008]\t13:36:30 INFO: [M]\tCreating threads 1\n",
      "[37008]\t13:36:30 INFO: [T0]\tSleeping 4 seconds...\n",
      "[37008]\t13:36:30 INFO: [T1]\tStarted\n",
      "[37008]\t13:36:30 INFO: [M]\tCreating threads 2\n",
      "[37008]\t13:36:30 INFO: [T1]\tSleeping 4 seconds...\n",
      "[37008]\t13:36:30 INFO: [T2]\tStarted\n",
      "[37008]\t13:36:30 INFO: [M]\tWaiting to join thread 0\n",
      "[37008]\t13:36:30 INFO: [T2]\tSleeping 6 seconds...\n",
      "[37008]\t13:36:34 INFO: [T1]\tEnd\n",
      "[37008]\t13:36:34 INFO: [T0]\tEnd\n",
      "[37008]\t13:36:34 INFO: [M]\tThread 0 joined!\n",
      "[37008]\t13:36:34 INFO: [M]\tWaiting to join thread 1\n",
      "[37008]\t13:36:34 INFO: [M]\tThread 1 joined!\n",
      "[37008]\t13:36:34 INFO: [M]\tWaiting to join thread 2\n",
      "[37008]\t13:36:36 INFO: [T2]\tEnd\n",
      "[37008]\t13:36:36 INFO: [M]\tThread 2 joined!\n",
      "[37008]\t13:36:36 INFO: [M]\tDONE!\n"
     ]
    }
   ],
   "source": [
    "# Creamos 3 threads que ejecutan la función random_wait\n",
    "threads = []\n",
    "num_threads = 3\n",
    "\n",
    "logging.info(\"[M]\\tScript Initialized!\")  \n",
    "for i in range(num_threads):\n",
    "    logging.info(\"[M]\\tCreating threads {}\".format(i))\n",
    "    # Creamos el thread\n",
    "    thread = Thread(target=random_wait, args=(i,))\n",
    "    threads.append(thread)\n",
    "    # Ejecutamos el thread\n",
    "    thread.start()\n",
    "\n",
    "# Espera que los 3 thread finalicen\n",
    "for i, thread in enumerate(threads):\n",
    "    logging.info(\"[M]\\tWaiting to join thread {}\".format(i))\n",
    "    thread.join()\n",
    "    logging.info(\"[M]\\tThread {} joined!\".format(i))\n",
    "\n",
    "logging.info(\"[M]\\tDONE!\")   "
   ]
  },
  {
   "cell_type": "markdown",
   "metadata": {},
   "source": [
    "## Optimización de código usando threads en Python"
   ]
  },
  {
   "cell_type": "markdown",
   "metadata": {},
   "source": [
    "No todos los programas pueden beneficiarse de la ejecución en múltiples threads. Por un lado, los programas que requieren conocer unos resultados anteriores para calcular los siguientes difícilmente se ejecutarán más rápido en un entorno multithreaded, ya que los diferentes hilos no podrán ejecutarse concurrentemente. Por otro lado, en su versión más extendida, Python ejecuta los diferentes threads en un mismo procesador, por lo que la ejecución de estos es concurrente (pero no paralela). Veámoslo con un par de ejemplos."
   ]
  },
  {
   "cell_type": "code",
   "execution_count": 4,
   "metadata": {},
   "outputs": [],
   "source": [
    "from sympy import primefactors\n",
    "\n",
    "\n",
    "def get_factors(t_index, value):\n",
    "    \"\"\"\n",
    "    Devuelve la factorización de `value` en factores primos.\n",
    "    \"\"\"\n",
    "    logging.info(\"[T{}]\\tStarted with input {}\".format(t_index, value))\n",
    "    r = primefactors(value)\n",
    "    logging.info(\"[T{}]\\tEnded with output {}\".format(t_index, r))"
   ]
  },
  {
   "cell_type": "code",
   "execution_count": 5,
   "metadata": {},
   "outputs": [
    {
     "name": "stdout",
     "output_type": "stream",
     "text": [
      "[35460]\t13:43:20 INFO: [T1]\tStarted with input 15\n",
      "[35460]\t13:43:20 INFO: [T1]\tEnded with output [3, 5]\n"
     ]
    }
   ],
   "source": [
    "# Factoriza el valor 15\n",
    "get_factors(1, 15)"
   ]
  },
  {
   "cell_type": "markdown",
   "metadata": {},
   "source": [
    "Ahora, vamos a calcular la factorización de tres enteros utilizando la función *get_factors* de **manera secuencial**:"
   ]
  },
  {
   "cell_type": "code",
   "execution_count": 6,
   "metadata": {},
   "outputs": [],
   "source": [
    "nums_to_factor = [5215785878052641903952977068511001599,\n",
    "                  748283119772062608265951220534384001023,\n",
    "                  949273031776466197045163567568010291199]"
   ]
  },
  {
   "cell_type": "code",
   "execution_count": 9,
   "metadata": {},
   "outputs": [
    {
     "name": "stdout",
     "output_type": "stream",
     "text": [
      "[35460]\t13:50:43 INFO: [T0]\tStarted with input 5215785878052641903952977068511001599\n",
      "[35460]\t13:50:43 INFO: [T0]\tEnded with output [479001599, 10888869450418352160768000001]\n",
      "[35460]\t13:50:43 INFO: [T1]\tStarted with input 748283119772062608265951220534384001023\n",
      "[35460]\t13:50:44 INFO: [T1]\tEnded with output [68720001023, 10888869450418352160768000001]\n",
      "[35460]\t13:50:44 INFO: [T2]\tStarted with input 949273031776466197045163567568010291199\n",
      "[35460]\t13:50:48 INFO: [T2]\tEnded with output [87178291199, 10888869450418352160768000001]\n",
      "CPU times: total: 5.28 s\n",
      "Wall time: 5.56 s\n"
     ]
    }
   ],
   "source": [
    "%%time\n",
    "\n",
    "for _, num in enumerate(nums_to_factor):\n",
    "    get_factors(_, num)"
   ]
  },
  {
   "cell_type": "markdown",
   "metadata": {},
   "source": [
    " A continuación volveremos a repetir el cálculo de la factorización de los mismos tres enteros, ejecutándolos ahora como **threads** independientes:"
   ]
  },
  {
   "cell_type": "code",
   "execution_count": 8,
   "metadata": {},
   "outputs": [
    {
     "name": "stdout",
     "output_type": "stream",
     "text": [
      "[35460]\t13:50:19 INFO: [T0]\tStarted with input 5215785878052641903952977068511001599\n",
      "[35460]\t13:50:19 INFO: [T1]\tStarted with input 748283119772062608265951220534384001023\n",
      "[35460]\t13:50:19 INFO: [T2]\tStarted with input 949273031776466197045163567568010291199\n",
      "[35460]\t13:50:19 INFO: [M]\tWaiting to join thread 0\n",
      "[35460]\t13:50:22 INFO: [T0]\tEnded with output [479001599, 10888869450418352160768000001]\n",
      "[35460]\t13:50:22 INFO: [M]\tThread 0 joined!\n",
      "[35460]\t13:50:22 INFO: [M]\tWaiting to join thread 1\n",
      "[35460]\t13:50:25 INFO: [T1]\tEnded with output [68720001023, 10888869450418352160768000001]\n",
      "[35460]\t13:50:25 INFO: [M]\tThread 1 joined!\n",
      "[35460]\t13:50:25 INFO: [M]\tWaiting to join thread 2\n",
      "[35460]\t13:50:25 INFO: [T2]\tEnded with output [87178291199, 10888869450418352160768000001]\n",
      "[35460]\t13:50:25 INFO: [M]\tThread 2 joined!\n",
      "[35460]\t13:50:25 INFO: [M]\tDONE!\n",
      "CPU times: total: 6.42 s\n",
      "Wall time: 6.68 s\n"
     ]
    }
   ],
   "source": [
    "%%time\n",
    "threads = []\n",
    "\n",
    "# Crea 3 threads que ejecutan la función get_factors y\n",
    "# los inicia\n",
    "for i, num in enumerate(nums_to_factor):\n",
    "    thread = Thread(target=get_factors, args=(i, num))\n",
    "    threads.append(thread)\n",
    "    thread.start()\n",
    "\n",
    "# Espera a que los 3 threads finalicen\n",
    "for i, thread in enumerate(threads):\n",
    "    logging.info(\"[M]\\tWaiting to join thread {}\".format(i))\n",
    "    thread.join()\n",
    "    logging.info(\"[M]\\tThread {} joined!\".format(i))\n",
    "\n",
    "logging.info(\"[M]\\tDONE!\")"
   ]
  },
  {
   "cell_type": "markdown",
   "metadata": {},
   "source": [
    " * Los tiempos de ejecución de las dos versiones del código (la primera, secuencial, y la segunda, con múltiples threads) es muy similar (y, a menudo, la versión secuencial resulta más rápida)."
   ]
  },
  {
   "cell_type": "markdown",
   "metadata": {},
   "source": [
    "* Vemos ahora un segundo ejemplo, en el que crearemos también tres threads: dos de ellos se descargarán unos conjuntos de datos de internet, y el tercero volverá a factorizar uno de los números del ejemplo anterior."
   ]
  },
  {
   "cell_type": "markdown",
   "metadata": {},
   "source": [
    "En primer lugar, definimos la función `get_url_and_write_to_disk`, que descarga el contenido de una URL y lo guarda en el disco:"
   ]
  },
  {
   "cell_type": "code",
   "execution_count": 12,
   "metadata": {},
   "outputs": [],
   "source": [
    "import requests\n",
    "\n",
    "\n",
    "def get_url_and_write_to_disk(t_index, url):\n",
    "    \"\"\"\n",
    "    Descarga el contenido de la url y lo guarda en la carpeta `data`.\n",
    "    \"\"\"\n",
    "    logging.info(\"[T{}]\\tStarted with url {}\".format(t_index, url))\n",
    "    r = requests.get(url, allow_redirects=True)\n",
    "    open('data/'+str(t_index), 'wb').write(r.content)\n",
    "    logging.info(\"[T{}]\\tEnd\".format(t_index))\n",
    "\n",
    "urls = [\"https://snap.stanford.edu/data/twitter.tar.gz\",\n",
    "        \"https://snap.stanford.edu/data/twitter_combined.txt.gz\"]\n",
    "\n"
   ]
  },
  {
   "cell_type": "markdown",
   "metadata": {},
   "source": [
    "Ahora, como en el ejemplo anterior, ejecutaremos las tres tareas de manera secuencial: primero, factorizaremos el entero y, después, descargaremos los dos ficheros apuntados por las URL de la lista de la celda anterior:"
   ]
  },
  {
   "cell_type": "code",
   "execution_count": 13,
   "metadata": {},
   "outputs": [
    {
     "name": "stdout",
     "output_type": "stream",
     "text": [
      "[35460]\t13:57:59 INFO: [T1]\tStarted with input 949273031776466197045163567568010291199\n",
      "[35460]\t13:58:00 INFO: [T1]\tEnded with output [87178291199, 10888869450418352160768000001]\n",
      "CPU times: total: 344 ms\n",
      "Wall time: 479 ms\n"
     ]
    }
   ],
   "source": [
    "%%time\n",
    "\n",
    "get_factors(1, nums_to_factor[-1])"
   ]
  },
  {
   "cell_type": "code",
   "execution_count": 17,
   "metadata": {},
   "outputs": [
    {
     "name": "stdout",
     "output_type": "stream",
     "text": [
      "[35460]\t14:01:07 INFO: [T1]\tStarted with url https://snap.stanford.edu/data/twitter.tar.gz\n",
      "[35460]\t14:01:13 INFO: [T1]\tEnd\n",
      "[35460]\t14:01:13 INFO: [T1]\tStarted with url https://snap.stanford.edu/data/twitter_combined.txt.gz\n",
      "[35460]\t14:01:19 INFO: [T1]\tEnd\n",
      "CPU times: total: 703 ms\n",
      "Wall time: 12.3 s\n"
     ]
    }
   ],
   "source": [
    "%%time\n",
    "\n",
    "for url in urls:\n",
    "    get_url_and_write_to_disk(1, url)"
   ]
  },
  {
   "cell_type": "markdown",
   "metadata": {},
   "source": [
    "A continuación, implementamos la versión **multithreaded** del código anterior, creando tres threads (dos que descargarán archivos y uno que hará el cálculo de la factorización)."
   ]
  },
  {
   "cell_type": "code",
   "execution_count": 18,
   "metadata": {},
   "outputs": [
    {
     "name": "stdout",
     "output_type": "stream",
     "text": [
      "[35460]\t14:01:34 INFO: [T0]\tStarted with url https://snap.stanford.edu/data/twitter.tar.gz\n",
      "[35460]\t14:01:34 INFO: [T1]\tStarted with url https://snap.stanford.edu/data/twitter_combined.txt.gz\n",
      "[35460]\t14:01:34 INFO: [T2]\tStarted with input 949273031776466197045163567568010291199\n",
      "[35460]\t14:01:34 INFO: [M]\tWaiting to join thread 0\n",
      "[35460]\t14:01:36 INFO: [T2]\tEnded with output [87178291199, 10888869450418352160768000001]\n",
      "[35460]\t14:01:40 INFO: [T1]\tEnd\n",
      "[35460]\t14:01:43 INFO: [T0]\tEnd\n",
      "[35460]\t14:01:43 INFO: [M]\tThread 0 joined!\n",
      "[35460]\t14:01:43 INFO: [M]\tWaiting to join thread 1\n",
      "[35460]\t14:01:43 INFO: [M]\tThread 1 joined!\n",
      "[35460]\t14:01:43 INFO: [M]\tWaiting to join thread 2\n",
      "[35460]\t14:01:43 INFO: [M]\tThread 2 joined!\n",
      "[35460]\t14:01:43 INFO: [M]\tDONE!\n",
      "CPU times: total: 2.78 s\n",
      "Wall time: 8.86 s\n"
     ]
    }
   ],
   "source": [
    "%%time\n",
    "\n",
    "# Creamos los 3 threads que ejecutan get_factors o get_url_and_write_to_disk\n",
    "# y los iniciamos\n",
    "threads = []\n",
    "for i in range(3):\n",
    "    if i == 2:\n",
    "        thread = Thread(target=get_factors, args=(i, nums_to_factor[-1]))\n",
    "    else:\n",
    "        thread = Thread(target=get_url_and_write_to_disk, args=(i, urls[i]))\n",
    "        \n",
    "    threads.append(thread)\n",
    "    thread.start()\n",
    "\n",
    "# Esperamos a que los 3 threads finalicen\n",
    "for i, thread in enumerate(threads):\n",
    "    logging.info(\"[M]\\tWaiting to join thread {}\".format(i))\n",
    "    thread.join()\n",
    "    logging.info(\"[M]\\tThread {} joined!\".format(i))\n",
    "\n",
    "logging.info(\"[M]\\tDONE!\")"
   ]
  },
  {
   "cell_type": "markdown",
   "metadata": {},
   "source": [
    "## Multiplese procesos"
   ]
  },
  {
   "cell_type": "markdown",
   "metadata": {},
   "source": [
    "En esta sección veremos cómo podemos crear múltiples procesos desde nuestro código en Python. De hecho, ya hemos creado procesos desde Python anteriormente, cuando ejecutábamos programas externos utilizando el módulo subprocess. \n",
    "\n",
    "En ese caso, simplemente creábamos un nuevo proceso que ejecutaba un comando del sistema operativo o bien algún programa externo a nuestro código Python, y esperábamos a que finalizara para seguir la ejecución del proceso principal (que ejecutaba nuestro programa en Python). Ahora, veremos cómo podemos crear varios procesos que ejecutan código de nuestro programa en Python de manera paralela, utilizando el módulo multiprocessing.El módulo **multiprocessing** implementa la clase Process, que representa un flujo de ejecución que corre en un proceso individual. \n",
    "\n",
    "Para crear diferentes procesos controlados por nuestro programa principal, crearemos pues diferentes instancias de la **clase Process**, especificando qué función han de ejecutar y con qué parámetros.De manera similar a como trabajábamos con los threads en el apartado anterior, una vez creada la instancia de Process, podemos iniciar su ejecución llamando al método start, y esperar a su finalización con el método join.A continuación se implementa un ejemplo sencillo (análogo al primer ejemplo de multithreading) de ejecución multiproceso con el módulo multiprocessing."
   ]
  },
  {
   "cell_type": "code",
   "execution_count": 21,
   "metadata": {},
   "outputs": [
    {
     "name": "stdout",
     "output_type": "stream",
     "text": [
      "[35460]\t14:07:50 INFO: [M]\tCreating process 0\n",
      "[35460]\t14:07:50 INFO: [M]\tCreating process 1\n",
      "[35460]\t14:07:50 INFO: [M]\tCreating process 2\n",
      "[35460]\t14:07:50 INFO: [M]\tWaiting to join process 0\n",
      "[35460]\t14:07:50 INFO: [M]\tProcess 0 joined!\n",
      "[35460]\t14:07:50 INFO: [M]\tWaiting to join process 1\n",
      "[35460]\t14:07:50 INFO: [M]\tProcess 1 joined!\n",
      "[35460]\t14:07:50 INFO: [M]\tWaiting to join process 2\n",
      "[35460]\t14:07:50 INFO: [M]\tProcess 2 joined!\n",
      "[35460]\t14:07:50 INFO: [M]\tDONE!\n",
      "CPU times: total: 46.9 ms\n",
      "Wall time: 254 ms\n"
     ]
    }
   ],
   "source": [
    "%%time\n",
    "from multiprocessing import Process\n",
    "\n",
    "def random_wait(p_index):\n",
    "    \"\"\"\n",
    "    Espera un tiempo aleatorio entre 1 y 4 segundos.\n",
    "    \"\"\"\n",
    "    logging.info(\"[P{}]\\tStarted\".format(p_index))\n",
    "    t = randint(1, 4)\n",
    "    logging.info(\"[P{}]\\tSleeping {} seconds...\".format(p_index, t))\n",
    "    sleep(t)\n",
    "    logging.info(\"[P{}]\\tEnd\".format(p_index))\n",
    "\n",
    "\n",
    "# Crea 3 procesos que ejecutan la función random_wait y\n",
    "# los inicia\n",
    "processes = []\n",
    "for i in range(3):\n",
    "    logging.info(\"[M]\\tCreating process {}\".format(i))\n",
    "    # Crea el proceso\n",
    "    p = Process(target=random_wait, args=(i,))\n",
    "    processes.append(p)\n",
    "    # Inicia el proceso\n",
    "    p.start()\n",
    "\n",
    "# Espera a que los 3 procesos finalicen\n",
    "for i, process in enumerate(processes):\n",
    "    logging.info(\"[M]\\tWaiting to join process {}\".format(i))\n",
    "    process.join()\n",
    "    logging.info(\"[M]\\tProcess {} joined!\".format(i))\n",
    "\n",
    "logging.info(\"[M]\\tDONE!\")"
   ]
  },
  {
   "cell_type": "markdown",
   "metadata": {},
   "source": [
    "Aunque la gestión de los procesos se ha hecho de manera muy similar a como habíamos gestionado los threads, ¡la ejecución es muy diferente! Por un lado, los diferentes procesos pueden **ejecutarse en paralelo**, distribuyendo su ejecución entre las diversas CPU de la máquina. \n",
    "\n",
    "Por otra parte, la **gestión de la memoria** ha sido radicalmente diferente: con la creación de varios procesos, se han creado copias de todos los recursos para cada uno de ellos.Uno de los primeros cambios que podemos observar de la salida de la celda anterior es que ahora el identificador de proceso (el PID, que es el primer valor que se muestra entre corchetes en cada línea de log) es ahora diferente para cada uno de los procesos, ya que, efectivamente, se han creado procesos independientes, que disponen de su propio identificador de proceso."
   ]
  },
  {
   "cell_type": "markdown",
   "metadata": {},
   "source": [
    "## Práctica a realizar\n",
    "\n",
    "A continuación encontraréis un conjunto de problemas que os pueden servir para practicar los conceptos explicados en esta unidad. Os recomendamos que intentéis realizar estos problemas vosotros mismos y que, una vez realizados, comparéis la solución que proponemos con la vuestra. No dudéis en dirigir todas las dudas que surjan o bien de la resolución de estos ejercicios o bien de las soluciones propuestas en el foro del aula.\n",
    "\n",
    "- En esta actividad intentaremos ver gráficamente si hay alguna correlación entre las coordenadas geográficas de un país y el número de defunciones por Covid-19 que se han reportado. Para ello, utilizaremos, por un lado, los datos sobre Covid-19 recopilados por el European Center for Disease Prevention and Control (ECDC) y, por otro lado, **una API externa para obtener la localización geográfica de los países.**\n",
    "\n",
    "El objetivo de la actividad es generar un scatter plot con el número de defunciones de cada país del que tenemos datos y la posición geográfica de este país:\n",
    "\n",
    "* Cada punto del plot representará un país.\n",
    "* Los ejes x e y del plot representarán las coordenadas geográficas del país.\n",
    "* El tamaño del punto representará el número de defunciones.\n",
    "\n",
    "Los datos de defunciones de cada país se pueden obtener del dataset del ECDC, que encontraréis en data/COVID-19.csv. Los datos de localización geográfica de cada país no se encuentran en el dataset y habrá que obtenerlos utilizando alguna API externa de geolocalización (podéis elegir la API que utilizaréis).\n",
    "\n",
    "\n",
    "* 1.1. Implementad un programa **multiproceso** que genere el scatter plot especificado. Para hacerlo, pensad qué tareas se pueden paralelizar y qué herramientas podéis utilizar para coordinar los diferentes procesos."
   ]
  },
  {
   "cell_type": "code",
   "execution_count": 5,
   "metadata": {},
   "outputs": [],
   "source": [
    "import pandas as pd\n",
    "import requests\n",
    "import matplotlib.pyplot as plt\n",
    "\n",
    "\n",
    "from multiprocessing import Process\n",
    "from multiprocessing import JoinableQueue, Queue"
   ]
  },
  {
   "cell_type": "markdown",
   "metadata": {},
   "source": [
    "`https://api.opencagedata.com/geocode/v1/json?q={}&key={}`"
   ]
  },
  {
   "cell_type": "code",
   "execution_count": 6,
   "metadata": {},
   "outputs": [],
   "source": [
    "def get_geo_coords(country_name):\n",
    "    api_key = \"300595568e734839a77c490e4fecd0fd\"\n",
    "    base_url = \"https://api.opencagedata.com/geocode/v1/json?q={}&key={}\"\n",
    "\n",
    "    try:\n",
    "        response = requests.get(base_url.format(country_name, api_key))\n",
    "        r = response.json()\n",
    "        lat = r['results'][0]['geometry']['lat']\n",
    "        lng = r['results'][0]['geometry']['lng']\n",
    "    except Exception as e:\n",
    "        lat, lng = 0, 0\n",
    "    \n",
    "    return lat, lng"
   ]
  },
  {
   "cell_type": "code",
   "execution_count": 7,
   "metadata": {},
   "outputs": [
    {
     "data": {
      "text/plain": [
       "(42.6384261, 12.674297)"
      ]
     },
     "execution_count": 7,
     "metadata": {},
     "output_type": "execute_result"
    }
   ],
   "source": [
    "get_geo_coords(\"Italy\")"
   ]
  },
  {
   "cell_type": "code",
   "execution_count": 5,
   "metadata": {},
   "outputs": [],
   "source": [
    "def get_coords_proc(p_index, countries_q, results_q):\n",
    "    \"\"\"\n",
    "    Obtiene tareas (países de los que queremos saber las coordenadas)\n",
    "        de la cola `countries_q`, realiza las tareas y guarda los\n",
    "        resultados en la cola `results_q`.\n",
    "\n",
    "    Finaliza cuando ya no hay tareas por realizar.\n",
    "    \"\"\"\n",
    "    logging.info(\"[P{}]\\tStarted\".format(p_index))\n",
    "\n",
    "    # Obtenemos la primera tarea\n",
    "    country = countries_q.get()\n",
    "    # Mientras haya tareas pendientes, las realizamos\n",
    "    while country:\n",
    "        logging.info(\"[P{}]\\tStarting to work on {}\".format(p_index, country))\n",
    "        r = get_geo_coords(country)\n",
    "        logging.info(\"[P{}]\\tResult is {}\".format(p_index, r))\n",
    "        # Guardamos el resultado en la cola results_q\n",
    "        results_q.put([country, r])\n",
    "        # Indicamos que hemos finalizado la tarea\n",
    "        countries_q.task_done()\n",
    "        # Obtenemos la próxima tarea\n",
    "        country = countries_q.get()\n",
    "\n",
    "    logging.info(\"[P{}]\\tEnding\".format(p_index))\n",
    "    # Indicamos que hemos finalizado la última tarea obtenida de la cola\n",
    "    # (que era None, el marcador de final de tareas)\n",
    "    countries_q.task_done()\n",
    "    logging.info(\"[P{}]\\tProcess ended\".format(p_index))"
   ]
  },
  {
   "cell_type": "code",
   "execution_count": 6,
   "metadata": {},
   "outputs": [],
   "source": [
    "\n",
    "\n",
    "def get_coords_multiproc(countries, num_processes):\n",
    "    \"\"\"\n",
    "    Obtiene las coordenadas geográficas de una lista de países, utilizando\n",
    "        `num_processes` procesos independientes para la obtención de los datos.\n",
    "    \"\"\"\n",
    "    # Creamos la cola de resultados\n",
    "    results_q = Queue()\n",
    "    # Creamos la cola de tareas por realizar\n",
    "    countries_q = JoinableQueue()\n",
    "    # Añadimos los países a la cola de tareas\n",
    "    for country in countries:\n",
    "        countries_q.put(country)\n",
    "\n",
    "    # Añadimos un indicador de final de proceso al final de la lista\n",
    "    # de tareas para cada proceso\n",
    "    for _ in range(num_processes):\n",
    "        countries_q.put(None)\n",
    "\n",
    "    # Iniciamos los `num_processes` procesos con la tarea de obtener\n",
    "    # las coordenadas y pasando las colas como parámetros\n",
    "    for i in range(num_processes):\n",
    "        process = Process(target=get_coords_proc,\n",
    "                          args=(i, countries_q, results_q))\n",
    "        process.start()\n",
    "\n",
    "    # Esperamos a que se hayan completado todas las tareas\n",
    "    logging.info(\"[M]\\tWaiting to join processes\")\n",
    "    countries_q.join()\n",
    "    logging.info(\"[M]\\tProcesses joined!\")\n",
    "    r_list = {}\n",
    "    while not results_q.empty():\n",
    "        e = results_q.get()\n",
    "        r_list[e[0]] = e[1]\n",
    "\n",
    "    return r_list\n",
    "\n",
    "\n"
   ]
  },
  {
   "cell_type": "code",
   "execution_count": null,
   "metadata": {},
   "outputs": [],
   "source": [
    "def plot_results(deaths_by_country, countries_coords):\n",
    "    \"\"\"\n",
    "    Genera el scatter plot con los resultados.\n",
    "    \"\"\"\n",
    "    plt.figure()\n",
    "    x, y, d = zip(*[(v[0], v[1], deaths_by_country[k])\n",
    "                    for k, v in countries_coords.items()])\n",
    "    plt.scatter(x, y, s=d, alpha=0.7)"
   ]
  },
  {
   "cell_type": "code",
   "execution_count": 9,
   "metadata": {},
   "outputs": [
    {
     "name": "stdout",
     "output_type": "stream",
     "text": [
      "[30604]\t14:40:32 INFO: [M]\tWaiting to join processes\n"
     ]
    }
   ],
   "source": [
    "%%time\n",
    "\n",
    "data = pd.read_csv(\"data/COVID-19.csv\")\n",
    "\n",
    "# Sumamos las defunciones por país\n",
    "deaths_by_country = data.groupby(['countriesAndTerritories'])['deaths'].sum()\n",
    "\n",
    "# Obtenemos la coordenada\n",
    "countries_coords = get_coords_multiproc(deaths_by_country.index, num_processes=4)\n",
    "\n",
    "# Mostramos los resultados\n",
    "plot_results(deaths_by_country, countries_coords)"
   ]
  },
  {
   "cell_type": "code",
   "execution_count": null,
   "metadata": {},
   "outputs": [],
   "source": []
  },
  {
   "cell_type": "markdown",
   "metadata": {},
   "source": [
    "* 1.2. Implementad un programa **multithreaded** que genere el scatter plot especificado. Para hacerlo, pensad qué tareas pueden ejecutarse en diferentes threads y qué herramientas podéis utilizar para evitar las interferencias entre los threads. \n",
    "\n",
    "En este caso, utilizaremos una implementación similar a la versión multiproceso:\n",
    "\n",
    "Mantendremos el uso de la JoinableQueue para coordinar las tareas de los diferentes procesos.No necesitaremos usar una cola de resultados, ya que los threads comparten variables. Por lo tanto, vamos a crear directamente un diccionario de resultados countries_coords y los threads escribirán directamente los resultados que vayan obteniendo. Usaremos un `lock` para evitar interferencias en la actualización del diccionario."
   ]
  },
  {
   "cell_type": "code",
   "execution_count": 8,
   "metadata": {},
   "outputs": [],
   "source": [
    "def get_coords_thr(t_index, countries_q, lock, countries_coords):\n",
    "    \"\"\"\n",
    "    Obtiene tareas (países de los que queremos saber las coordenadas)\n",
    "        de la cola `countries_q`, realiza las tareas y guarda los\n",
    "        resultados en el diccionario `countries_coords`.\n",
    "\n",
    "    Finaliza cuando ya no hay tareas por realizar.\n",
    "    \"\"\"\n",
    "    logging.info(\"[T{}]\\tStarted\".format(t_index))\n",
    "\n",
    "    # Obtenemos la primera tarea\n",
    "    country = countries_q.get()\n",
    "    # Mientras haya tareas pendientes, las realizamos\n",
    "    while country:\n",
    "        logging.info(\"[T{}]\\tStarting to work on {}\".format(t_index, country))\n",
    "        r = get_geo_coords(country)\n",
    "        logging.info(\"[T{}]\\tResult is {}\".format(t_index, r))\n",
    "        \n",
    "        # Guardamos el resultado en el diccionario de resultados, obteniendo\n",
    "        # primero el lock y liberándolo cuando acabemos la actualización\n",
    "        lock.acquire()\n",
    "        countries_coords[country] = r\n",
    "        lock.release()\n",
    "        # Indicamos que hemos finalizado la tarea\n",
    "        countries_q.task_done()\n",
    "        # Obtenemos la próxima tarea\n",
    "        country = countries_q.get()\n",
    "\n",
    "    logging.info(\"[T{}]\\tEnding\".format(t_index))\n",
    "    # Indicamos que hemos finalizado la última tarea obtenida de la cola\n",
    "    # (que era None, el marcador de final de tareas)\n",
    "    countries_q.task_done()\n",
    "    logging.info(\"[T{}]\\tThread ended\".format(t_index))"
   ]
  },
  {
   "cell_type": "code",
   "execution_count": 9,
   "metadata": {},
   "outputs": [],
   "source": [
    "def get_coords_multithr(countries, num_threads, lock, countries_coords):\n",
    "    \"\"\"\n",
    "    Obtiene las coordenadas geográficas de una lista de países, utilizando\n",
    "        `num_threads` threads para la obtención de los datos.\n",
    "    \"\"\"\n",
    "\n",
    "    # Creamos la cola de tareas que realizar\n",
    "    countries_q = JoinableQueue()\n",
    "    # Añadimos los países a la cola de tareas\n",
    "    for country in countries:\n",
    "        countries_q.put(country)\n",
    "\n",
    "    # Añadimos un indicador de final de tarea al final de la lista\n",
    "    # de tareas para cada thread\n",
    "    for _ in range(num_threads):\n",
    "        countries_q.put(None)\n",
    "\n",
    "    # Iniciamos los `num_threads` hilos con la tarea de obtener\n",
    "    # las coordenadas y pasando la cola como parámetro\n",
    "    for i in range(num_threads):\n",
    "        thread = Thread(target=get_coords_thr,\n",
    "                        args=(i, countries_q, lock, countries_coords))\n",
    "        thread.start()\n",
    "\n",
    "    # Esperamos a que se hayan completado todas las tareas\n",
    "    logging.info(\"[M]\\tWaiting to join threads\")\n",
    "    countries_q.join()\n",
    "    logging.info(\"[M]\\tThreads joined!\")"
   ]
  },
  {
   "cell_type": "code",
   "execution_count": 14,
   "metadata": {},
   "outputs": [],
   "source": [
    "def plot_results(deaths_by_country, countries_coords):\n",
    "    \"\"\"\n",
    "    Genera el scatter plot con los resultados.\n",
    "    \"\"\"\n",
    "    plt.figure()\n",
    "    x, y, d = zip(*[(v[0], v[1], deaths_by_country[k])\n",
    "                    for k, v in countries_coords.items()])\n",
    "    plt.scatter(x, y, s=d, alpha=0.7)"
   ]
  },
  {
   "cell_type": "code",
   "execution_count": 15,
   "metadata": {},
   "outputs": [
    {
     "name": "stdout",
     "output_type": "stream",
     "text": [
      "[38156]\t14:48:31 INFO: [T0]\tStarted\n",
      "[38156]\t14:48:31 INFO: [T1]\tStarted\n",
      "[38156]\t14:48:31 INFO: [T2]\tStarted\n",
      "[38156]\t14:48:31 INFO: [T3]\tStarted\n",
      "[38156]\t14:48:31 INFO: [M]\tWaiting to join threads\n",
      "[38156]\t14:48:31 INFO: [T0]\tStarting to work on Afghanistan\n",
      "[38156]\t14:48:31 INFO: [T1]\tStarting to work on Albania\n",
      "[38156]\t14:48:31 INFO: [T2]\tStarting to work on Algeria\n",
      "[38156]\t14:48:31 INFO: [T3]\tStarting to work on Andorra\n",
      "[38156]\t14:48:31 INFO: [T1]\tResult is (41.000028, 19.9999619)\n",
      "[38156]\t14:48:31 INFO: [T0]\tResult is (33.7680065, 66.2385139)\n",
      "[38156]\t14:48:31 INFO: [T1]\tStarting to work on Angola\n",
      "[38156]\t14:48:31 INFO: [T0]\tStarting to work on Anguilla\n",
      "[38156]\t14:48:31 INFO: [T2]\tResult is (28.0000272, 2.9999825)\n",
      "[38156]\t14:48:31 INFO: [T2]\tStarting to work on Antigua_and_Barbuda\n",
      "[38156]\t14:48:31 INFO: [T3]\tResult is (42.5407167, 1.5732033)\n",
      "[38156]\t14:48:31 INFO: [T3]\tStarting to work on Argentina\n",
      "[38156]\t14:48:31 INFO: [T2]\tResult is (17.05, -61.8)\n",
      "[38156]\t14:48:31 INFO: [T0]\tResult is (18.1954947, -63.0750234)\n",
      "[38156]\t14:48:31 INFO: [T1]\tResult is (-11.8775768, 17.5691241)\n",
      "[38156]\t14:48:31 INFO: [T2]\tStarting to work on Armenia\n",
      "[38156]\t14:48:32 INFO: [T0]\tStarting to work on Aruba\n",
      "[38156]\t14:48:32 INFO: [T1]\tStarting to work on Australia\n",
      "[38156]\t14:48:32 INFO: [T3]\tResult is (-34.9964963, -64.9672817)\n",
      "[38156]\t14:48:32 INFO: [T3]\tStarting to work on Austria\n",
      "[38156]\t14:48:32 INFO: [T2]\tResult is (40.7696272, 44.6736646)\n",
      "[38156]\t14:48:32 INFO: [T2]\tStarting to work on Azerbaijan\n",
      "[38156]\t14:48:32 INFO: [T0]\tResult is (12.5175662, -69.9818642)\n",
      "[38156]\t14:48:32 INFO: [T0]\tStarting to work on Bahamas\n",
      "[38156]\t14:48:32 INFO: [T3]\tResult is (47.59397, 14.12456)\n",
      "[38156]\t14:48:32 INFO: [T3]\tStarting to work on Bahrain\n",
      "[38156]\t14:48:32 INFO: [T1]\tResult is (-24.7761086, 134.755)\n",
      "[38156]\t14:48:32 INFO: [T1]\tStarting to work on Bangladesh\n",
      "[38156]\t14:48:32 INFO: [T0]\tResult is (24.7736546, -78.0000547)\n",
      "[38156]\t14:48:32 INFO: [T0]\tStarting to work on Barbados\n",
      "[38156]\t14:48:32 INFO: [T2]\tResult is (40.3936294, 47.7872508)\n",
      "[38156]\t14:48:32 INFO: [T2]\tStarting to work on Belarus\n",
      "[38156]\t14:48:32 INFO: [T3]\tResult is (26.1551249, 50.5344606)\n",
      "[38156]\t14:48:32 INFO: [T3]\tStarting to work on Belgium\n",
      "[38156]\t14:48:32 INFO: [T1]\tResult is (23.5031022, 90.0038652)\n",
      "[38156]\t14:48:32 INFO: [T1]\tStarting to work on Belize\n",
      "[38156]\t14:48:33 INFO: [T0]\tResult is (13.1500331, -59.5250305)\n",
      "[38156]\t14:48:33 INFO: [T0]\tStarting to work on Benin\n",
      "[38156]\t14:48:33 INFO: [T3]\tResult is (50.6402809, 4.6667145)\n",
      "[38156]\t14:48:33 INFO: [T3]\tStarting to work on Bermuda\n",
      "[38156]\t14:48:33 INFO: [T2]\tResult is (53.4250605, 27.6971358)\n",
      "[38156]\t14:48:33 INFO: [T2]\tStarting to work on Bhutan\n",
      "[38156]\t14:48:33 INFO: [T1]\tResult is (16.8259793, -88.7600927)\n",
      "[38156]\t14:48:33 INFO: [T1]\tStarting to work on Bolivia\n",
      "[38156]\t14:48:33 INFO: [T0]\tResult is (9.5293472, 2.2584408)\n",
      "[38156]\t14:48:33 INFO: [T0]\tStarting to work on Bonaire, Saint Eustatius and Saba\n",
      "[38156]\t14:48:33 INFO: [T2]\tResult is (27.549511, 90.5119273)\n",
      "[38156]\t14:48:33 INFO: [T2]\tStarting to work on Bosnia_and_Herzegovina\n",
      "[38156]\t14:48:33 INFO: [T3]\tResult is (32.3018217, -64.7603583)\n",
      "[38156]\t14:48:33 INFO: [T3]\tStarting to work on Botswana\n",
      "[38156]\t14:48:33 INFO: [T1]\tResult is (-17.0568696, -64.9912286)\n",
      "[38156]\t14:48:33 INFO: [T1]\tStarting to work on Brazil\n",
      "[38156]\t14:48:33 INFO: [T0]\tResult is (12.21286, -68.29445)\n",
      "[38156]\t14:48:33 INFO: [T0]\tStarting to work on British_Virgin_Islands\n",
      "[38156]\t14:48:33 INFO: [T1]\tResult is (-10.3333333, -53.2)\n",
      "[38156]\t14:48:33 INFO: [T1]\tStarting to work on Brunei_Darussalam\n",
      "[38156]\t14:48:33 INFO: [T3]\tResult is (-23.1681782, 24.5928742)\n",
      "[38156]\t14:48:33 INFO: [T3]\tStarting to work on Bulgaria\n",
      "[38156]\t14:48:33 INFO: [T2]\tResult is (44.25, 17.83333)\n",
      "[38156]\t14:48:33 INFO: [T2]\tStarting to work on Burkina_Faso\n",
      "[38156]\t14:48:33 INFO: [T0]\tResult is (18.5, -64.5)\n",
      "[38156]\t14:48:33 INFO: [T0]\tStarting to work on Burundi\n",
      "[38156]\t14:48:34 INFO: [T1]\tResult is (4.5, 114.66667)\n",
      "[38156]\t14:48:34 INFO: [T1]\tStarting to work on Cambodia\n",
      "[38156]\t14:48:34 INFO: [T2]\tResult is (12.0753083, -1.6880314)\n",
      "[38156]\t14:48:34 INFO: [T2]\tStarting to work on Cameroon\n",
      "[38156]\t14:48:34 INFO: [T3]\tResult is (42.6073975, 25.4856617)\n",
      "[38156]\t14:48:34 INFO: [T3]\tStarting to work on Canada\n",
      "[38156]\t14:48:34 INFO: [T0]\tResult is (-3.426449, 29.9324519)\n",
      "[38156]\t14:48:34 INFO: [T0]\tStarting to work on Cape_Verde\n",
      "[38156]\t14:48:34 INFO: [T2]\tResult is (4.6125522, 13.1535811)\n",
      "[38156]\t14:48:34 INFO: [T2]\tStarting to work on Cases_on_an_international_conveyance_Japan\n",
      "[38156]\t14:48:34 INFO: [T1]\tResult is (13.5066394, 104.869423)\n",
      "[38156]\t14:48:34 INFO: [T1]\tStarting to work on Cayman_Islands\n",
      "[38156]\t14:48:34 INFO: [T3]\tResult is (61.0666922, -107.991707)\n",
      "[38156]\t14:48:34 INFO: [T3]\tStarting to work on Central_African_Republic\n",
      "[38156]\t14:48:34 INFO: [T0]\tResult is (16.0, -24.0)\n",
      "[38156]\t14:48:34 INFO: [T0]\tStarting to work on Chad\n",
      "[38156]\t14:48:34 INFO: [T2]\tResult is (35.68536, 139.75309)\n",
      "[38156]\t14:48:34 INFO: [T2]\tStarting to work on Chile\n",
      "[38156]\t14:48:34 INFO: [T3]\tResult is (7.0, 21.0)\n",
      "[38156]\t14:48:34 INFO: [T3]\tStarting to work on China\n",
      "[38156]\t14:48:34 INFO: [T1]\tResult is (19.5, -80.66667)\n",
      "[38156]\t14:48:34 INFO: [T1]\tStarting to work on Colombia\n",
      "[38156]\t14:48:35 INFO: [T2]\tResult is (-31.7613365, -71.3187697)\n",
      "[38156]\t14:48:35 INFO: [T2]\tStarting to work on Comoros\n",
      "[38156]\t14:48:35 INFO: [T0]\tResult is (15.6134137, 19.0156172)\n",
      "[38156]\t14:48:35 INFO: [T0]\tStarting to work on Congo\n",
      "[38156]\t14:48:35 INFO: [T3]\tResult is (35.000074, 104.999927)\n",
      "[38156]\t14:48:35 INFO: [T3]\tStarting to work on Costa_Rica\n",
      "[38156]\t14:48:35 INFO: [T1]\tResult is (4.099917, -72.9088133)\n",
      "[38156]\t14:48:35 INFO: [T1]\tStarting to work on Cote_dIvoire\n",
      "[38156]\t14:48:35 INFO: [T2]\tResult is (-12.2045176, 44.2832964)\n",
      "[38156]\t14:48:35 INFO: [T2]\tStarting to work on Croatia\n",
      "[38156]\t14:48:35 INFO: [T3]\tResult is (45.8302419, 10.2568862)\n",
      "[38156]\t14:48:35 INFO: [T3]\tStarting to work on Cuba\n",
      "[38156]\t14:48:35 INFO: [T1]\tResult is (8.0, -5.5)\n",
      "[38156]\t14:48:35 INFO: [T1]\tStarting to work on CuraÃ§ao\n",
      "[38156]\t14:48:35 INFO: [T0]\tResult is (-0.7264327, 15.6419155)\n",
      "[38156]\t14:48:35 INFO: [T0]\tStarting to work on Cyprus\n",
      "[38156]\t14:48:35 INFO: [T2]\tResult is (45.5643442, 17.0118954)\n",
      "[38156]\t14:48:35 INFO: [T2]\tStarting to work on Czechia\n",
      "[38156]\t14:48:35 INFO: [T1]\tResult is (0, 0)\n",
      "[38156]\t14:48:35 INFO: [T1]\tStarting to work on Democratic_Republic_of_the_Congo\n",
      "[38156]\t14:48:36 INFO: [T2]\tResult is (49.8167003, 15.4749544)\n",
      "[38156]\t14:48:36 INFO: [T2]\tStarting to work on Denmark\n",
      "[38156]\t14:48:36 INFO: [T0]\tResult is (34.9823018, 33.1451285)\n",
      "[38156]\t14:48:36 INFO: [T0]\tStarting to work on Djibouti\n",
      "[38156]\t14:48:36 INFO: [T1]\tResult is (-2.5, 23.5)\n",
      "[38156]\t14:48:36 INFO: [T1]\tStarting to work on Dominica\n",
      "[38156]\t14:48:36 INFO: [T3]\tResult is (23.0131338, -80.8328748)\n",
      "[38156]\t14:48:36 INFO: [T3]\tStarting to work on Dominican_Republic\n",
      "[38156]\t14:48:36 INFO: [T2]\tResult is (55.670249, 10.3333283)\n",
      "[38156]\t14:48:36 INFO: [T2]\tStarting to work on Ecuador\n",
      "[38156]\t14:48:36 INFO: [T3]\tResult is (19.0, -70.66667)\n",
      "[38156]\t14:48:36 INFO: [T3]\tStarting to work on Egypt\n",
      "[38156]\t14:48:36 INFO: [T0]\tResult is (11.8145966, 42.8453061)\n",
      "[38156]\t14:48:36 INFO: [T0]\tStarting to work on El_Salvador\n",
      "[38156]\t14:48:36 INFO: [T1]\tResult is (19.0974031, -70.3028026)\n",
      "[38156]\t14:48:36 INFO: [T1]\tStarting to work on Equatorial_Guinea\n",
      "[38156]\t14:48:36 INFO: [T2]\tResult is (-1.3397668, -79.3666965)\n",
      "[38156]\t14:48:36 INFO: [T2]\tStarting to work on Eritrea\n",
      "[38156]\t14:48:36 INFO: [T3]\tResult is (26.2540493, 29.2675469)\n",
      "[38156]\t14:48:36 INFO: [T3]\tStarting to work on Estonia\n",
      "[38156]\t14:48:36 INFO: [T1]\tResult is (1.613172, 10.5170357)\n",
      "[38156]\t14:48:36 INFO: [T1]\tStarting to work on Eswatini\n",
      "[38156]\t14:48:36 INFO: [T0]\tResult is (10.4975281, 124.03134)\n",
      "[38156]\t14:48:36 INFO: [T0]\tStarting to work on Ethiopia\n",
      "[38156]\t14:48:37 INFO: [T2]\tResult is (15.9500319, 37.9999668)\n",
      "[38156]\t14:48:37 INFO: [T2]\tStarting to work on Falkland_Islands_(Malvinas)\n",
      "[38156]\t14:48:37 INFO: [T1]\tResult is (-26.5624806, 31.3991317)\n",
      "[38156]\t14:48:37 INFO: [T1]\tStarting to work on Faroe_Islands\n",
      "[38156]\t14:48:37 INFO: [T3]\tResult is (58.7523778, 25.3319078)\n",
      "[38156]\t14:48:37 INFO: [T3]\tStarting to work on Fiji\n",
      "[38156]\t14:48:37 INFO: [T0]\tResult is (10.2116702, 38.6521203)\n",
      "[38156]\t14:48:37 INFO: [T0]\tStarting to work on Finland\n",
      "[38156]\t14:48:37 INFO: [T2]\tResult is (-51.75, -59.16667)\n",
      "[38156]\t14:48:37 INFO: [T2]\tStarting to work on France\n",
      "[38156]\t14:48:37 INFO: [T1]\tResult is (62.0, -7.0)\n",
      "[38156]\t14:48:37 INFO: [T1]\tStarting to work on French_Polynesia\n",
      "[38156]\t14:48:37 INFO: [T0]\tResult is (63.2467777, 25.9209164)\n",
      "[38156]\t14:48:37 INFO: [T3]\tResult is (-18.1239696, 179.0122737)\n",
      "[38156]\t14:48:37 INFO: [T0]\tStarting to work on Gabon\n",
      "[38156]\t14:48:37 INFO: [T3]\tStarting to work on Gambia\n",
      "[38156]\t14:48:37 INFO: [T1]\tResult is (-15.0, -140.0)\n",
      "[38156]\t14:48:37 INFO: [T1]\tStarting to work on Georgia\n",
      "[38156]\t14:48:37 INFO: [T2]\tResult is (46.603354, 1.8883335)\n",
      "[38156]\t14:48:37 INFO: [T2]\tStarting to work on Germany\n",
      "[38156]\t14:48:38 INFO: [T0]\tResult is (-0.8999695, 11.6899699)\n",
      "[38156]\t14:48:38 INFO: [T3]\tResult is (13.470062, -15.4900464)\n",
      "[38156]\t14:48:38 INFO: [T0]\tStarting to work on Ghana\n",
      "[38156]\t14:48:38 INFO: [T3]\tStarting to work on Gibraltar\n",
      "[38156]\t14:48:38 INFO: [T2]\tResult is (51.0834196, 10.4234469)\n",
      "[38156]\t14:48:38 INFO: [T2]\tStarting to work on Greece\n",
      "[38156]\t14:48:38 INFO: [T1]\tResult is (41.6809707, 44.0287382)\n",
      "[38156]\t14:48:38 INFO: [T1]\tStarting to work on Greenland\n",
      "[38156]\t14:48:38 INFO: [T0]\tResult is (8.0300284, -1.0800271)\n",
      "[38156]\t14:48:38 INFO: [T0]\tStarting to work on Grenada\n",
      "[38156]\t14:48:38 INFO: [T3]\tResult is (36.140807, -5.3541295)\n",
      "[38156]\t14:48:38 INFO: [T3]\tStarting to work on Guam\n",
      "[38156]\t14:48:38 INFO: [T2]\tResult is (38.9953683, 21.9877132)\n",
      "[38156]\t14:48:38 INFO: [T2]\tStarting to work on Guatemala\n",
      "[38156]\t14:48:38 INFO: [T1]\tResult is (77.6192349, -42.8125967)\n",
      "[38156]\t14:48:38 INFO: [T1]\tStarting to work on Guernsey\n",
      "[38156]\t14:48:38 INFO: [T2]\tResult is (15.6871007, -90.1226545)\n",
      "[38156]\t14:48:38 INFO: [T2]\tStarting to work on Guinea\n",
      "[38156]\t14:48:38 INFO: [T0]\tResult is (12.1360374, -61.6904045)\n",
      "[38156]\t14:48:38 INFO: [T0]\tStarting to work on Guinea_Bissau\n",
      "[38156]\t14:48:39 INFO: [T1]\tResult is (49.4566233, -2.5822348)\n",
      "[38156]\t14:48:39 INFO: [T1]\tStarting to work on Guyana\n",
      "[38156]\t14:48:39 INFO: [T0]\tResult is (12.0, -15.0)\n",
      "[38156]\t14:48:39 INFO: [T0]\tStarting to work on Haiti\n",
      "[38156]\t14:48:39 INFO: [T3]\tResult is (13.4501257, 144.757551)\n",
      "[38156]\t14:48:39 INFO: [T3]\tStarting to work on Holy_See\n",
      "[38156]\t14:48:39 INFO: [T2]\tResult is (10.7226226, -10.7083587)\n",
      "[38156]\t14:48:39 INFO: [T2]\tStarting to work on Honduras\n",
      "[38156]\t14:48:39 INFO: [T1]\tResult is (4.8417097, -58.6416891)\n",
      "[38156]\t14:48:39 INFO: [T1]\tStarting to work on Hungary\n",
      "[38156]\t14:48:39 INFO: [T3]\tResult is (41.90225, 12.4533)\n",
      "[38156]\t14:48:39 INFO: [T3]\tStarting to work on Iceland\n",
      "[38156]\t14:48:39 INFO: [T0]\tResult is (19.1399952, -72.3570972)\n",
      "[38156]\t14:48:39 INFO: [T0]\tStarting to work on India\n",
      "[38156]\t14:48:39 INFO: [T2]\tResult is (15.2572432, -86.0755145)\n",
      "[38156]\t14:48:39 INFO: [T2]\tStarting to work on Indonesia\n",
      "[38156]\t14:48:39 INFO: [T1]\tResult is (47.1817585, 19.5060937)\n",
      "[38156]\t14:48:39 INFO: [T1]\tStarting to work on Iran\n",
      "[38156]\t14:48:39 INFO: [T3]\tResult is (64.9841821, -18.1059013)\n",
      "[38156]\t14:48:39 INFO: [T3]\tStarting to work on Iraq\n",
      "[38156]\t14:48:40 INFO: [T0]\tResult is (22.3511148, 78.6677428)\n",
      "[38156]\t14:48:40 INFO: [T0]\tStarting to work on Ireland\n",
      "[38156]\t14:48:40 INFO: [T2]\tResult is (-2.4833826, 117.8902853)\n",
      "[38156]\t14:48:40 INFO: [T2]\tStarting to work on Isle_of_Man\n",
      "[38156]\t14:48:40 INFO: [T1]\tResult is (32.6475314, 54.5643516)\n",
      "[38156]\t14:48:40 INFO: [T1]\tStarting to work on Israel\n",
      "[38156]\t14:48:40 INFO: [T3]\tResult is (33.0955793, 44.1749775)\n",
      "[38156]\t14:48:40 INFO: [T3]\tStarting to work on Italy\n",
      "[38156]\t14:48:40 INFO: [T0]\tResult is (52.865196, -7.9794599)\n",
      "[38156]\t14:48:40 INFO: [T0]\tStarting to work on Jamaica\n",
      "[38156]\t14:48:40 INFO: [T2]\tResult is (54.1714195, -4.4958104)\n",
      "[38156]\t14:48:40 INFO: [T2]\tStarting to work on Japan\n",
      "[38156]\t14:48:40 INFO: [T3]\tResult is (42.6384261, 12.674297)\n",
      "[38156]\t14:48:40 INFO: [T3]\tStarting to work on Jersey\n",
      "[38156]\t14:48:40 INFO: [T1]\tResult is (31.5313113, 34.8667654)\n",
      "[38156]\t14:48:40 INFO: [T1]\tStarting to work on Jordan\n",
      "[38156]\t14:48:40 INFO: [T0]\tResult is (18.1850507, -77.3947693)\n",
      "[38156]\t14:48:40 INFO: [T0]\tStarting to work on Kazakhstan\n",
      "[38156]\t14:48:41 INFO: [T3]\tResult is (49.2214561, -2.1358386)\n",
      "[38156]\t14:48:41 INFO: [T3]\tStarting to work on Kenya\n",
      "[38156]\t14:48:41 INFO: [T2]\tResult is (36.5748441, 139.2394179)\n",
      "[38156]\t14:48:41 INFO: [T2]\tStarting to work on Kosovo\n",
      "[38156]\t14:48:41 INFO: [T1]\tResult is (31.1667049, 36.941628)\n",
      "[38156]\t14:48:41 INFO: [T1]\tStarting to work on Kuwait\n",
      "[38156]\t14:48:41 INFO: [T0]\tResult is (47.2286086, 65.2093197)\n",
      "[38156]\t14:48:41 INFO: [T0]\tStarting to work on Kyrgyzstan\n",
      "[38156]\t14:48:41 INFO: [T3]\tResult is (1.4419683, 38.4313975)\n",
      "[38156]\t14:48:41 INFO: [T3]\tStarting to work on Laos\n",
      "[38156]\t14:48:41 INFO: [T1]\tResult is (29.2733964, 47.4979476)\n",
      "[38156]\t14:48:41 INFO: [T1]\tStarting to work on Latvia\n",
      "[38156]\t14:48:41 INFO: [T2]\tResult is (42.5869578, 20.9021231)\n",
      "[38156]\t14:48:41 INFO: [T2]\tStarting to work on Lebanon\n",
      "[38156]\t14:48:41 INFO: [T0]\tResult is (41.5089324, 74.724091)\n",
      "[38156]\t14:48:41 INFO: [T0]\tStarting to work on Liberia\n",
      "[38156]\t14:48:41 INFO: [T1]\tResult is (56.8406494, 24.7537645)\n",
      "[38156]\t14:48:41 INFO: [T1]\tStarting to work on Libya\n",
      "[38156]\t14:48:41 INFO: [T3]\tResult is (20.0171109, 103.378253)\n",
      "[38156]\t14:48:41 INFO: [T3]\tStarting to work on Liechtenstein\n",
      "[38156]\t14:48:41 INFO: [T2]\tResult is (33.8750629, 35.843409)\n",
      "[38156]\t14:48:41 INFO: [T2]\tStarting to work on Lithuania\n",
      "[38156]\t14:48:42 INFO: [T2]\tResult is (55.3500003, 23.7499997)\n",
      "[38156]\t14:48:42 INFO: [T2]\tStarting to work on Luxembourg\n",
      "[38156]\t14:48:42 INFO: [T1]\tResult is (26.8234472, 18.1236723)\n",
      "[38156]\t14:48:42 INFO: [T1]\tStarting to work on Madagascar\n",
      "[38156]\t14:48:42 INFO: [T0]\tResult is (5.7499721, -9.3658524)\n",
      "[38156]\t14:48:42 INFO: [T0]\tStarting to work on Malawi\n",
      "[38156]\t14:48:42 INFO: [T3]\tResult is (47.1416307, 9.5531527)\n",
      "[38156]\t14:48:42 INFO: [T3]\tStarting to work on Malaysia\n",
      "[38156]\t14:48:42 INFO: [T3]\tResult is (4.5693754, 102.2656823)\n",
      "[38156]\t14:48:42 INFO: [T3]\tStarting to work on Maldives\n",
      "[38156]\t14:48:42 INFO: [T1]\tResult is (-18.9249604, 46.4416422)\n",
      "[38156]\t14:48:42 INFO: [T1]\tStarting to work on Mali\n",
      "[38156]\t14:48:42 INFO: [T0]\tResult is (-13.2687204, 33.9301963)\n",
      "[38156]\t14:48:42 INFO: [T0]\tStarting to work on Malta\n",
      "[38156]\t14:48:42 INFO: [T2]\tResult is (49.8158683, 6.1296751)\n",
      "[38156]\t14:48:42 INFO: [T2]\tStarting to work on Mauritania\n",
      "[38156]\t14:48:43 INFO: [T1]\tResult is (16.3700359, -2.2900239)\n",
      "[38156]\t14:48:43 INFO: [T1]\tStarting to work on Mauritius\n",
      "[38156]\t14:48:43 INFO: [T0]\tResult is (35.8885993, 14.4476911)\n",
      "[38156]\t14:48:43 INFO: [T0]\tStarting to work on Mexico\n",
      "[38156]\t14:48:43 INFO: [T3]\tResult is (3.7203503, 73.2244152)\n",
      "[38156]\t14:48:43 INFO: [T3]\tStarting to work on Moldova\n",
      "[38156]\t14:48:43 INFO: [T2]\tResult is (20.2540382, -9.2399263)\n",
      "[38156]\t14:48:43 INFO: [T2]\tStarting to work on Monaco\n",
      "[38156]\t14:48:43 INFO: [T3]\tResult is (47.2879608, 28.5670941)\n",
      "[38156]\t14:48:43 INFO: [T3]\tStarting to work on Mongolia\n",
      "[38156]\t14:48:43 INFO: [T0]\tResult is (23.6585116, -102.0077097)\n",
      "[38156]\t14:48:43 INFO: [T0]\tStarting to work on Montenegro\n",
      "[38156]\t14:48:43 INFO: [T2]\tResult is (43.7323492, 7.4276832)\n",
      "[38156]\t14:48:43 INFO: [T2]\tStarting to work on Montserrat\n",
      "[38156]\t14:48:43 INFO: [T1]\tResult is (-20.2759451, 57.5703566)\n",
      "[38156]\t14:48:43 INFO: [T1]\tStarting to work on Morocco\n",
      "[38156]\t14:48:44 INFO: [T0]\tResult is (42.9868853, 19.5180992)\n",
      "[38156]\t14:48:44 INFO: [T0]\tStarting to work on Mozambique\n",
      "[38156]\t14:48:44 INFO: [T1]\tResult is (31.1728205, -7.3362482)\n",
      "[38156]\t14:48:44 INFO: [T1]\tStarting to work on Myanmar\n",
      "[38156]\t14:48:44 INFO: [T3]\tResult is (46.8250388, 103.8499736)\n",
      "[38156]\t14:48:44 INFO: [T3]\tStarting to work on Namibia\n",
      "[38156]\t14:48:44 INFO: [T2]\tResult is (16.7417041, -62.1916844)\n",
      "[38156]\t14:48:44 INFO: [T2]\tStarting to work on Nepal\n",
      "[38156]\t14:48:44 INFO: [T1]\tResult is (17.1750495, 95.9999652)\n",
      "[38156]\t14:48:44 INFO: [T1]\tStarting to work on Netherlands\n",
      "[38156]\t14:48:44 INFO: [T0]\tResult is (-19.302233, 34.9144977)\n",
      "[38156]\t14:48:44 INFO: [T0]\tStarting to work on New_Caledonia\n",
      "[38156]\t14:48:44 INFO: [T3]\tResult is (-23.2335499, 17.3231107)\n",
      "[38156]\t14:48:44 INFO: [T3]\tStarting to work on New_Zealand\n",
      "[38156]\t14:48:44 INFO: [T1]\tResult is (52.2434979, 5.6343227)\n",
      "[38156]\t14:48:44 INFO: [T1]\tStarting to work on Nicaragua\n",
      "[38156]\t14:48:44 INFO: [T0]\tResult is (-21.5, 165.5)\n",
      "[38156]\t14:48:44 INFO: [T0]\tStarting to work on Niger\n",
      "[38156]\t14:48:44 INFO: [T2]\tResult is (28.1083929, 84.0917139)\n",
      "[38156]\t14:48:44 INFO: [T2]\tStarting to work on Nigeria\n",
      "[38156]\t14:48:44 INFO: [T3]\tResult is (-46.4108596, 168.3516142)\n",
      "[38156]\t14:48:44 INFO: [T3]\tStarting to work on North_Macedonia\n",
      "[38156]\t14:48:44 INFO: [T1]\tResult is (12.6090157, -85.2936911)\n",
      "[38156]\t14:48:44 INFO: [T1]\tStarting to work on Northern_Mariana_Islands\n",
      "[38156]\t14:48:45 INFO: [T3]\tResult is (41.66667, 21.75)\n",
      "[38156]\t14:48:45 INFO: [T3]\tStarting to work on Norway\n",
      "[38156]\t14:48:45 INFO: [T0]\tResult is (17.7356214, 9.3238432)\n",
      "[38156]\t14:48:45 INFO: [T0]\tStarting to work on Oman\n",
      "[38156]\t14:48:45 INFO: [T2]\tResult is (9.6000359, 7.9999721)\n",
      "[38156]\t14:48:45 INFO: [T2]\tStarting to work on Pakistan\n",
      "[38156]\t14:48:45 INFO: [T1]\tResult is (15.214, 145.756)\n",
      "[38156]\t14:48:45 INFO: [T1]\tStarting to work on Palestine\n",
      "[38156]\t14:48:45 INFO: [T3]\tResult is (60.5000209, 9.0999715)\n",
      "[38156]\t14:48:45 INFO: [T3]\tStarting to work on Panama\n",
      "[38156]\t14:48:45 INFO: [T0]\tResult is (21.0000287, 57.0036901)\n",
      "[38156]\t14:48:45 INFO: [T0]\tStarting to work on Papua_New_Guinea\n",
      "[38156]\t14:48:45 INFO: [T2]\tResult is (30.3308401, 71.247499)\n",
      "[38156]\t14:48:45 INFO: [T2]\tStarting to work on Paraguay\n",
      "[38156]\t14:48:45 INFO: [T1]\tResult is (31.7621153, -95.6307891)\n",
      "[38156]\t14:48:45 INFO: [T1]\tStarting to work on Peru\n",
      "[38156]\t14:48:45 INFO: [T3]\tResult is (8.559559, -81.1308434)\n",
      "[38156]\t14:48:45 INFO: [T3]\tStarting to work on Philippines\n",
      "[38156]\t14:48:45 INFO: [T0]\tResult is (-6.0, 147.0)\n",
      "[38156]\t14:48:45 INFO: [T0]\tStarting to work on Poland\n",
      "[38156]\t14:48:46 INFO: [T1]\tResult is (-6.8699697, -75.0458515)\n",
      "[38156]\t14:48:46 INFO: [T1]\tStarting to work on Portugal\n",
      "[38156]\t14:48:46 INFO: [T0]\tResult is (52.215933, 19.134422)\n",
      "[38156]\t14:48:46 INFO: [T0]\tStarting to work on Puerto_Rico\n",
      "[38156]\t14:48:46 INFO: [T3]\tResult is (12.7503486, 122.7312101)\n",
      "[38156]\t14:48:46 INFO: [T3]\tStarting to work on Qatar\n",
      "[38156]\t14:48:46 INFO: [T2]\tResult is (-23.3165935, -58.1693445)\n",
      "[38156]\t14:48:46 INFO: [T2]\tStarting to work on Romania\n",
      "[38156]\t14:48:46 INFO: [T0]\tResult is (39.0797932, 17.1257789)\n",
      "[38156]\t14:48:46 INFO: [T0]\tStarting to work on Russia\n",
      "[38156]\t14:48:46 INFO: [T1]\tResult is (40.0332629, -7.8896263)\n",
      "[38156]\t14:48:46 INFO: [T1]\tStarting to work on Rwanda\n",
      "[38156]\t14:48:46 INFO: [T2]\tResult is (45.9852129, 24.6859225)\n",
      "[38156]\t14:48:46 INFO: [T2]\tStarting to work on Saint_Kitts_and_Nevis\n",
      "[38156]\t14:48:46 INFO: [T1]\tResult is (-1.9646631, 30.0644358)\n",
      "[38156]\t14:48:46 INFO: [T1]\tStarting to work on Saint_Lucia\n",
      "[38156]\t14:48:46 INFO: [T3]\tResult is (25.3336984, 51.2295295)\n",
      "[38156]\t14:48:46 INFO: [T3]\tStarting to work on Saint_Vincent_and_the_Grenadines\n",
      "[38156]\t14:48:46 INFO: [T0]\tResult is (64.6863136, 97.7453061)\n",
      "[38156]\t14:48:46 INFO: [T0]\tStarting to work on San_Marino\n",
      "[38156]\t14:48:46 INFO: [T2]\tResult is (17.33333, -62.75)\n",
      "[38156]\t14:48:46 INFO: [T2]\tStarting to work on Sao_Tome_and_Principe\n",
      "[38156]\t14:48:47 INFO: [T3]\tResult is (13.08333, -61.2)\n",
      "[38156]\t14:48:47 INFO: [T3]\tStarting to work on Saudi_Arabia\n",
      "[38156]\t14:48:47 INFO: [T2]\tResult is (1.0, 7.0)\n",
      "[38156]\t14:48:47 INFO: [T2]\tStarting to work on Senegal\n",
      "[38156]\t14:48:47 INFO: [T1]\tResult is (-27.5, 153.0)\n",
      "[38156]\t14:48:47 INFO: [T1]\tStarting to work on Serbia\n",
      "[38156]\t14:48:47 INFO: [T0]\tResult is (43.9458623, 12.458306)\n",
      "[38156]\t14:48:47 INFO: [T0]\tStarting to work on Seychelles\n",
      "[38156]\t14:48:47 INFO: [T3]\tResult is (25.0, 45.0)\n",
      "[38156]\t14:48:47 INFO: [T3]\tStarting to work on Sierra_Leone\n",
      "[38156]\t14:48:47 INFO: [T1]\tResult is (44.1534121, 20.55144)\n",
      "[38156]\t14:48:47 INFO: [T1]\tStarting to work on Singapore\n",
      "[38156]\t14:48:47 INFO: [T2]\tResult is (14.4750607, -14.4529612)\n",
      "[38156]\t14:48:47 INFO: [T2]\tStarting to work on Sint_Maarten\n",
      "[38156]\t14:48:47 INFO: [T3]\tResult is (8.5, -11.5)\n",
      "[38156]\t14:48:47 INFO: [T3]\tStarting to work on Slovakia\n",
      "[38156]\t14:48:47 INFO: [T0]\tResult is (-4.6574977, 55.4540146)\n",
      "[38156]\t14:48:47 INFO: [T0]\tStarting to work on Slovenia\n",
      "[38156]\t14:48:48 INFO: [T2]\tResult is (18.04167, -63.06667)\n",
      "[38156]\t14:48:48 INFO: [T2]\tStarting to work on Somalia\n",
      "[38156]\t14:48:48 INFO: [T1]\tResult is (1.357107, 103.8194992)\n",
      "[38156]\t14:48:48 INFO: [T1]\tStarting to work on South_Africa\n",
      "[38156]\t14:48:48 INFO: [T0]\tResult is (45.8133113, 14.4808369)\n",
      "[38156]\t14:48:48 INFO: [T0]\tStarting to work on South_Korea\n",
      "[38156]\t14:48:48 INFO: [T3]\tResult is (48.7411522, 19.4528646)\n",
      "[38156]\t14:48:48 INFO: [T3]\tStarting to work on South_Sudan\n",
      "[38156]\t14:48:48 INFO: [T1]\tResult is (-26.1694437, 28.1940846)\n",
      "[38156]\t14:48:48 INFO: [T1]\tStarting to work on Spain\n",
      "[38156]\t14:48:48 INFO: [T0]\tResult is (37.3210638, 127.1016242)\n",
      "[38156]\t14:48:48 INFO: [T0]\tStarting to work on Sri_Lanka\n",
      "[38156]\t14:48:48 INFO: [T3]\tResult is (7.5, 30.0)\n",
      "[38156]\t14:48:48 INFO: [T3]\tStarting to work on Sudan\n",
      "[38156]\t14:48:48 INFO: [T2]\tResult is (8.3676771, 49.083416)\n",
      "[38156]\t14:48:48 INFO: [T2]\tStarting to work on Suriname\n",
      "[38156]\t14:48:49 INFO: [T0]\tResult is (7.5554942, 80.7137847)\n",
      "[38156]\t14:48:49 INFO: [T0]\tStarting to work on Sweden\n",
      "[38156]\t14:48:49 INFO: [T1]\tResult is (39.3260685, -4.8379791)\n",
      "[38156]\t14:48:49 INFO: [T1]\tStarting to work on Switzerland\n",
      "[38156]\t14:48:49 INFO: [T2]\tResult is (4.1413025, -56.0771187)\n",
      "[38156]\t14:48:49 INFO: [T2]\tStarting to work on Syria\n",
      "[38156]\t14:48:49 INFO: [T3]\tResult is (14.5844444, 29.4917691)\n",
      "[38156]\t14:48:49 INFO: [T3]\tStarting to work on Taiwan\n",
      "[38156]\t14:48:49 INFO: [T0]\tResult is (59.6749712, 14.5208584)\n",
      "[38156]\t14:48:49 INFO: [T0]\tStarting to work on Tajikistan\n",
      "[38156]\t14:48:49 INFO: [T2]\tResult is (34.6401861, 39.0494106)\n",
      "[38156]\t14:48:49 INFO: [T2]\tStarting to work on Thailand\n",
      "[38156]\t14:48:49 INFO: [T1]\tResult is (46.7985624, 8.2319736)\n",
      "[38156]\t14:48:49 INFO: [T1]\tStarting to work on Timor_Leste\n",
      "[38156]\t14:48:49 INFO: [T0]\tResult is (38.6281733, 70.8156541)\n",
      "[38156]\t14:48:49 INFO: [T0]\tStarting to work on Togo\n",
      "[38156]\t14:48:49 INFO: [T3]\tResult is (23.9739374, 120.9820179)\n",
      "[38156]\t14:48:49 INFO: [T3]\tStarting to work on Trinidad_and_Tobago\n",
      "[38156]\t14:48:49 INFO: [T1]\tResult is (-8.83333, 125.75)\n",
      "[38156]\t14:48:49 INFO: [T1]\tStarting to work on Tunisia\n",
      "[38156]\t14:48:49 INFO: [T2]\tResult is (14.8971921, 100.83273)\n",
      "[38156]\t14:48:49 INFO: [T2]\tStarting to work on Turkey\n",
      "[38156]\t14:48:50 INFO: [T3]\tResult is (11.0, -61.0)\n",
      "[38156]\t14:48:50 INFO: [T3]\tStarting to work on Turks_and_Caicos_islands\n",
      "[38156]\t14:48:50 INFO: [T3]\tResult is (21.73333, -71.58333)\n",
      "[38156]\t14:48:50 INFO: [T0]\tResult is (8.7800265, 1.0199765)\n",
      "[38156]\t14:48:50 INFO: [T2]\tResult is (38.9597594, 34.9249653)\n",
      "[38156]\t14:48:50 INFO: [T1]\tResult is (33.8439408, 9.400138)\n",
      "[38156]\t14:48:50 INFO: [T3]\tStarting to work on Uganda\n",
      "[38156]\t14:48:50 INFO: [T0]\tStarting to work on Ukraine\n",
      "[38156]\t14:48:50 INFO: [T2]\tStarting to work on United_Arab_Emirates\n",
      "[38156]\t14:48:50 INFO: [T1]\tStarting to work on United_Kingdom\n",
      "[38156]\t14:48:50 INFO: [T2]\tResult is (23.75, 54.5)\n",
      "[38156]\t14:48:50 INFO: [T2]\tStarting to work on United_Republic_of_Tanzania\n",
      "[38156]\t14:48:50 INFO: [T1]\tResult is (54.75844, -2.69531)\n",
      "[38156]\t14:48:50 INFO: [T1]\tStarting to work on United_States_Virgin_Islands\n",
      "[38156]\t14:48:50 INFO: [T3]\tResult is (1.5333554, 32.2166578)\n",
      "[38156]\t14:48:50 INFO: [T3]\tStarting to work on United_States_of_America\n",
      "[38156]\t14:48:51 INFO: [T0]\tResult is (49.4871968, 31.2718321)\n",
      "[38156]\t14:48:51 INFO: [T0]\tStarting to work on Uruguay\n",
      "[38156]\t14:48:51 INFO: [T1]\tResult is (18.5, -64.5)\n",
      "[38156]\t14:48:51 INFO: [T1]\tStarting to work on Uzbekistan\n",
      "[38156]\t14:48:51 INFO: [T2]\tResult is (-6.0, 35.0)\n",
      "[38156]\t14:48:51 INFO: [T2]\tStarting to work on Venezuela\n",
      "[38156]\t14:48:51 INFO: [T3]\tResult is (39.76, -98.5)\n",
      "[38156]\t14:48:51 INFO: [T3]\tStarting to work on Vietnam\n",
      "[38156]\t14:48:51 INFO: [T0]\tResult is (-32.8755548, -56.0201525)\n",
      "[38156]\t14:48:51 INFO: [T0]\tStarting to work on Western_Sahara\n",
      "[38156]\t14:48:51 INFO: [T2]\tResult is (8.0018709, -66.1109318)\n",
      "[38156]\t14:48:51 INFO: [T2]\tStarting to work on Yemen\n",
      "[38156]\t14:48:51 INFO: [T0]\tResult is (24.49215, -12.65625)\n",
      "[38156]\t14:48:51 INFO: [T1]\tResult is (41.32373, 63.9528098)\n",
      "[38156]\t14:48:51 INFO: [T0]\tStarting to work on Zambia\n",
      "[38156]\t14:48:51 INFO: [T1]\tStarting to work on Zimbabwe\n",
      "[38156]\t14:48:51 INFO: [T3]\tResult is (13.2904027, 108.4265113)\n",
      "[38156]\t14:48:51 INFO: [T3]\tEnding\n",
      "[38156]\t14:48:51 INFO: [T3]\tThread ended\n",
      "[38156]\t14:48:52 INFO: [T2]\tResult is (16.3471243, 47.8915271)\n",
      "[38156]\t14:48:52 INFO: [T2]\tEnding\n",
      "[38156]\t14:48:52 INFO: [T2]\tThread ended\n",
      "[38156]\t14:48:52 INFO: [T1]\tResult is (-18.4554963, 29.7468414)\n",
      "[38156]\t14:48:52 INFO: [T1]\tEnding\n",
      "[38156]\t14:48:52 INFO: [T1]\tThread ended\n",
      "[38156]\t14:48:52 INFO: [T0]\tResult is (-14.5189121, 27.5589884)\n",
      "[38156]\t14:48:52 INFO: [T0]\tEnding\n",
      "[38156]\t14:48:52 INFO: [T0]\tThread ended\n",
      "[38156]\t14:48:52 INFO: [M]\tThreads joined!\n",
      "CPU times: total: 6.92 s\n",
      "Wall time: 21.1 s\n"
     ]
    },
    {
     "data": {
      "image/png": "[encoded data removed]",
      "text/plain": [
       "<Figure size 432x288 with 1 Axes>"
      ]
     },
     "metadata": {
      "needs_background": "light"
     },
     "output_type": "display_data"
    }
   ],
   "source": [
    "%%time\n",
    "\n",
    "\n",
    "from threading import Lock\n",
    "\n",
    "# Cargamos los datos del fichero Covid-19\n",
    "data = pd.read_csv(\"data/COVID-19.csv\")\n",
    "# Sumamos las defunciones por país\n",
    "deaths_by_country = data.groupby([\"countriesAndTerritories\"])[\"deaths\"].sum()\n",
    "# Obtenemos las coordenadas, paralelizando el trabajo con 4 threads\n",
    "lock = Lock()\n",
    "countries_coords = {}\n",
    "get_coords_multithr(deaths_by_country.index, 4, lock, countries_coords) \n",
    "# Mostramos los resultados\n",
    "plot_results(deaths_by_country, countries_coords)"
   ]
  }
 ],
 "metadata": {
  "interpreter": {
   "hash": "3a457f06cda4579c7033761bf4e886c4764e74b759b9220f07c03aa5d4880471"
  },
  "kernelspec": {
   "display_name": "Python 3.9.5 ('data_science_py395')",
   "language": "python",
   "name": "python3"
  },
  "language_info": {
   "codemirror_mode": {
    "name": "ipython",
    "version": 3
   },
   "file_extension": ".py",
   "mimetype": "text/x-python",
   "name": "python",
   "nbconvert_exporter": "python",
   "pygments_lexer": "ipython3",
   "version": "3.9.5"
  },
  "orig_nbformat": 4
 },
 "nbformat": 4,
 "nbformat_minor": 2
}
