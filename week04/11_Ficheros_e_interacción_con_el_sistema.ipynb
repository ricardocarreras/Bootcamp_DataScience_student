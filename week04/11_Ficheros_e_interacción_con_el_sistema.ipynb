{
 "cells": [
  {
   "cell_type": "markdown",
   "metadata": {},
   "source": [
    "# Interactuamos con los ficheros y con el sistema operativo\n",
    "\n",
    "Trataremos los ficheros, manipularlos y leer/guardar desde la consola"
   ]
  },
  {
   "cell_type": "markdown",
   "metadata": {},
   "source": [
    "## Ficheros con el módulo OS\n",
    "\n",
    "el módulo `os` que nos permite interactura con el sistema operativo."
   ]
  },
  {
   "cell_type": "code",
   "execution_count": 6,
   "metadata": {},
   "outputs": [],
   "source": [
    "# importamos el módulo\n",
    "import os\n",
    "\n",
    "nombre_fichero = 'test_file'\n",
    "# Abrir el fichero test_file.txt para escritura\n",
    "out = open(f'../../files_folder/{nombre_fichero}.txt', 'w')\n",
    "\n",
    "# Escribimos la palabra 'test' en este archivo\n",
    "out.write('test')\n",
    "\n",
    "# Cerramos el fichero\n",
    "out.close()"
   ]
  },
  {
   "cell_type": "code",
   "execution_count": 8,
   "metadata": {},
   "outputs": [],
   "source": [
    "# Abrimos el path o ruta del fichero para leerlo\n",
    "ruta = f'../../files_folder/{nombre_fichero}.txt'\n",
    "\n",
    "try:\n",
    "    with open(ruta, 'r') as entrada:\n",
    "        pass\n",
    "except FileNotFoundError as e:\n",
    "    print(e)"
   ]
  },
  {
   "cell_type": "code",
   "execution_count": 10,
   "metadata": {},
   "outputs": [],
   "source": [
    "# Hay un método alternativo para abrir y el programa cierra automaticamente según el contexto\n",
    "with open(f'../../files_folder/{nombre_fichero}_2.txt', 'w') as out:\n",
    "    out.write('another test')"
   ]
  },
  {
   "cell_type": "code",
   "execution_count": 11,
   "metadata": {},
   "outputs": [
    {
     "name": "stdout",
     "output_type": "stream",
     "text": [
      "I/O operation on closed file.\n"
     ]
    }
   ],
   "source": [
    "# Para comprobar que con el método with cierra de forma automática\n",
    "try:\n",
    "    out.write(\"otra línea\")\n",
    "except Exception as e:\n",
    "    print(e)"
   ]
  },
  {
   "cell_type": "markdown",
   "metadata": {},
   "source": [
    "Con el primer método debemos cerrar para ahorrar memoría, con el segundo el progrma lo cierra automáticamente."
   ]
  },
  {
   "cell_type": "markdown",
   "metadata": {},
   "source": [
    "***\n",
    "### 1.1.1. El *path*\n",
    "\n",
    "El primer argumento que recibe la función [`open`](https://docs.python.org/3/library/functions.html#open) (y el único que es obligatorio) es el *path*. El *path* puede ser absoluto o relativo al directorio donde se está ejecutando el código.\n",
    "\n",
    "Indicaremos que el *path* es **absoluto** iniciándolo con una barra, `/` (que indica el directorio raíz).\n",
    "\n",
    "En cambio, si el *path* comienza con un carácter, este será **relativo** al directorio donde se ejecuta el código. Así, en los dos ejemplos anteriores, los *paths* `test_file.txt` y `test_file_2.txt` eran relativos al directorio de ejecución, e indicaban que los archivos se encontraban directamente en el propio directorio.\n",
    "\n",
    "Del mismo modo que en el sistema operativo, podemos utilizar `.` y` ..` para referirnos, respectivamente, al directorio actual y al superior al actual en *paths* relativos. Especificaremos el *path* utilizando también barras `/` después de cada nombre de directorio.\n",
    "\n",
    "\n",
    "### 1.1.2. El modo\n",
    "\n",
    "En relación con el modo de apertura, Python reconoce los siguientes modificadores, que se pueden combinar entre ellos para especificar cómo y con qué finalidad se abre el fichero:\n",
    "\n",
    "* `r`, modo de lectura (del inglés, _**r**eading_).\n",
    "* `w`, modo de escritura (del inglés, _**w**riting_), sobrescribe el contenido del archivo si este ya existe, o bien crea el archivo si no existe.\n",
    "* `x`, modo de creación e**x**clusiva.\n",
    "* `a`, modo de escritura, escribe al final del archivo, después del contenido ya existente en el archivo (del inglés, _**a**ppend_), o bien crea el archivo si no existe.\n",
    "* `b`, modo **b**inario.\n",
    "* `t`, modo de **t**exto (modo predeterminado).\n",
    "* `+`, modo de actualización (tanto para lectura como para escritura).\n",
    "\n",
    "Python permite abrir archivo en modo binario (devolviendo los contenidos como bytes, sin descodificarlo) o en modo texto (devolviendo los contenidos como cadenas de texto, obtenidas de descodificar los bytes en función de la plataforma donde se ejecute el código o bien de la codificación especificada). Por defecto (es decir, si no se especifica el modo), los archivos se abren en modo texto, de manera que, por ejemplo, `r` y `rt` son equivalentes.\n",
    "\n",
    "Tanto el modo `w` como el modo `a` permiten escribir en un archivo. La diferencia entre ellos radica en el tratamiento del contenido existente en el archivo: `w` sobrescribe el contenido del archivo, eliminando el contenido ya existente e incorporando el nuevo; en cambio, `a` escribe a continuación del contenido ya existente en el archivo, añadiendo el nuevo contenido después del contenido ya existente.\n",
    "\n",
    "El modo de actualización, `+`, permite abrir un archivo para escribir y leer. Así, tanto `w+` como `r+` permitirán leer y escribir un archivo. La diferencia entre ambos modos recae en el comportamiento respecto al contenido existente en el archivo y a la existencia del propio archivo. Si especificamos `w+`, sobrescribiremos el contenido del archivo y crearemos el archivo si este no existe; en cambio, si especificamos `r+`, mantendremos el contenido del archivo y se generará un error si el archivo no existe.\n",
    "\n",
    "A continuación se presentan algunos ejemplos del funcionamiento de los modos de apertura de archivos:"
   ]
  },
  {
   "cell_type": "code",
   "execution_count": 21,
   "metadata": {},
   "outputs": [],
   "source": [
    "with open(ruta, 'w') as out:\n",
    "    out.write(\"El fichero no existe_3\\n\")\n",
    "    out.write(\"Contiene dos líneas_3\\n\")"
   ]
  },
  {
   "cell_type": "code",
   "execution_count": 24,
   "metadata": {},
   "outputs": [
    {
     "name": "stdout",
     "output_type": "stream",
     "text": [
      "El fichero no existe_3\n",
      "Contiene dos líneas_3\n",
      "Nueva línea por aquí\n",
      "\n"
     ]
    }
   ],
   "source": [
    "try:\n",
    "    with open(ruta, 'r') as inpt:\n",
    "        content = inpt.read()\n",
    "        \n",
    "        # Mostramos el contenido\n",
    "        print(content)\n",
    "except Exception as e:\n",
    "    print(e)"
   ]
  },
  {
   "cell_type": "code",
   "execution_count": 23,
   "metadata": {},
   "outputs": [],
   "source": [
    "#  Para añadir lineas nuevas a un fichero existente\n",
    "with open(ruta, 'a') as out:\n",
    "    out.write(\"Nueva línea por aquí\\n\")"
   ]
  },
  {
   "cell_type": "code",
   "execution_count": 25,
   "metadata": {},
   "outputs": [
    {
     "name": "stdout",
     "output_type": "stream",
     "text": [
      "e_3\n",
      "Contiene dos líneas_3\n",
      "Nueva línea por aquí\n",
      "\n"
     ]
    }
   ],
   "source": [
    "# Abrimos el archivo en modo de lectura con actualización, escribimos una\n",
    "# frase y leemos el contenido a partir del final de la escritura\n",
    "with open(ruta, 'r+') as out:\n",
    "    out.write(\"Trying the r+ mode!\")\n",
    "    content = out.read()\n",
    "    print(content)"
   ]
  },
  {
   "cell_type": "code",
   "execution_count": 26,
   "metadata": {},
   "outputs": [
    {
     "name": "stdout",
     "output_type": "stream",
     "text": [
      "The size of the variable is: 250.087890625 KB\n",
      "\n",
      "\n",
      "This document gives coding conventions for the Python code comprising the standard library in the main Python distribution. Please see the companion informational PEP describing style guidelines for the C code in the C implementation of Python [1].\n",
      "\n",
      "The size of the variable is: 0.291015625 KB\n",
      "\n",
      "\n",
      "This style guide evolves over time as additional conventions are identified and past conventions are rendered obsolete by changes in the language itself.\n",
      "\n",
      "The size of the variable is: 0.1982421875 KB\n",
      "\n",
      "\n",
      "Many projects have their own coding style guidelines. In the event of any conflicts, such project-specific guides take precedence for that project.\n",
      "\n",
      "The size of the variable is: 0.1923828125 KB\n",
      "\n",
      "\n",
      "One of Guido's key insights is that code is read much more often than it is written. The guidelines provided here are intended to improve the readability of code and make it consistent across the wide spectrum of Python code. As PEP 20 says, \"Readability counts\".\n",
      "\n",
      "The size of the variable is: 0.3056640625 KB\n",
      "\n",
      "\n",
      "A style guide is about consistency. Consistency with this style guide is important. Consistency within a project is more important. Consistency within one module or function is the most important.\n",
      "\n",
      "The size of the variable is: 0.240234375 KB\n",
      "\n",
      "\n"
     ]
    }
   ],
   "source": [
    "# Lectura de ficheros grandes\n",
    "\n",
    "from sys import getsizeof\n",
    "\n",
    "p_big = '../../files_folder/somehow_big_file.txt'\n",
    "\n",
    "# Cargamos el archivo somehow_big_file.txt completo y mostramos\n",
    "# el tamaño de la variable content en memoria\n",
    "with open(p_big, 'r') as f:\n",
    "    content = f.read()\n",
    "    size_in_bytes = getsizeof(content)\n",
    "    print(\"The size of the variable is: {} KB\\n\\n\".format(\n",
    "        size_in_bytes / 1024))\n",
    "\n",
    "# Leemos el fichero línea a línea (y únicamente las 5 primeras líneas),\n",
    "# mostrando el tamaño de la variable line\n",
    "with open(p_big, 'r') as f:\n",
    "    counter = 0\n",
    "    for line in f:\n",
    "        print(line)\n",
    "        size_in_bytes = getsizeof(line)\n",
    "        print(\"The size of the variable is: {} KB\\n\\n\".format(\n",
    "            size_in_bytes / 1024))\n",
    "        counter += 1\n",
    "        if counter == 5:\n",
    "            break"
   ]
  }
 ],
 "metadata": {
  "kernelspec": {
   "display_name": "Python 3",
   "language": "python",
   "name": "python3"
  },
  "language_info": {
   "codemirror_mode": {
    "name": "ipython",
    "version": 3
   },
   "file_extension": ".py",
   "mimetype": "text/x-python",
   "name": "python",
   "nbconvert_exporter": "python",
   "pygments_lexer": "ipython3",
   "version": "3.8.6"
  }
 },
 "nbformat": 4,
 "nbformat_minor": 4
}
