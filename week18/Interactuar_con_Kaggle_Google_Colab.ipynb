{
  "nbformat": 4,
  "nbformat_minor": 0,
  "metadata": {
    "colab": {
      "name": "Interactuar con Kaggle - Google Colab",
      "provenance": [],
      "collapsed_sections": []
    },
    "kernelspec": {
      "name": "python3",
      "display_name": "Python 3"
    },
    "language_info": {
      "name": "python"
    }
  },
  "cells": [
    {
      "cell_type": "markdown",
      "source": [
        "# Instalación entorno Kaggle en Google Colab\n",
        "\n",
        "1. Crear API Token desde kaggle.com https://github.com/Kaggle/kaggle-api\n",
        "2. Instalar la librería kaggle de pip `pip install kaggle`\n",
        "3. Actualizar eventualmente la librería con `pip upgrade`\n",
        "4. Subimos el fichero `kaggle.json` del token generado\n",
        "5. Creamos una carpeta desde el root/.kaggle `~/.kaggle/`"
      ],
      "metadata": {
        "id": "n3iwHpyfMEiq"
      }
    },
    {
      "cell_type": "code",
      "source": [
        "!pip install kaggle"
      ],
      "metadata": {
        "colab": {
          "base_uri": "https://localhost:8080/"
        },
        "id": "1ENy4YhmLPZN",
        "outputId": "4427ca33-118c-4344-aca6-2e1425e6c60b"
      },
      "execution_count": 1,
      "outputs": [
        {
          "output_type": "stream",
          "name": "stdout",
          "text": [
            "Requirement already satisfied: kaggle in /usr/local/lib/python3.7/dist-packages (1.5.12)\n",
            "Requirement already satisfied: requests in /usr/local/lib/python3.7/dist-packages (from kaggle) (2.23.0)\n",
            "Requirement already satisfied: certifi in /usr/local/lib/python3.7/dist-packages (from kaggle) (2021.10.8)\n",
            "Requirement already satisfied: python-dateutil in /usr/local/lib/python3.7/dist-packages (from kaggle) (2.8.2)\n",
            "Requirement already satisfied: urllib3 in /usr/local/lib/python3.7/dist-packages (from kaggle) (1.24.3)\n",
            "Requirement already satisfied: python-slugify in /usr/local/lib/python3.7/dist-packages (from kaggle) (6.1.1)\n",
            "Requirement already satisfied: tqdm in /usr/local/lib/python3.7/dist-packages (from kaggle) (4.63.0)\n",
            "Requirement already satisfied: six>=1.10 in /usr/local/lib/python3.7/dist-packages (from kaggle) (1.15.0)\n",
            "Requirement already satisfied: text-unidecode>=1.3 in /usr/local/lib/python3.7/dist-packages (from python-slugify->kaggle) (1.3)\n",
            "Requirement already satisfied: chardet<4,>=3.0.2 in /usr/local/lib/python3.7/dist-packages (from requests->kaggle) (3.0.4)\n",
            "Requirement already satisfied: idna<3,>=2.5 in /usr/local/lib/python3.7/dist-packages (from requests->kaggle) (2.10)\n"
          ]
        }
      ]
    },
    {
      "cell_type": "code",
      "source": [
        "# Realizamos un upgrade\n",
        "!pip install kaggle --upgrade"
      ],
      "metadata": {
        "colab": {
          "base_uri": "https://localhost:8080/"
        },
        "id": "_raQ_lw8Mb_F",
        "outputId": "31fa38f6-6858-4314-895b-75b2d7f0f4d9"
      },
      "execution_count": 2,
      "outputs": [
        {
          "output_type": "stream",
          "name": "stdout",
          "text": [
            "Requirement already satisfied: kaggle in /usr/local/lib/python3.7/dist-packages (1.5.12)\n",
            "Requirement already satisfied: six>=1.10 in /usr/local/lib/python3.7/dist-packages (from kaggle) (1.15.0)\n",
            "Requirement already satisfied: requests in /usr/local/lib/python3.7/dist-packages (from kaggle) (2.23.0)\n",
            "Requirement already satisfied: tqdm in /usr/local/lib/python3.7/dist-packages (from kaggle) (4.63.0)\n",
            "Requirement already satisfied: python-slugify in /usr/local/lib/python3.7/dist-packages (from kaggle) (6.1.1)\n",
            "Requirement already satisfied: certifi in /usr/local/lib/python3.7/dist-packages (from kaggle) (2021.10.8)\n",
            "Requirement already satisfied: urllib3 in /usr/local/lib/python3.7/dist-packages (from kaggle) (1.24.3)\n",
            "Requirement already satisfied: python-dateutil in /usr/local/lib/python3.7/dist-packages (from kaggle) (2.8.2)\n",
            "Requirement already satisfied: text-unidecode>=1.3 in /usr/local/lib/python3.7/dist-packages (from python-slugify->kaggle) (1.3)\n",
            "Requirement already satisfied: chardet<4,>=3.0.2 in /usr/local/lib/python3.7/dist-packages (from requests->kaggle) (3.0.4)\n",
            "Requirement already satisfied: idna<3,>=2.5 in /usr/local/lib/python3.7/dist-packages (from requests->kaggle) (2.10)\n"
          ]
        }
      ]
    },
    {
      "cell_type": "code",
      "source": [
        "# Para comprobar la instalación de kaggle\n",
        "!kaggle"
      ],
      "metadata": {
        "colab": {
          "base_uri": "https://localhost:8080/"
        },
        "id": "Gf06HPf0Mjet",
        "outputId": "723b0128-8527-48df-d031-d1b6ed6db9b3"
      },
      "execution_count": 3,
      "outputs": [
        {
          "output_type": "stream",
          "name": "stdout",
          "text": [
            "Traceback (most recent call last):\n",
            "  File \"/usr/local/bin/kaggle\", line 5, in <module>\n",
            "    from kaggle.cli import main\n",
            "  File \"/usr/local/lib/python3.7/dist-packages/kaggle/__init__.py\", line 23, in <module>\n",
            "    api.authenticate()\n",
            "  File \"/usr/local/lib/python3.7/dist-packages/kaggle/api/kaggle_api_extended.py\", line 166, in authenticate\n",
            "    self.config_file, self.config_dir))\n",
            "OSError: Could not find kaggle.json. Make sure it's located in /root/.kaggle. Or use the environment method.\n"
          ]
        }
      ]
    },
    {
      "cell_type": "code",
      "source": [
        "# Solo para Google colab para subir el fichero kaggle.json\n",
        "from google.colab import files\n",
        "files.upload() # upload kaggle.json"
      ],
      "metadata": {
        "id": "DPetrf0NM0Ib"
      },
      "execution_count": null,
      "outputs": []
    },
    {
      "cell_type": "code",
      "source": [
        "# Como kaggle nos pide de insertar kaggle.json en una carpeta oculta .kaggle/\n",
        "# Procederemos a crear una carpeta oculta\n",
        "!mkdir -p ~/.kaggle\n",
        "# copiamos el fichero a nuestra carpeta oculta desde /content (válido solo para Google Colab)\n",
        "!cp /content/kaggle.json ~/.kaggle/\n",
        "# Debemos dar los permisos a la carpeta y fichero de usuario 600\n",
        "!chmod 600 /root/.kaggle/kaggle.json"
      ],
      "metadata": {
        "id": "Ol7_mEUlNLsR"
      },
      "execution_count": 27,
      "outputs": []
    },
    {
      "cell_type": "code",
      "source": [
        "# Comprobaremos que el fichero se ha copiado correctamente\n",
        "!ls ~/.kaggle/"
      ],
      "metadata": {
        "colab": {
          "base_uri": "https://localhost:8080/"
        },
        "id": "D-L6dRy7N5VJ",
        "outputId": "f9ad174c-0cce-46b6-eeb1-a26468b0aaf9"
      },
      "execution_count": 19,
      "outputs": [
        {
          "output_type": "stream",
          "name": "stdout",
          "text": [
            "kaggle.json\n"
          ]
        }
      ]
    },
    {
      "cell_type": "code",
      "source": [
        "# Check del comando kaggle\n",
        "!kaggle"
      ],
      "metadata": {
        "colab": {
          "base_uri": "https://localhost:8080/"
        },
        "id": "zUT6yqFROSKs",
        "outputId": "177b2110-4fb4-420a-ee98-c2d66ae56039"
      },
      "execution_count": 28,
      "outputs": [
        {
          "output_type": "stream",
          "name": "stdout",
          "text": [
            "usage: kaggle [-h] [-v] {competitions,c,datasets,d,kernels,k,config} ...\n",
            "kaggle: error: the following arguments are required: command\n"
          ]
        }
      ]
    },
    {
      "cell_type": "markdown",
      "source": [
        "### Descargamos los datos de una competición"
      ],
      "metadata": {
        "id": "21VGE8RcO3I5"
      }
    },
    {
      "cell_type": "code",
      "source": [
        "# Utilizaremos el comando kaggle competitions download\n",
        "!kaggle competitions download -c titanic"
      ],
      "metadata": {
        "colab": {
          "base_uri": "https://localhost:8080/"
        },
        "id": "AYXiTpBMO6dw",
        "outputId": "db47b25f-e7c4-4de2-ad19-d06e675cb69f"
      },
      "execution_count": 29,
      "outputs": [
        {
          "output_type": "stream",
          "name": "stdout",
          "text": [
            "401 - Unauthorized\n"
          ]
        }
      ]
    },
    {
      "cell_type": "code",
      "source": [
        "# # En caso que el dataset venga en formato .zip\n",
        "# !unzip -q train.csv.zip -d . # sustituir el nombre train\n",
        "# !unzip -q test.csv.zip -d . # sustituir el nombre test\n",
        "# !ls"
      ],
      "metadata": {
        "id": "ndZe4yEbP-hR"
      },
      "execution_count": null,
      "outputs": []
    },
    {
      "cell_type": "markdown",
      "source": [
        "## Descargamos un notebook o kernel desde Kaggle"
      ],
      "metadata": {
        "id": "HUNJZG3ZQJ2T"
      }
    },
    {
      "cell_type": "code",
      "source": [
        "# en caso de querer descargar un notebook directamente con la API de Kaggle\n",
        "!kaggle kernels pull sinakhorami/titanic-best-working-classifier"
      ],
      "metadata": {
        "colab": {
          "base_uri": "https://localhost:8080/"
        },
        "id": "b8u7NWA9QMuf",
        "outputId": "bd6b9e86-8b5a-4ab8-e881-1acdb4ae45fe"
      },
      "execution_count": 24,
      "outputs": [
        {
          "output_type": "stream",
          "name": "stdout",
          "text": [
            "401 - Unauthorized\n"
          ]
        }
      ]
    },
    {
      "cell_type": "code",
      "source": [
        "# En caso de listar los kernels\n",
        "!kaggle kernels list --user sinakhorami --sort-by dateRun"
      ],
      "metadata": {
        "colab": {
          "base_uri": "https://localhost:8080/"
        },
        "id": "s8KznUx6QvDF",
        "outputId": "782d908b-82e1-4e20-b029-49138ad24282"
      },
      "execution_count": 25,
      "outputs": [
        {
          "output_type": "stream",
          "name": "stdout",
          "text": [
            "401 - Unauthorized\n"
          ]
        }
      ]
    },
    {
      "cell_type": "markdown",
      "source": [
        "## Descargamos directamente un dataset desde Kaggle"
      ],
      "metadata": {
        "id": "R7nWzgi7R635"
      }
    },
    {
      "cell_type": "code",
      "source": [
        "!kaggle datasets download -d rupakroy/auto-insurance"
      ],
      "metadata": {
        "id": "RoiwnMozR9aA"
      },
      "execution_count": null,
      "outputs": []
    }
  ]
}