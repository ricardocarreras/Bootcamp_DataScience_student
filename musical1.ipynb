{
  "nbformat": 4,
  "nbformat_minor": 0,
  "metadata": {
    "colab": {
      "name": "musical1.ipynb",
      "provenance": [],
      "collapsed_sections": [],
      "authorship_tag": "ABX9TyNq+6n4jdxSzUkINm/dDh5y",
      "include_colab_link": true
    },
    "kernelspec": {
      "name": "python3",
      "display_name": "Python 3"
    },
    "language_info": {
      "name": "python"
    }
  },
  "cells": [
    {
      "cell_type": "markdown",
      "metadata": {
        "id": "view-in-github",
        "colab_type": "text"
      },
      "source": [
        "<a href=\"https://colab.research.google.com/github/ricardocarreras/Bootcamp_DataScience_student/blob/master/musical1.ipynb\" target=\"_parent\"><img src=\"https://colab.research.google.com/assets/colab-badge.svg\" alt=\"Open In Colab\"/></a>"
      ]
    },
    {
      "cell_type": "code",
      "execution_count": 1,
      "metadata": {
        "id": "IVgCbiNttbLm"
      },
      "outputs": [],
      "source": [
        "import pandas as pd"
      ]
    },
    {
      "cell_type": "code",
      "source": [
        "archivo=\"/content/tracks_norm2.csv\"\n",
        "\n",
        "datos=pd.read_csv(archivo, sep=\";\")"
      ],
      "metadata": {
        "colab": {
          "base_uri": "https://localhost:8080/"
        },
        "id": "9qRHI-bXtdEV",
        "outputId": "8ecf91dd-ec09-490e-d3f0-78a09757dc33"
      },
      "execution_count": 28,
      "outputs": [
        {
          "output_type": "stream",
          "name": "stderr",
          "text": [
            "/usr/local/lib/python3.7/dist-packages/IPython/core/interactiveshell.py:2718: DtypeWarning: Columns (10) have mixed types.Specify dtype option on import or set low_memory=False.\n",
            "  interactivity=interactivity, compiler=compiler, result=result)\n"
          ]
        }
      ]
    },
    {
      "cell_type": "code",
      "source": [
        ""
      ],
      "metadata": {
        "id": "lP4oR8HmDMNT"
      },
      "execution_count": null,
      "outputs": []
    },
    {
      "cell_type": "code",
      "source": [
        "\n",
        "datos = datos.rename(columns={\"name\":\"track name\"})\n"
      ],
      "metadata": {
        "id": "PnDIMfRCAuhO"
      },
      "execution_count": 41,
      "outputs": []
    },
    {
      "cell_type": "code",
      "source": [
        "datos.describe()"
      ],
      "metadata": {
        "colab": {
          "base_uri": "https://localhost:8080/",
          "height": 364
        },
        "id": "BWDP0XoIKGND",
        "outputId": "960d3cba-41c6-4751-a011-29e597e00cd6"
      },
      "execution_count": 43,
      "outputs": [
        {
          "output_type": "execute_result",
          "data": {
            "text/html": [
              "\n",
              "  <div id=\"df-0a12d468-ce59-4601-9c36-7287e035474b\">\n",
              "    <div class=\"colab-df-container\">\n",
              "      <div>\n",
              "<style scoped>\n",
              "    .dataframe tbody tr th:only-of-type {\n",
              "        vertical-align: middle;\n",
              "    }\n",
              "\n",
              "    .dataframe tbody tr th {\n",
              "        vertical-align: top;\n",
              "    }\n",
              "\n",
              "    .dataframe thead th {\n",
              "        text-align: right;\n",
              "    }\n",
              "</style>\n",
              "<table border=\"1\" class=\"dataframe\">\n",
              "  <thead>\n",
              "    <tr style=\"text-align: right;\">\n",
              "      <th></th>\n",
              "      <th>number</th>\n",
              "      <th>disc_number</th>\n",
              "      <th>popularity</th>\n",
              "      <th>danceability</th>\n",
              "      <th>key</th>\n",
              "      <th>mode</th>\n",
              "      <th>speechiness</th>\n",
              "      <th>liveness</th>\n",
              "      <th>valence</th>\n",
              "      <th>duration_ms</th>\n",
              "      <th>time_signature</th>\n",
              "    </tr>\n",
              "  </thead>\n",
              "  <tbody>\n",
              "    <tr>\n",
              "      <th>count</th>\n",
              "      <td>35574.000000</td>\n",
              "      <td>35574.000000</td>\n",
              "      <td>35186.000000</td>\n",
              "      <td>35567.000000</td>\n",
              "      <td>35567.000000</td>\n",
              "      <td>35567.000000</td>\n",
              "      <td>35567.000000</td>\n",
              "      <td>35567.000000</td>\n",
              "      <td>35567.000000</td>\n",
              "      <td>3.556700e+04</td>\n",
              "      <td>35567.000000</td>\n",
              "    </tr>\n",
              "    <tr>\n",
              "      <th>mean</th>\n",
              "      <td>8.767386</td>\n",
              "      <td>1.154973</td>\n",
              "      <td>19.030609</td>\n",
              "      <td>0.423668</td>\n",
              "      <td>5.184553</td>\n",
              "      <td>0.632721</td>\n",
              "      <td>0.074013</td>\n",
              "      <td>0.256443</td>\n",
              "      <td>0.379119</td>\n",
              "      <td>2.286956e+05</td>\n",
              "      <td>3.836393</td>\n",
              "    </tr>\n",
              "    <tr>\n",
              "      <th>std</th>\n",
              "      <td>6.179290</td>\n",
              "      <td>0.485318</td>\n",
              "      <td>18.087619</td>\n",
              "      <td>0.186814</td>\n",
              "      <td>3.512002</td>\n",
              "      <td>0.482070</td>\n",
              "      <td>0.094677</td>\n",
              "      <td>0.254555</td>\n",
              "      <td>0.268237</td>\n",
              "      <td>1.197261e+05</td>\n",
              "      <td>0.552048</td>\n",
              "    </tr>\n",
              "    <tr>\n",
              "      <th>min</th>\n",
              "      <td>1.000000</td>\n",
              "      <td>1.000000</td>\n",
              "      <td>0.000000</td>\n",
              "      <td>0.000000</td>\n",
              "      <td>0.000000</td>\n",
              "      <td>0.000000</td>\n",
              "      <td>0.000000</td>\n",
              "      <td>0.000000</td>\n",
              "      <td>0.000000</td>\n",
              "      <td>4.000000e+03</td>\n",
              "      <td>0.000000</td>\n",
              "    </tr>\n",
              "    <tr>\n",
              "      <th>25%</th>\n",
              "      <td>4.000000</td>\n",
              "      <td>1.000000</td>\n",
              "      <td>2.000000</td>\n",
              "      <td>0.271000</td>\n",
              "      <td>2.000000</td>\n",
              "      <td>0.000000</td>\n",
              "      <td>0.035100</td>\n",
              "      <td>0.099500</td>\n",
              "      <td>0.136000</td>\n",
              "      <td>1.630130e+05</td>\n",
              "      <td>4.000000</td>\n",
              "    </tr>\n",
              "    <tr>\n",
              "      <th>50%</th>\n",
              "      <td>8.000000</td>\n",
              "      <td>1.000000</td>\n",
              "      <td>16.000000</td>\n",
              "      <td>0.424000</td>\n",
              "      <td>5.000000</td>\n",
              "      <td>1.000000</td>\n",
              "      <td>0.043900</td>\n",
              "      <td>0.133000</td>\n",
              "      <td>0.348000</td>\n",
              "      <td>2.136270e+05</td>\n",
              "      <td>4.000000</td>\n",
              "    </tr>\n",
              "    <tr>\n",
              "      <th>75%</th>\n",
              "      <td>12.000000</td>\n",
              "      <td>1.000000</td>\n",
              "      <td>31.000000</td>\n",
              "      <td>0.566000</td>\n",
              "      <td>9.000000</td>\n",
              "      <td>1.000000</td>\n",
              "      <td>0.071300</td>\n",
              "      <td>0.315000</td>\n",
              "      <td>0.584000</td>\n",
              "      <td>2.716665e+05</td>\n",
              "      <td>4.000000</td>\n",
              "    </tr>\n",
              "    <tr>\n",
              "      <th>max</th>\n",
              "      <td>50.000000</td>\n",
              "      <td>6.000000</td>\n",
              "      <td>96.000000</td>\n",
              "      <td>0.980000</td>\n",
              "      <td>11.000000</td>\n",
              "      <td>1.000000</td>\n",
              "      <td>0.964000</td>\n",
              "      <td>1.000000</td>\n",
              "      <td>0.998000</td>\n",
              "      <td>4.738853e+06</td>\n",
              "      <td>5.000000</td>\n",
              "    </tr>\n",
              "  </tbody>\n",
              "</table>\n",
              "</div>\n",
              "      <button class=\"colab-df-convert\" onclick=\"convertToInteractive('df-0a12d468-ce59-4601-9c36-7287e035474b')\"\n",
              "              title=\"Convert this dataframe to an interactive table.\"\n",
              "              style=\"display:none;\">\n",
              "        \n",
              "  <svg xmlns=\"http://www.w3.org/2000/svg\" height=\"24px\"viewBox=\"0 0 24 24\"\n",
              "       width=\"24px\">\n",
              "    <path d=\"M0 0h24v24H0V0z\" fill=\"none\"/>\n",
              "    <path d=\"M18.56 5.44l.94 2.06.94-2.06 2.06-.94-2.06-.94-.94-2.06-.94 2.06-2.06.94zm-11 1L8.5 8.5l.94-2.06 2.06-.94-2.06-.94L8.5 2.5l-.94 2.06-2.06.94zm10 10l.94 2.06.94-2.06 2.06-.94-2.06-.94-.94-2.06-.94 2.06-2.06.94z\"/><path d=\"M17.41 7.96l-1.37-1.37c-.4-.4-.92-.59-1.43-.59-.52 0-1.04.2-1.43.59L10.3 9.45l-7.72 7.72c-.78.78-.78 2.05 0 2.83L4 21.41c.39.39.9.59 1.41.59.51 0 1.02-.2 1.41-.59l7.78-7.78 2.81-2.81c.8-.78.8-2.07 0-2.86zM5.41 20L4 18.59l7.72-7.72 1.47 1.35L5.41 20z\"/>\n",
              "  </svg>\n",
              "      </button>\n",
              "      \n",
              "  <style>\n",
              "    .colab-df-container {\n",
              "      display:flex;\n",
              "      flex-wrap:wrap;\n",
              "      gap: 12px;\n",
              "    }\n",
              "\n",
              "    .colab-df-convert {\n",
              "      background-color: #E8F0FE;\n",
              "      border: none;\n",
              "      border-radius: 50%;\n",
              "      cursor: pointer;\n",
              "      display: none;\n",
              "      fill: #1967D2;\n",
              "      height: 32px;\n",
              "      padding: 0 0 0 0;\n",
              "      width: 32px;\n",
              "    }\n",
              "\n",
              "    .colab-df-convert:hover {\n",
              "      background-color: #E2EBFA;\n",
              "      box-shadow: 0px 1px 2px rgba(60, 64, 67, 0.3), 0px 1px 3px 1px rgba(60, 64, 67, 0.15);\n",
              "      fill: #174EA6;\n",
              "    }\n",
              "\n",
              "    [theme=dark] .colab-df-convert {\n",
              "      background-color: #3B4455;\n",
              "      fill: #D2E3FC;\n",
              "    }\n",
              "\n",
              "    [theme=dark] .colab-df-convert:hover {\n",
              "      background-color: #434B5C;\n",
              "      box-shadow: 0px 1px 3px 1px rgba(0, 0, 0, 0.15);\n",
              "      filter: drop-shadow(0px 1px 2px rgba(0, 0, 0, 0.3));\n",
              "      fill: #FFFFFF;\n",
              "    }\n",
              "  </style>\n",
              "\n",
              "      <script>\n",
              "        const buttonEl =\n",
              "          document.querySelector('#df-0a12d468-ce59-4601-9c36-7287e035474b button.colab-df-convert');\n",
              "        buttonEl.style.display =\n",
              "          google.colab.kernel.accessAllowed ? 'block' : 'none';\n",
              "\n",
              "        async function convertToInteractive(key) {\n",
              "          const element = document.querySelector('#df-0a12d468-ce59-4601-9c36-7287e035474b');\n",
              "          const dataTable =\n",
              "            await google.colab.kernel.invokeFunction('convertToInteractive',\n",
              "                                                     [key], {});\n",
              "          if (!dataTable) return;\n",
              "\n",
              "          const docLinkHtml = 'Like what you see? Visit the ' +\n",
              "            '<a target=\"_blank\" href=https://colab.research.google.com/notebooks/data_table.ipynb>data table notebook</a>'\n",
              "            + ' to learn more about interactive tables.';\n",
              "          element.innerHTML = '';\n",
              "          dataTable['output_type'] = 'display_data';\n",
              "          await google.colab.output.renderOutput(dataTable, element);\n",
              "          const docLink = document.createElement('div');\n",
              "          docLink.innerHTML = docLinkHtml;\n",
              "          element.appendChild(docLink);\n",
              "        }\n",
              "      </script>\n",
              "    </div>\n",
              "  </div>\n",
              "  "
            ],
            "text/plain": [
              "             number   disc_number  ...   duration_ms  time_signature\n",
              "count  35574.000000  35574.000000  ...  3.556700e+04    35567.000000\n",
              "mean       8.767386      1.154973  ...  2.286956e+05        3.836393\n",
              "std        6.179290      0.485318  ...  1.197261e+05        0.552048\n",
              "min        1.000000      1.000000  ...  4.000000e+03        0.000000\n",
              "25%        4.000000      1.000000  ...  1.630130e+05        4.000000\n",
              "50%        8.000000      1.000000  ...  2.136270e+05        4.000000\n",
              "75%       12.000000      1.000000  ...  2.716665e+05        4.000000\n",
              "max       50.000000      6.000000  ...  4.738853e+06        5.000000\n",
              "\n",
              "[8 rows x 11 columns]"
            ]
          },
          "metadata": {},
          "execution_count": 43
        }
      ]
    },
    {
      "cell_type": "code",
      "source": [
        ""
      ],
      "metadata": {
        "id": "kbNEZiwVKMef"
      },
      "execution_count": null,
      "outputs": []
    },
    {
      "cell_type": "code",
      "source": [
        "datos.head(3)"
      ],
      "metadata": {
        "colab": {
          "base_uri": "https://localhost:8080/",
          "height": 364
        },
        "id": "h5t3E71a9OqW",
        "outputId": "ee88d58f-281a-4d32-960d-2be57d31629e"
      },
      "execution_count": 39,
      "outputs": [
        {
          "output_type": "execute_result",
          "data": {
            "text/html": [
              "\n",
              "  <div id=\"df-acbdb050-5974-450b-b987-dd8c6f12d408\">\n",
              "    <div class=\"colab-df-container\">\n",
              "      <div>\n",
              "<style scoped>\n",
              "    .dataframe tbody tr th:only-of-type {\n",
              "        vertical-align: middle;\n",
              "    }\n",
              "\n",
              "    .dataframe tbody tr th {\n",
              "        vertical-align: top;\n",
              "    }\n",
              "\n",
              "    .dataframe thead th {\n",
              "        text-align: right;\n",
              "    }\n",
              "</style>\n",
              "<table border=\"1\" class=\"dataframe\">\n",
              "  <thead>\n",
              "    <tr style=\"text-align: right;\">\n",
              "      <th></th>\n",
              "      <th>artist_id</th>\n",
              "      <th>album_id</th>\n",
              "      <th>track_id</th>\n",
              "      <th>track_sp_id</th>\n",
              "      <th>track name</th>\n",
              "      <th>number</th>\n",
              "      <th>disc_number</th>\n",
              "      <th>popularity</th>\n",
              "      <th>preview_url</th>\n",
              "      <th>danceability</th>\n",
              "      <th>energy</th>\n",
              "      <th>key</th>\n",
              "      <th>loudness</th>\n",
              "      <th>mode</th>\n",
              "      <th>speechiness</th>\n",
              "      <th>acousticness</th>\n",
              "      <th>instrumentalness</th>\n",
              "      <th>liveness</th>\n",
              "      <th>valence</th>\n",
              "      <th>tempo</th>\n",
              "      <th>duration_ms</th>\n",
              "      <th>time_signature</th>\n",
              "    </tr>\n",
              "  </thead>\n",
              "  <tbody>\n",
              "    <tr>\n",
              "      <th>0</th>\n",
              "      <td>ar-e15c4eb7-7cbf-40e3-9575-fe14e8273177</td>\n",
              "      <td>al-f11fead5-0768-48e7-acc4-a17027cd5def</td>\n",
              "      <td>tr-a40ee885-828b-4e3a-a7ff-20f8b71edf1e</td>\n",
              "      <td>4qOeFiO7BASXEiQ23BLrYy</td>\n",
              "      <td>Airbag - Remastered</td>\n",
              "      <td>1</td>\n",
              "      <td>1</td>\n",
              "      <td>45.0</td>\n",
              "      <td>https://p.scdn.co/mp3-preview/32a57af9e7c87d98...</td>\n",
              "      <td>0.142</td>\n",
              "      <td>0.935</td>\n",
              "      <td>2.0</td>\n",
              "      <td>-5.709</td>\n",
              "      <td>1.0</td>\n",
              "      <td>0.0620</td>\n",
              "      <td>0.009890000000000001</td>\n",
              "      <td>0.826</td>\n",
              "      <td>0.128</td>\n",
              "      <td>0.617</td>\n",
              "      <td>167.685</td>\n",
              "      <td>283800.0</td>\n",
              "      <td>4.0</td>\n",
              "    </tr>\n",
              "    <tr>\n",
              "      <th>1</th>\n",
              "      <td>ar-e15c4eb7-7cbf-40e3-9575-fe14e8273177</td>\n",
              "      <td>al-f11fead5-0768-48e7-acc4-a17027cd5def</td>\n",
              "      <td>tr-21b9b8d8-7512-4847-9c99-a8c20f4aab98</td>\n",
              "      <td>2fCSulwhjYvNxKbh67d4Pd</td>\n",
              "      <td>Paranoid Android - Remastered</td>\n",
              "      <td>2</td>\n",
              "      <td>1</td>\n",
              "      <td>46.0</td>\n",
              "      <td>https://p.scdn.co/mp3-preview/749fc77212d4dc8e...</td>\n",
              "      <td>0.332</td>\n",
              "      <td>0.826</td>\n",
              "      <td>2.0</td>\n",
              "      <td>-7.269</td>\n",
              "      <td>0.0</td>\n",
              "      <td>0.0497</td>\n",
              "      <td>0.0275</td>\n",
              "      <td>0.00848</td>\n",
              "      <td>0.234</td>\n",
              "      <td>0.216</td>\n",
              "      <td>12.562.100.000.000.000</td>\n",
              "      <td>383973.0</td>\n",
              "      <td>4.0</td>\n",
              "    </tr>\n",
              "    <tr>\n",
              "      <th>2</th>\n",
              "      <td>ar-e15c4eb7-7cbf-40e3-9575-fe14e8273177</td>\n",
              "      <td>al-f11fead5-0768-48e7-acc4-a17027cd5def</td>\n",
              "      <td>tr-08660252-b741-42b2-9469-1fc5bbadb663</td>\n",
              "      <td>0vgSQrQMEoa6VecE9Y5Dnk</td>\n",
              "      <td>Subterranean Homesick Alien - Remastered</td>\n",
              "      <td>3</td>\n",
              "      <td>1</td>\n",
              "      <td>44.0</td>\n",
              "      <td>https://p.scdn.co/mp3-preview/8933bfc50726b099...</td>\n",
              "      <td>0.326</td>\n",
              "      <td>0.635</td>\n",
              "      <td>0.0</td>\n",
              "      <td>-70.920.000.000.000.000</td>\n",
              "      <td>1.0</td>\n",
              "      <td>0.0286</td>\n",
              "      <td>0.0255</td>\n",
              "      <td>0.00557</td>\n",
              "      <td>0.108</td>\n",
              "      <td>0.252</td>\n",
              "      <td>149.664</td>\n",
              "      <td>269093.0</td>\n",
              "      <td>3.0</td>\n",
              "    </tr>\n",
              "  </tbody>\n",
              "</table>\n",
              "</div>\n",
              "      <button class=\"colab-df-convert\" onclick=\"convertToInteractive('df-acbdb050-5974-450b-b987-dd8c6f12d408')\"\n",
              "              title=\"Convert this dataframe to an interactive table.\"\n",
              "              style=\"display:none;\">\n",
              "        \n",
              "  <svg xmlns=\"http://www.w3.org/2000/svg\" height=\"24px\"viewBox=\"0 0 24 24\"\n",
              "       width=\"24px\">\n",
              "    <path d=\"M0 0h24v24H0V0z\" fill=\"none\"/>\n",
              "    <path d=\"M18.56 5.44l.94 2.06.94-2.06 2.06-.94-2.06-.94-.94-2.06-.94 2.06-2.06.94zm-11 1L8.5 8.5l.94-2.06 2.06-.94-2.06-.94L8.5 2.5l-.94 2.06-2.06.94zm10 10l.94 2.06.94-2.06 2.06-.94-2.06-.94-.94-2.06-.94 2.06-2.06.94z\"/><path d=\"M17.41 7.96l-1.37-1.37c-.4-.4-.92-.59-1.43-.59-.52 0-1.04.2-1.43.59L10.3 9.45l-7.72 7.72c-.78.78-.78 2.05 0 2.83L4 21.41c.39.39.9.59 1.41.59.51 0 1.02-.2 1.41-.59l7.78-7.78 2.81-2.81c.8-.78.8-2.07 0-2.86zM5.41 20L4 18.59l7.72-7.72 1.47 1.35L5.41 20z\"/>\n",
              "  </svg>\n",
              "      </button>\n",
              "      \n",
              "  <style>\n",
              "    .colab-df-container {\n",
              "      display:flex;\n",
              "      flex-wrap:wrap;\n",
              "      gap: 12px;\n",
              "    }\n",
              "\n",
              "    .colab-df-convert {\n",
              "      background-color: #E8F0FE;\n",
              "      border: none;\n",
              "      border-radius: 50%;\n",
              "      cursor: pointer;\n",
              "      display: none;\n",
              "      fill: #1967D2;\n",
              "      height: 32px;\n",
              "      padding: 0 0 0 0;\n",
              "      width: 32px;\n",
              "    }\n",
              "\n",
              "    .colab-df-convert:hover {\n",
              "      background-color: #E2EBFA;\n",
              "      box-shadow: 0px 1px 2px rgba(60, 64, 67, 0.3), 0px 1px 3px 1px rgba(60, 64, 67, 0.15);\n",
              "      fill: #174EA6;\n",
              "    }\n",
              "\n",
              "    [theme=dark] .colab-df-convert {\n",
              "      background-color: #3B4455;\n",
              "      fill: #D2E3FC;\n",
              "    }\n",
              "\n",
              "    [theme=dark] .colab-df-convert:hover {\n",
              "      background-color: #434B5C;\n",
              "      box-shadow: 0px 1px 3px 1px rgba(0, 0, 0, 0.15);\n",
              "      filter: drop-shadow(0px 1px 2px rgba(0, 0, 0, 0.3));\n",
              "      fill: #FFFFFF;\n",
              "    }\n",
              "  </style>\n",
              "\n",
              "      <script>\n",
              "        const buttonEl =\n",
              "          document.querySelector('#df-acbdb050-5974-450b-b987-dd8c6f12d408 button.colab-df-convert');\n",
              "        buttonEl.style.display =\n",
              "          google.colab.kernel.accessAllowed ? 'block' : 'none';\n",
              "\n",
              "        async function convertToInteractive(key) {\n",
              "          const element = document.querySelector('#df-acbdb050-5974-450b-b987-dd8c6f12d408');\n",
              "          const dataTable =\n",
              "            await google.colab.kernel.invokeFunction('convertToInteractive',\n",
              "                                                     [key], {});\n",
              "          if (!dataTable) return;\n",
              "\n",
              "          const docLinkHtml = 'Like what you see? Visit the ' +\n",
              "            '<a target=\"_blank\" href=https://colab.research.google.com/notebooks/data_table.ipynb>data table notebook</a>'\n",
              "            + ' to learn more about interactive tables.';\n",
              "          element.innerHTML = '';\n",
              "          dataTable['output_type'] = 'display_data';\n",
              "          await google.colab.output.renderOutput(dataTable, element);\n",
              "          const docLink = document.createElement('div');\n",
              "          docLink.innerHTML = docLinkHtml;\n",
              "          element.appendChild(docLink);\n",
              "        }\n",
              "      </script>\n",
              "    </div>\n",
              "  </div>\n",
              "  "
            ],
            "text/plain": [
              "                                 artist_id  ... time_signature\n",
              "0  ar-e15c4eb7-7cbf-40e3-9575-fe14e8273177  ...            4.0\n",
              "1  ar-e15c4eb7-7cbf-40e3-9575-fe14e8273177  ...            4.0\n",
              "2  ar-e15c4eb7-7cbf-40e3-9575-fe14e8273177  ...            3.0\n",
              "\n",
              "[3 rows x 22 columns]"
            ]
          },
          "metadata": {},
          "execution_count": 39
        }
      ]
    },
    {
      "cell_type": "code",
      "source": [
        ""
      ],
      "metadata": {
        "id": "EN2p7B8gJvye"
      },
      "execution_count": null,
      "outputs": []
    },
    {
      "cell_type": "code",
      "source": [
        ""
      ],
      "metadata": {
        "id": "SIAypcuSDK5L"
      },
      "execution_count": null,
      "outputs": []
    },
    {
      "cell_type": "code",
      "source": [
        "archivo=\"/content/albums_norm.csv\"\n",
        "\n",
        "datos2=pd.read_csv(archivo, sep=\";\")"
      ],
      "metadata": {
        "id": "uhz4AxnqA3Ui"
      },
      "execution_count": 22,
      "outputs": []
    },
    {
      "cell_type": "code",
      "source": [
        ""
      ],
      "metadata": {
        "id": "b_lwEZswCx9V"
      },
      "execution_count": null,
      "outputs": []
    },
    {
      "cell_type": "code",
      "source": [
        "datos2.head(3)"
      ],
      "metadata": {
        "colab": {
          "base_uri": "https://localhost:8080/",
          "height": 344
        },
        "id": "M2E-CCDGCuI0",
        "outputId": "b444c76c-ab38-4171-e0f0-6913fd1ae843"
      },
      "execution_count": 23,
      "outputs": [
        {
          "output_type": "execute_result",
          "data": {
            "text/html": [
              "\n",
              "  <div id=\"df-b5a5d212-6aee-4f23-abe3-376b3583f8a3\">\n",
              "    <div class=\"colab-df-container\">\n",
              "      <div>\n",
              "<style scoped>\n",
              "    .dataframe tbody tr th:only-of-type {\n",
              "        vertical-align: middle;\n",
              "    }\n",
              "\n",
              "    .dataframe tbody tr th {\n",
              "        vertical-align: top;\n",
              "    }\n",
              "\n",
              "    .dataframe thead th {\n",
              "        text-align: right;\n",
              "    }\n",
              "</style>\n",
              "<table border=\"1\" class=\"dataframe\">\n",
              "  <thead>\n",
              "    <tr style=\"text-align: right;\">\n",
              "      <th></th>\n",
              "      <th>artist_id</th>\n",
              "      <th>album_id</th>\n",
              "      <th>album_sp_id</th>\n",
              "      <th>name</th>\n",
              "      <th>popularity</th>\n",
              "      <th>release_year</th>\n",
              "      <th>total_tracks</th>\n",
              "    </tr>\n",
              "  </thead>\n",
              "  <tbody>\n",
              "    <tr>\n",
              "      <th>0</th>\n",
              "      <td>ar-e15c4eb7-7cbf-40e3-9575-fe14e8273177</td>\n",
              "      <td>al-018058ad-ed7a-4c93-88aa-c6febc13eb96</td>\n",
              "      <td>2ix8vWvvSp2Yo7rKMiWpkg</td>\n",
              "      <td>A Moon Shaped Pool</td>\n",
              "      <td>68</td>\n",
              "      <td>2016</td>\n",
              "      <td>11</td>\n",
              "    </tr>\n",
              "    <tr>\n",
              "      <th>1</th>\n",
              "      <td>ar-e15c4eb7-7cbf-40e3-9575-fe14e8273177</td>\n",
              "      <td>al-17efc86e-19e7-47cb-ac6f-1a45568c1b26</td>\n",
              "      <td>5mzoI3VH0ZWk1pLFR6RoYy</td>\n",
              "      <td>Hail To the Thief</td>\n",
              "      <td>66</td>\n",
              "      <td>2003</td>\n",
              "      <td>14</td>\n",
              "    </tr>\n",
              "    <tr>\n",
              "      <th>2</th>\n",
              "      <td>ar-e15c4eb7-7cbf-40e3-9575-fe14e8273177</td>\n",
              "      <td>al-2bc2332e-82c9-4147-a779-755d78936a04</td>\n",
              "      <td>35UJLpClj5EDrhpNIi4DFg</td>\n",
              "      <td>The Bends</td>\n",
              "      <td>77</td>\n",
              "      <td>1995</td>\n",
              "      <td>12</td>\n",
              "    </tr>\n",
              "  </tbody>\n",
              "</table>\n",
              "</div>\n",
              "      <button class=\"colab-df-convert\" onclick=\"convertToInteractive('df-b5a5d212-6aee-4f23-abe3-376b3583f8a3')\"\n",
              "              title=\"Convert this dataframe to an interactive table.\"\n",
              "              style=\"display:none;\">\n",
              "        \n",
              "  <svg xmlns=\"http://www.w3.org/2000/svg\" height=\"24px\"viewBox=\"0 0 24 24\"\n",
              "       width=\"24px\">\n",
              "    <path d=\"M0 0h24v24H0V0z\" fill=\"none\"/>\n",
              "    <path d=\"M18.56 5.44l.94 2.06.94-2.06 2.06-.94-2.06-.94-.94-2.06-.94 2.06-2.06.94zm-11 1L8.5 8.5l.94-2.06 2.06-.94-2.06-.94L8.5 2.5l-.94 2.06-2.06.94zm10 10l.94 2.06.94-2.06 2.06-.94-2.06-.94-.94-2.06-.94 2.06-2.06.94z\"/><path d=\"M17.41 7.96l-1.37-1.37c-.4-.4-.92-.59-1.43-.59-.52 0-1.04.2-1.43.59L10.3 9.45l-7.72 7.72c-.78.78-.78 2.05 0 2.83L4 21.41c.39.39.9.59 1.41.59.51 0 1.02-.2 1.41-.59l7.78-7.78 2.81-2.81c.8-.78.8-2.07 0-2.86zM5.41 20L4 18.59l7.72-7.72 1.47 1.35L5.41 20z\"/>\n",
              "  </svg>\n",
              "      </button>\n",
              "      \n",
              "  <style>\n",
              "    .colab-df-container {\n",
              "      display:flex;\n",
              "      flex-wrap:wrap;\n",
              "      gap: 12px;\n",
              "    }\n",
              "\n",
              "    .colab-df-convert {\n",
              "      background-color: #E8F0FE;\n",
              "      border: none;\n",
              "      border-radius: 50%;\n",
              "      cursor: pointer;\n",
              "      display: none;\n",
              "      fill: #1967D2;\n",
              "      height: 32px;\n",
              "      padding: 0 0 0 0;\n",
              "      width: 32px;\n",
              "    }\n",
              "\n",
              "    .colab-df-convert:hover {\n",
              "      background-color: #E2EBFA;\n",
              "      box-shadow: 0px 1px 2px rgba(60, 64, 67, 0.3), 0px 1px 3px 1px rgba(60, 64, 67, 0.15);\n",
              "      fill: #174EA6;\n",
              "    }\n",
              "\n",
              "    [theme=dark] .colab-df-convert {\n",
              "      background-color: #3B4455;\n",
              "      fill: #D2E3FC;\n",
              "    }\n",
              "\n",
              "    [theme=dark] .colab-df-convert:hover {\n",
              "      background-color: #434B5C;\n",
              "      box-shadow: 0px 1px 3px 1px rgba(0, 0, 0, 0.15);\n",
              "      filter: drop-shadow(0px 1px 2px rgba(0, 0, 0, 0.3));\n",
              "      fill: #FFFFFF;\n",
              "    }\n",
              "  </style>\n",
              "\n",
              "      <script>\n",
              "        const buttonEl =\n",
              "          document.querySelector('#df-b5a5d212-6aee-4f23-abe3-376b3583f8a3 button.colab-df-convert');\n",
              "        buttonEl.style.display =\n",
              "          google.colab.kernel.accessAllowed ? 'block' : 'none';\n",
              "\n",
              "        async function convertToInteractive(key) {\n",
              "          const element = document.querySelector('#df-b5a5d212-6aee-4f23-abe3-376b3583f8a3');\n",
              "          const dataTable =\n",
              "            await google.colab.kernel.invokeFunction('convertToInteractive',\n",
              "                                                     [key], {});\n",
              "          if (!dataTable) return;\n",
              "\n",
              "          const docLinkHtml = 'Like what you see? Visit the ' +\n",
              "            '<a target=\"_blank\" href=https://colab.research.google.com/notebooks/data_table.ipynb>data table notebook</a>'\n",
              "            + ' to learn more about interactive tables.';\n",
              "          element.innerHTML = '';\n",
              "          dataTable['output_type'] = 'display_data';\n",
              "          await google.colab.output.renderOutput(dataTable, element);\n",
              "          const docLink = document.createElement('div');\n",
              "          docLink.innerHTML = docLinkHtml;\n",
              "          element.appendChild(docLink);\n",
              "        }\n",
              "      </script>\n",
              "    </div>\n",
              "  </div>\n",
              "  "
            ],
            "text/plain": [
              "                                 artist_id  ... total_tracks\n",
              "0  ar-e15c4eb7-7cbf-40e3-9575-fe14e8273177  ...           11\n",
              "1  ar-e15c4eb7-7cbf-40e3-9575-fe14e8273177  ...           14\n",
              "2  ar-e15c4eb7-7cbf-40e3-9575-fe14e8273177  ...           12\n",
              "\n",
              "[3 rows x 7 columns]"
            ]
          },
          "metadata": {},
          "execution_count": 23
        }
      ]
    },
    {
      "cell_type": "code",
      "source": [
        "datos2.info()"
      ],
      "metadata": {
        "colab": {
          "base_uri": "https://localhost:8080/"
        },
        "id": "9uH39bhgC1Rd",
        "outputId": "f358b111-47f4-4b13-bb49-a7e885e6a725"
      },
      "execution_count": 44,
      "outputs": [
        {
          "output_type": "stream",
          "name": "stdout",
          "text": [
            "<class 'pandas.core.frame.DataFrame'>\n",
            "RangeIndex: 2135 entries, 0 to 2134\n",
            "Data columns (total 7 columns):\n",
            " #   Column        Non-Null Count  Dtype \n",
            "---  ------        --------------  ----- \n",
            " 0   artist_id     2135 non-null   object\n",
            " 1   album_id      2135 non-null   object\n",
            " 2   album_sp_id   2135 non-null   object\n",
            " 3   name          2135 non-null   object\n",
            " 4   popularity    2135 non-null   int64 \n",
            " 5   release_year  2135 non-null   int64 \n",
            " 6   total_tracks  2135 non-null   int64 \n",
            "dtypes: int64(3), object(4)\n",
            "memory usage: 116.9+ KB\n"
          ]
        }
      ]
    },
    {
      "cell_type": "code",
      "source": [
        ""
      ],
      "metadata": {
        "id": "O6g7vgxRKdEB"
      },
      "execution_count": null,
      "outputs": []
    },
    {
      "cell_type": "code",
      "source": [
        "desnormalizada= pd.merge(datos, datos2, on=\"album_id\", how='outer')"
      ],
      "metadata": {
        "id": "fdzBL1WCDHeg"
      },
      "execution_count": 46,
      "outputs": []
    },
    {
      "cell_type": "code",
      "source": [
        ""
      ],
      "metadata": {
        "id": "kDo8XZUoKjPR"
      },
      "execution_count": null,
      "outputs": []
    },
    {
      "cell_type": "code",
      "source": [
        ""
      ],
      "metadata": {
        "id": "IcuJjCCMKd_3"
      },
      "execution_count": null,
      "outputs": []
    },
    {
      "cell_type": "code",
      "source": [
        ""
      ],
      "metadata": {
        "id": "3T9YarOUJ4zn"
      },
      "execution_count": null,
      "outputs": []
    },
    {
      "cell_type": "code",
      "source": [
        "desnormalizada.info()"
      ],
      "metadata": {
        "colab": {
          "base_uri": "https://localhost:8080/"
        },
        "id": "XcyuZtHOGPba",
        "outputId": "fedb8434-31e4-4154-f355-ec1dd4d9eca5"
      },
      "execution_count": 49,
      "outputs": [
        {
          "output_type": "stream",
          "name": "stdout",
          "text": [
            "<class 'pandas.core.frame.DataFrame'>\n",
            "Int64Index: 35574 entries, 0 to 35573\n",
            "Data columns (total 28 columns):\n",
            " #   Column            Non-Null Count  Dtype  \n",
            "---  ------            --------------  -----  \n",
            " 0   artist_id_x       35574 non-null  object \n",
            " 1   album_id          35574 non-null  object \n",
            " 2   track_id          35574 non-null  object \n",
            " 3   track_sp_id       35574 non-null  object \n",
            " 4   track name        35574 non-null  object \n",
            " 5   number            35574 non-null  int64  \n",
            " 6   disc_number       35574 non-null  int64  \n",
            " 7   popularity_x      35186 non-null  float64\n",
            " 8   preview_url       23218 non-null  object \n",
            " 9   danceability      35567 non-null  float64\n",
            " 10  energy            35567 non-null  object \n",
            " 11  key               35567 non-null  float64\n",
            " 12  loudness          35567 non-null  object \n",
            " 13  mode              35567 non-null  float64\n",
            " 14  speechiness       35567 non-null  float64\n",
            " 15  acousticness      35567 non-null  object \n",
            " 16  instrumentalness  35567 non-null  object \n",
            " 17  liveness          35567 non-null  float64\n",
            " 18  valence           35567 non-null  float64\n",
            " 19  tempo             35567 non-null  object \n",
            " 20  duration_ms       35567 non-null  float64\n",
            " 21  time_signature    35567 non-null  float64\n",
            " 22  artist_id_y       35574 non-null  object \n",
            " 23  album_sp_id       35574 non-null  object \n",
            " 24  name              35574 non-null  object \n",
            " 25  popularity_y      35574 non-null  int64  \n",
            " 26  release_year      35574 non-null  int64  \n",
            " 27  total_tracks      35574 non-null  int64  \n",
            "dtypes: float64(9), int64(5), object(14)\n",
            "memory usage: 7.9+ MB\n"
          ]
        }
      ]
    },
    {
      "cell_type": "code",
      "source": [
        ""
      ],
      "metadata": {
        "id": "U9KymnzJKq6V"
      },
      "execution_count": null,
      "outputs": []
    },
    {
      "cell_type": "code",
      "source": [
        "archivo=\"/content/artists_norm.csv\"\n",
        "\n",
        "datos3=pd.read_csv(archivo, sep=\";\")"
      ],
      "metadata": {
        "id": "coNmVerOGfBN"
      },
      "execution_count": 53,
      "outputs": []
    },
    {
      "cell_type": "code",
      "source": [
        "datos3.info()"
      ],
      "metadata": {
        "colab": {
          "base_uri": "https://localhost:8080/"
        },
        "id": "FXlAglBJLUZ7",
        "outputId": "1f0cbfc8-dbfc-4466-fe61-fc89210e770f"
      },
      "execution_count": 54,
      "outputs": [
        {
          "output_type": "stream",
          "name": "stdout",
          "text": [
            "<class 'pandas.core.frame.DataFrame'>\n",
            "RangeIndex: 68 entries, 0 to 67\n",
            "Data columns (total 6 columns):\n",
            " #   Column        Non-Null Count  Dtype \n",
            "---  ------        --------------  ----- \n",
            " 0   artist_id     68 non-null     object\n",
            " 1   artist_sp_id  68 non-null     object\n",
            " 2   name          68 non-null     object\n",
            " 3   popularity    68 non-null     int64 \n",
            " 4   followers     68 non-null     int64 \n",
            " 5   total_albums  68 non-null     int64 \n",
            "dtypes: int64(3), object(3)\n",
            "memory usage: 3.3+ KB\n"
          ]
        }
      ]
    },
    {
      "cell_type": "code",
      "source": [
        ""
      ],
      "metadata": {
        "id": "x-MHMjKmK81C"
      },
      "execution_count": null,
      "outputs": []
    },
    {
      "cell_type": "code",
      "source": [
        "desnormalizada.info()"
      ],
      "metadata": {
        "colab": {
          "base_uri": "https://localhost:8080/"
        },
        "id": "76FbYI5nHN_M",
        "outputId": "d25c38d2-2a34-4f90-b4e3-3edc93af518e"
      },
      "execution_count": 51,
      "outputs": [
        {
          "output_type": "stream",
          "name": "stdout",
          "text": [
            "<class 'pandas.core.frame.DataFrame'>\n",
            "Int64Index: 35574 entries, 0 to 35573\n",
            "Data columns (total 28 columns):\n",
            " #   Column            Non-Null Count  Dtype  \n",
            "---  ------            --------------  -----  \n",
            " 0   artist_id_x       35574 non-null  object \n",
            " 1   album_id          35574 non-null  object \n",
            " 2   track_id          35574 non-null  object \n",
            " 3   track_sp_id       35574 non-null  object \n",
            " 4   track name        35574 non-null  object \n",
            " 5   number            35574 non-null  int64  \n",
            " 6   disc_number       35574 non-null  int64  \n",
            " 7   popularity_x      35186 non-null  float64\n",
            " 8   preview_url       23218 non-null  object \n",
            " 9   danceability      35567 non-null  float64\n",
            " 10  energy            35567 non-null  object \n",
            " 11  key               35567 non-null  float64\n",
            " 12  loudness          35567 non-null  object \n",
            " 13  mode              35567 non-null  float64\n",
            " 14  speechiness       35567 non-null  float64\n",
            " 15  acousticness      35567 non-null  object \n",
            " 16  instrumentalness  35567 non-null  object \n",
            " 17  liveness          35567 non-null  float64\n",
            " 18  valence           35567 non-null  float64\n",
            " 19  tempo             35567 non-null  object \n",
            " 20  duration_ms       35567 non-null  float64\n",
            " 21  time_signature    35567 non-null  float64\n",
            " 22  artist_id_y       35574 non-null  object \n",
            " 23  album_sp_id       35574 non-null  object \n",
            " 24  name              35574 non-null  object \n",
            " 25  popularity_y      35574 non-null  int64  \n",
            " 26  release_year      35574 non-null  int64  \n",
            " 27  total_tracks      35574 non-null  int64  \n",
            "dtypes: float64(9), int64(5), object(14)\n",
            "memory usage: 7.9+ MB\n"
          ]
        }
      ]
    },
    {
      "cell_type": "code",
      "source": [
        "desnormalizada = desnormalizada.rename(columns={\"artist_id_x\":\"artist_id\"})"
      ],
      "metadata": {
        "id": "G6l5JgLhLCNc"
      },
      "execution_count": 55,
      "outputs": []
    },
    {
      "cell_type": "code",
      "source": [
        "desnormalizadafinal=pd.merge(desnormalizada, datos3, on=\"artist_id\")"
      ],
      "metadata": {
        "id": "4wG7TF0SMBGI"
      },
      "execution_count": 56,
      "outputs": []
    },
    {
      "cell_type": "code",
      "source": [
        "desnormalizadafinal.info()"
      ],
      "metadata": {
        "colab": {
          "base_uri": "https://localhost:8080/"
        },
        "id": "8sPusrNUMJ29",
        "outputId": "bcbc398e-65e6-462c-b0c0-000fc1fb54d4"
      },
      "execution_count": 57,
      "outputs": [
        {
          "output_type": "stream",
          "name": "stdout",
          "text": [
            "<class 'pandas.core.frame.DataFrame'>\n",
            "Int64Index: 35574 entries, 0 to 35573\n",
            "Data columns (total 33 columns):\n",
            " #   Column            Non-Null Count  Dtype  \n",
            "---  ------            --------------  -----  \n",
            " 0   artist_id         35574 non-null  object \n",
            " 1   album_id          35574 non-null  object \n",
            " 2   track_id          35574 non-null  object \n",
            " 3   track_sp_id       35574 non-null  object \n",
            " 4   track name        35574 non-null  object \n",
            " 5   number            35574 non-null  int64  \n",
            " 6   disc_number       35574 non-null  int64  \n",
            " 7   popularity_x      35186 non-null  float64\n",
            " 8   preview_url       23218 non-null  object \n",
            " 9   danceability      35567 non-null  float64\n",
            " 10  energy            35567 non-null  object \n",
            " 11  key               35567 non-null  float64\n",
            " 12  loudness          35567 non-null  object \n",
            " 13  mode              35567 non-null  float64\n",
            " 14  speechiness       35567 non-null  float64\n",
            " 15  acousticness      35567 non-null  object \n",
            " 16  instrumentalness  35567 non-null  object \n",
            " 17  liveness          35567 non-null  float64\n",
            " 18  valence           35567 non-null  float64\n",
            " 19  tempo             35567 non-null  object \n",
            " 20  duration_ms       35567 non-null  float64\n",
            " 21  time_signature    35567 non-null  float64\n",
            " 22  artist_id_y       35574 non-null  object \n",
            " 23  album_sp_id       35574 non-null  object \n",
            " 24  name_x            35574 non-null  object \n",
            " 25  popularity_y      35574 non-null  int64  \n",
            " 26  release_year      35574 non-null  int64  \n",
            " 27  total_tracks      35574 non-null  int64  \n",
            " 28  artist_sp_id      35574 non-null  object \n",
            " 29  name_y            35574 non-null  object \n",
            " 30  popularity        35574 non-null  int64  \n",
            " 31  followers         35574 non-null  int64  \n",
            " 32  total_albums      35574 non-null  int64  \n",
            "dtypes: float64(9), int64(8), object(16)\n",
            "memory usage: 9.2+ MB\n"
          ]
        }
      ]
    },
    {
      "cell_type": "code",
      "source": [
        "desnormalizadafinal.describe()"
      ],
      "metadata": {
        "colab": {
          "base_uri": "https://localhost:8080/",
          "height": 364
        },
        "id": "MMDgB2sOMNLG",
        "outputId": "27e55162-a4be-46be-fed9-deaa2c440c7e"
      },
      "execution_count": 58,
      "outputs": [
        {
          "output_type": "execute_result",
          "data": {
            "text/html": [
              "\n",
              "  <div id=\"df-9e472078-401a-4964-a84e-235e4a86ca05\">\n",
              "    <div class=\"colab-df-container\">\n",
              "      <div>\n",
              "<style scoped>\n",
              "    .dataframe tbody tr th:only-of-type {\n",
              "        vertical-align: middle;\n",
              "    }\n",
              "\n",
              "    .dataframe tbody tr th {\n",
              "        vertical-align: top;\n",
              "    }\n",
              "\n",
              "    .dataframe thead th {\n",
              "        text-align: right;\n",
              "    }\n",
              "</style>\n",
              "<table border=\"1\" class=\"dataframe\">\n",
              "  <thead>\n",
              "    <tr style=\"text-align: right;\">\n",
              "      <th></th>\n",
              "      <th>number</th>\n",
              "      <th>disc_number</th>\n",
              "      <th>popularity_x</th>\n",
              "      <th>danceability</th>\n",
              "      <th>key</th>\n",
              "      <th>mode</th>\n",
              "      <th>speechiness</th>\n",
              "      <th>liveness</th>\n",
              "      <th>valence</th>\n",
              "      <th>duration_ms</th>\n",
              "      <th>time_signature</th>\n",
              "      <th>popularity_y</th>\n",
              "      <th>release_year</th>\n",
              "      <th>total_tracks</th>\n",
              "      <th>popularity</th>\n",
              "      <th>followers</th>\n",
              "      <th>total_albums</th>\n",
              "    </tr>\n",
              "  </thead>\n",
              "  <tbody>\n",
              "    <tr>\n",
              "      <th>count</th>\n",
              "      <td>35574.000000</td>\n",
              "      <td>35574.000000</td>\n",
              "      <td>35186.000000</td>\n",
              "      <td>35567.000000</td>\n",
              "      <td>35567.000000</td>\n",
              "      <td>35567.000000</td>\n",
              "      <td>35567.000000</td>\n",
              "      <td>35567.000000</td>\n",
              "      <td>35567.000000</td>\n",
              "      <td>3.556700e+04</td>\n",
              "      <td>35567.000000</td>\n",
              "      <td>35574.000000</td>\n",
              "      <td>35574.000000</td>\n",
              "      <td>35574.000000</td>\n",
              "      <td>35574.000000</td>\n",
              "      <td>3.557400e+04</td>\n",
              "      <td>35574.000000</td>\n",
              "    </tr>\n",
              "    <tr>\n",
              "      <th>mean</th>\n",
              "      <td>8.767386</td>\n",
              "      <td>1.154973</td>\n",
              "      <td>19.030609</td>\n",
              "      <td>0.423668</td>\n",
              "      <td>5.184553</td>\n",
              "      <td>0.632721</td>\n",
              "      <td>0.074013</td>\n",
              "      <td>0.256443</td>\n",
              "      <td>0.379119</td>\n",
              "      <td>2.286956e+05</td>\n",
              "      <td>3.836393</td>\n",
              "      <td>34.151993</td>\n",
              "      <td>2000.015095</td>\n",
              "      <td>22.845055</td>\n",
              "      <td>74.967504</td>\n",
              "      <td>7.217283e+06</td>\n",
              "      <td>175.300275</td>\n",
              "    </tr>\n",
              "    <tr>\n",
              "      <th>std</th>\n",
              "      <td>6.179290</td>\n",
              "      <td>0.485318</td>\n",
              "      <td>18.087619</td>\n",
              "      <td>0.186814</td>\n",
              "      <td>3.512002</td>\n",
              "      <td>0.482070</td>\n",
              "      <td>0.094677</td>\n",
              "      <td>0.254555</td>\n",
              "      <td>0.268237</td>\n",
              "      <td>1.197261e+05</td>\n",
              "      <td>0.552048</td>\n",
              "      <td>22.245654</td>\n",
              "      <td>17.913973</td>\n",
              "      <td>20.570832</td>\n",
              "      <td>8.544407</td>\n",
              "      <td>1.182933e+07</td>\n",
              "      <td>199.087681</td>\n",
              "    </tr>\n",
              "    <tr>\n",
              "      <th>min</th>\n",
              "      <td>1.000000</td>\n",
              "      <td>1.000000</td>\n",
              "      <td>0.000000</td>\n",
              "      <td>0.000000</td>\n",
              "      <td>0.000000</td>\n",
              "      <td>0.000000</td>\n",
              "      <td>0.000000</td>\n",
              "      <td>0.000000</td>\n",
              "      <td>0.000000</td>\n",
              "      <td>4.000000e+03</td>\n",
              "      <td>0.000000</td>\n",
              "      <td>0.000000</td>\n",
              "      <td>1925.000000</td>\n",
              "      <td>1.000000</td>\n",
              "      <td>47.000000</td>\n",
              "      <td>3.321900e+04</td>\n",
              "      <td>2.000000</td>\n",
              "    </tr>\n",
              "    <tr>\n",
              "      <th>25%</th>\n",
              "      <td>4.000000</td>\n",
              "      <td>1.000000</td>\n",
              "      <td>2.000000</td>\n",
              "      <td>0.271000</td>\n",
              "      <td>2.000000</td>\n",
              "      <td>0.000000</td>\n",
              "      <td>0.035100</td>\n",
              "      <td>0.099500</td>\n",
              "      <td>0.136000</td>\n",
              "      <td>1.630130e+05</td>\n",
              "      <td>4.000000</td>\n",
              "      <td>14.000000</td>\n",
              "      <td>1989.000000</td>\n",
              "      <td>13.000000</td>\n",
              "      <td>69.000000</td>\n",
              "      <td>8.339150e+05</td>\n",
              "      <td>30.000000</td>\n",
              "    </tr>\n",
              "    <tr>\n",
              "      <th>50%</th>\n",
              "      <td>8.000000</td>\n",
              "      <td>1.000000</td>\n",
              "      <td>16.000000</td>\n",
              "      <td>0.424000</td>\n",
              "      <td>5.000000</td>\n",
              "      <td>1.000000</td>\n",
              "      <td>0.043900</td>\n",
              "      <td>0.133000</td>\n",
              "      <td>0.348000</td>\n",
              "      <td>2.136270e+05</td>\n",
              "      <td>4.000000</td>\n",
              "      <td>34.000000</td>\n",
              "      <td>2005.000000</td>\n",
              "      <td>18.000000</td>\n",
              "      <td>74.000000</td>\n",
              "      <td>2.377897e+06</td>\n",
              "      <td>66.000000</td>\n",
              "    </tr>\n",
              "    <tr>\n",
              "      <th>75%</th>\n",
              "      <td>12.000000</td>\n",
              "      <td>1.000000</td>\n",
              "      <td>31.000000</td>\n",
              "      <td>0.566000</td>\n",
              "      <td>9.000000</td>\n",
              "      <td>1.000000</td>\n",
              "      <td>0.071300</td>\n",
              "      <td>0.315000</td>\n",
              "      <td>0.584000</td>\n",
              "      <td>2.716665e+05</td>\n",
              "      <td>4.000000</td>\n",
              "      <td>51.000000</td>\n",
              "      <td>2014.000000</td>\n",
              "      <td>24.000000</td>\n",
              "      <td>81.000000</td>\n",
              "      <td>6.816908e+06</td>\n",
              "      <td>505.000000</td>\n",
              "    </tr>\n",
              "    <tr>\n",
              "      <th>max</th>\n",
              "      <td>50.000000</td>\n",
              "      <td>6.000000</td>\n",
              "      <td>96.000000</td>\n",
              "      <td>0.980000</td>\n",
              "      <td>11.000000</td>\n",
              "      <td>1.000000</td>\n",
              "      <td>0.964000</td>\n",
              "      <td>1.000000</td>\n",
              "      <td>0.998000</td>\n",
              "      <td>4.738853e+06</td>\n",
              "      <td>5.000000</td>\n",
              "      <td>100.000000</td>\n",
              "      <td>2021.000000</td>\n",
              "      <td>256.000000</td>\n",
              "      <td>100.000000</td>\n",
              "      <td>8.703106e+07</td>\n",
              "      <td>505.000000</td>\n",
              "    </tr>\n",
              "  </tbody>\n",
              "</table>\n",
              "</div>\n",
              "      <button class=\"colab-df-convert\" onclick=\"convertToInteractive('df-9e472078-401a-4964-a84e-235e4a86ca05')\"\n",
              "              title=\"Convert this dataframe to an interactive table.\"\n",
              "              style=\"display:none;\">\n",
              "        \n",
              "  <svg xmlns=\"http://www.w3.org/2000/svg\" height=\"24px\"viewBox=\"0 0 24 24\"\n",
              "       width=\"24px\">\n",
              "    <path d=\"M0 0h24v24H0V0z\" fill=\"none\"/>\n",
              "    <path d=\"M18.56 5.44l.94 2.06.94-2.06 2.06-.94-2.06-.94-.94-2.06-.94 2.06-2.06.94zm-11 1L8.5 8.5l.94-2.06 2.06-.94-2.06-.94L8.5 2.5l-.94 2.06-2.06.94zm10 10l.94 2.06.94-2.06 2.06-.94-2.06-.94-.94-2.06-.94 2.06-2.06.94z\"/><path d=\"M17.41 7.96l-1.37-1.37c-.4-.4-.92-.59-1.43-.59-.52 0-1.04.2-1.43.59L10.3 9.45l-7.72 7.72c-.78.78-.78 2.05 0 2.83L4 21.41c.39.39.9.59 1.41.59.51 0 1.02-.2 1.41-.59l7.78-7.78 2.81-2.81c.8-.78.8-2.07 0-2.86zM5.41 20L4 18.59l7.72-7.72 1.47 1.35L5.41 20z\"/>\n",
              "  </svg>\n",
              "      </button>\n",
              "      \n",
              "  <style>\n",
              "    .colab-df-container {\n",
              "      display:flex;\n",
              "      flex-wrap:wrap;\n",
              "      gap: 12px;\n",
              "    }\n",
              "\n",
              "    .colab-df-convert {\n",
              "      background-color: #E8F0FE;\n",
              "      border: none;\n",
              "      border-radius: 50%;\n",
              "      cursor: pointer;\n",
              "      display: none;\n",
              "      fill: #1967D2;\n",
              "      height: 32px;\n",
              "      padding: 0 0 0 0;\n",
              "      width: 32px;\n",
              "    }\n",
              "\n",
              "    .colab-df-convert:hover {\n",
              "      background-color: #E2EBFA;\n",
              "      box-shadow: 0px 1px 2px rgba(60, 64, 67, 0.3), 0px 1px 3px 1px rgba(60, 64, 67, 0.15);\n",
              "      fill: #174EA6;\n",
              "    }\n",
              "\n",
              "    [theme=dark] .colab-df-convert {\n",
              "      background-color: #3B4455;\n",
              "      fill: #D2E3FC;\n",
              "    }\n",
              "\n",
              "    [theme=dark] .colab-df-convert:hover {\n",
              "      background-color: #434B5C;\n",
              "      box-shadow: 0px 1px 3px 1px rgba(0, 0, 0, 0.15);\n",
              "      filter: drop-shadow(0px 1px 2px rgba(0, 0, 0, 0.3));\n",
              "      fill: #FFFFFF;\n",
              "    }\n",
              "  </style>\n",
              "\n",
              "      <script>\n",
              "        const buttonEl =\n",
              "          document.querySelector('#df-9e472078-401a-4964-a84e-235e4a86ca05 button.colab-df-convert');\n",
              "        buttonEl.style.display =\n",
              "          google.colab.kernel.accessAllowed ? 'block' : 'none';\n",
              "\n",
              "        async function convertToInteractive(key) {\n",
              "          const element = document.querySelector('#df-9e472078-401a-4964-a84e-235e4a86ca05');\n",
              "          const dataTable =\n",
              "            await google.colab.kernel.invokeFunction('convertToInteractive',\n",
              "                                                     [key], {});\n",
              "          if (!dataTable) return;\n",
              "\n",
              "          const docLinkHtml = 'Like what you see? Visit the ' +\n",
              "            '<a target=\"_blank\" href=https://colab.research.google.com/notebooks/data_table.ipynb>data table notebook</a>'\n",
              "            + ' to learn more about interactive tables.';\n",
              "          element.innerHTML = '';\n",
              "          dataTable['output_type'] = 'display_data';\n",
              "          await google.colab.output.renderOutput(dataTable, element);\n",
              "          const docLink = document.createElement('div');\n",
              "          docLink.innerHTML = docLinkHtml;\n",
              "          element.appendChild(docLink);\n",
              "        }\n",
              "      </script>\n",
              "    </div>\n",
              "  </div>\n",
              "  "
            ],
            "text/plain": [
              "             number   disc_number  ...     followers  total_albums\n",
              "count  35574.000000  35574.000000  ...  3.557400e+04  35574.000000\n",
              "mean       8.767386      1.154973  ...  7.217283e+06    175.300275\n",
              "std        6.179290      0.485318  ...  1.182933e+07    199.087681\n",
              "min        1.000000      1.000000  ...  3.321900e+04      2.000000\n",
              "25%        4.000000      1.000000  ...  8.339150e+05     30.000000\n",
              "50%        8.000000      1.000000  ...  2.377897e+06     66.000000\n",
              "75%       12.000000      1.000000  ...  6.816908e+06    505.000000\n",
              "max       50.000000      6.000000  ...  8.703106e+07    505.000000\n",
              "\n",
              "[8 rows x 17 columns]"
            ]
          },
          "metadata": {},
          "execution_count": 58
        }
      ]
    },
    {
      "cell_type": "code",
      "source": [
        ""
      ],
      "metadata": {
        "id": "U22HYdt3MUNU"
      },
      "execution_count": null,
      "outputs": []
    },
    {
      "cell_type": "code",
      "source": [
        ""
      ],
      "metadata": {
        "id": "bDCGpct3Iawq"
      },
      "execution_count": null,
      "outputs": []
    },
    {
      "cell_type": "code",
      "source": [
        ""
      ],
      "metadata": {
        "id": "umhKO2atHTDI"
      },
      "execution_count": null,
      "outputs": []
    },
    {
      "cell_type": "code",
      "source": [
        ""
      ],
      "metadata": {
        "id": "h_HYWvC7DGZo"
      },
      "execution_count": null,
      "outputs": []
    },
    {
      "cell_type": "code",
      "source": [
        ""
      ],
      "metadata": {
        "id": "83T9Z7oIDCyE"
      },
      "execution_count": null,
      "outputs": []
    },
    {
      "cell_type": "code",
      "source": [
        ""
      ],
      "metadata": {
        "id": "omSAZx2wAmyk"
      },
      "execution_count": null,
      "outputs": []
    },
    {
      "cell_type": "code",
      "source": [
        ""
      ],
      "metadata": {
        "id": "Ig-bgSWc9R4X"
      },
      "execution_count": null,
      "outputs": []
    },
    {
      "cell_type": "code",
      "source": [
        ""
      ],
      "metadata": {
        "id": "WufuiFJF8zEA"
      },
      "execution_count": null,
      "outputs": []
    },
    {
      "cell_type": "code",
      "source": [
        ""
      ],
      "metadata": {
        "id": "TL3G6txR8whs"
      },
      "execution_count": null,
      "outputs": []
    },
    {
      "cell_type": "code",
      "source": [
        ""
      ],
      "metadata": {
        "id": "ZHqIDSVi8LSR"
      },
      "execution_count": null,
      "outputs": []
    },
    {
      "cell_type": "code",
      "source": [
        ""
      ],
      "metadata": {
        "id": "5qsrRm0y8G1o"
      },
      "execution_count": null,
      "outputs": []
    },
    {
      "cell_type": "code",
      "source": [
        ""
      ],
      "metadata": {
        "id": "Xk6i4JbI4ugO"
      },
      "execution_count": null,
      "outputs": []
    },
    {
      "cell_type": "code",
      "source": [
        ""
      ],
      "metadata": {
        "id": "L9ziCAmZ4ryP"
      },
      "execution_count": null,
      "outputs": []
    },
    {
      "cell_type": "code",
      "source": [
        ""
      ],
      "metadata": {
        "id": "fV3X_ch73bFs"
      },
      "execution_count": null,
      "outputs": []
    },
    {
      "cell_type": "code",
      "source": [
        ""
      ],
      "metadata": {
        "id": "Mf1rKBkm3Yjd"
      },
      "execution_count": null,
      "outputs": []
    },
    {
      "cell_type": "code",
      "source": [
        ""
      ],
      "metadata": {
        "id": "N7BZPgvU3Ov9"
      },
      "execution_count": null,
      "outputs": []
    },
    {
      "cell_type": "code",
      "source": [
        ""
      ],
      "metadata": {
        "id": "GcTgqoEbtg6o"
      },
      "execution_count": null,
      "outputs": []
    }
  ]
}