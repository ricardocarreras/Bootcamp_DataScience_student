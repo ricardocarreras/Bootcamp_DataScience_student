{
  "nbformat": 4,
  "nbformat_minor": 0,
  "metadata": {
    "colab": {
      "name": "keras.ipynb",
      "provenance": [],
      "authorship_tag": "ABX9TyMq3KcxCXQpRlqavik61Ug+",
      "include_colab_link": true
    },
    "kernelspec": {
      "name": "python3",
      "display_name": "Python 3"
    },
    "language_info": {
      "name": "python"
    }
  },
  "cells": [
    {
      "cell_type": "markdown",
      "metadata": {
        "id": "view-in-github",
        "colab_type": "text"
      },
      "source": [
        "<a href=\"https://colab.research.google.com/github/ricardocarreras/Bootcamp_DataScience_student/blob/master/keras.ipynb\" target=\"_parent\"><img src=\"https://colab.research.google.com/assets/colab-badge.svg\" alt=\"Open In Colab\"/></a>"
      ]
    },
    {
      "cell_type": "code",
      "execution_count": 1,
      "metadata": {
        "id": "BySqjEIthlwa"
      },
      "outputs": [],
      "source": [
        "import tensorflow as tf "
      ]
    },
    {
      "cell_type": "code",
      "source": [
        "from keras.models import Sequential\n",
        "from keras.layers import Dense"
      ],
      "metadata": {
        "id": "IVSCQDebh3Re"
      },
      "execution_count": 2,
      "outputs": []
    },
    {
      "cell_type": "code",
      "source": [
        "modelo=Sequential()"
      ],
      "metadata": {
        "id": "d-11zzGsiEnM"
      },
      "execution_count": 11,
      "outputs": []
    },
    {
      "cell_type": "code",
      "source": [
        "#modelo.add(Dense(units=10, activation=\"sigmoid\"), input_shape=(\"cuantas variables van a entrar\"))\n",
        "\n",
        "modelo.add(Dense(units=10, activation=\"sigmoid\", input_shape=(30, )))\n",
        "modelo.add(Dense(units=1, activation=\"sigmoid\"))"
      ],
      "metadata": {
        "id": "aIqUmDdeiKPM"
      },
      "execution_count": 37,
      "outputs": []
    },
    {
      "cell_type": "code",
      "source": [
        "Modelo1=Sequential([\n",
        "    Dense(units=10, activation=\"sigmoid\", input_dim=4), \n",
        "    Dense(units=10, activation=\"sigmoid\")\n",
        "])\n"
      ],
      "metadata": {
        "id": "1VIhgpofjO5_"
      },
      "execution_count": 38,
      "outputs": []
    },
    {
      "cell_type": "code",
      "source": [
        "#Optimizador"
      ],
      "metadata": {
        "id": "o4vYRlfEj9i9"
      },
      "execution_count": 24,
      "outputs": []
    },
    {
      "cell_type": "code",
      "source": [
        "modelo.compile(loss=\"binary_crossentropy\", \n",
        "               optimizer=\"sgd\",\n",
        "               metrics=[\"accuracy\"]\n",
        ")"
      ],
      "metadata": {
        "id": "pW34Nypjj9FO"
      },
      "execution_count": 25,
      "outputs": []
    },
    {
      "cell_type": "code",
      "source": [
        "modelo.summary()"
      ],
      "metadata": {
        "colab": {
          "base_uri": "https://localhost:8080/"
        },
        "id": "fILuOI3RkZXh",
        "outputId": "1be5245e-b0eb-49b9-b2c4-79c02a95ccea"
      },
      "execution_count": 27,
      "outputs": [
        {
          "output_type": "stream",
          "name": "stdout",
          "text": [
            "Model: \"sequential_1\"\n",
            "_________________________________________________________________\n",
            " Layer (type)                Output Shape              Param #   \n",
            "=================================================================\n",
            " dense_2 (Dense)             (None, 10)                50        \n",
            "                                                                 \n",
            " dense_3 (Dense)             (None, 10)                110       \n",
            "                                                                 \n",
            " dense_4 (Dense)             (None, 1)                 11        \n",
            "                                                                 \n",
            "=================================================================\n",
            "Total params: 171\n",
            "Trainable params: 171\n",
            "Non-trainable params: 0\n",
            "_________________________________________________________________\n"
          ]
        }
      ]
    },
    {
      "cell_type": "code",
      "source": [
        ""
      ],
      "metadata": {
        "id": "KsJLOkfMnC78"
      },
      "execution_count": null,
      "outputs": []
    },
    {
      "cell_type": "code",
      "source": [
        "from sklearn.datasets import load_breast_cancer\n",
        "from sklearn.preprocessing import StandardScaler\n",
        "from sklearn.model_selection import train_test_split"
      ],
      "metadata": {
        "id": "uNjnU3gBkZUt"
      },
      "execution_count": 33,
      "outputs": []
    },
    {
      "cell_type": "code",
      "source": [
        "X_train, X_test, y_train, y_test=train_test_split(load_breast_cancer().data, load_breast_cancer().target, test_size=0.25, random_state=0)\n",
        "\n",
        "\n"
      ],
      "metadata": {
        "id": "JiH60ae8kZRW"
      },
      "execution_count": 36,
      "outputs": []
    },
    {
      "cell_type": "code",
      "source": [
        "Escalado=StandardScaler().fit(X_train)"
      ],
      "metadata": {
        "id": "9mgAeFl_oJy-"
      },
      "execution_count": 41,
      "outputs": []
    },
    {
      "cell_type": "code",
      "source": [
        ""
      ],
      "metadata": {
        "id": "TAL-gJfPkZMl"
      },
      "execution_count": null,
      "outputs": []
    },
    {
      "cell_type": "code",
      "source": [
        ""
      ],
      "metadata": {
        "id": "3WAbjMlgj9B9"
      },
      "execution_count": null,
      "outputs": []
    },
    {
      "cell_type": "code",
      "source": [
        ""
      ],
      "metadata": {
        "id": "hxE80s_pj8_F"
      },
      "execution_count": null,
      "outputs": []
    },
    {
      "cell_type": "code",
      "source": [
        ""
      ],
      "metadata": {
        "id": "W9oJY3AAj83u"
      },
      "execution_count": null,
      "outputs": []
    },
    {
      "cell_type": "code",
      "source": [
        ""
      ],
      "metadata": {
        "id": "1xat0nswjgeN"
      },
      "execution_count": null,
      "outputs": []
    },
    {
      "cell_type": "code",
      "source": [
        ""
      ],
      "metadata": {
        "id": "KczZtBlgjcpm"
      },
      "execution_count": null,
      "outputs": []
    },
    {
      "cell_type": "code",
      "source": [
        "import matplotlib.pyplot as plt\n"
      ],
      "metadata": {
        "id": "bdAI0H2Ai8JQ"
      },
      "execution_count": 39,
      "outputs": []
    },
    {
      "cell_type": "code",
      "source": [
        "#plt.plot(Modelo100.history[\"accuracy\"])"
      ],
      "metadata": {
        "id": "-zyKdKbmi7SC"
      },
      "execution_count": null,
      "outputs": []
    },
    {
      "cell_type": "code",
      "source": [
        "#plt.plot(Modelo2.history[\"accuracy\"])"
      ],
      "metadata": {
        "id": "OcNMJMnUi6Mi"
      },
      "execution_count": null,
      "outputs": []
    },
    {
      "cell_type": "code",
      "source": [
        "#modelo.predict(X_test_escalado)"
      ],
      "metadata": {
        "id": "TqPml2LwiHt3"
      },
      "execution_count": null,
      "outputs": []
    },
    {
      "cell_type": "code",
      "source": [
        "#modelo.evaluate(X_test_escalado, y_test)"
      ],
      "metadata": {
        "id": "UUUlM3ZbrChd"
      },
      "execution_count": null,
      "outputs": []
    },
    {
      "cell_type": "code",
      "source": [
        ""
      ],
      "metadata": {
        "id": "22oJkZjGtLzJ"
      },
      "execution_count": null,
      "outputs": []
    },
    {
      "cell_type": "markdown",
      "source": [
        "Regresión"
      ],
      "metadata": {
        "id": "2N4Uk4gRtO51"
      }
    },
    {
      "cell_type": "code",
      "source": [
        "from sklearn.datasets import make_regression"
      ],
      "metadata": {
        "id": "6VuId1swtQHi"
      },
      "execution_count": 44,
      "outputs": []
    },
    {
      "cell_type": "code",
      "source": [
        "X, y=make_regression(n_samples=50000, n_features=3, random_state=0)"
      ],
      "metadata": {
        "id": "qTclKSn-tVZl"
      },
      "execution_count": 45,
      "outputs": []
    },
    {
      "cell_type": "markdown",
      "source": [
        ""
      ],
      "metadata": {
        "id": "PS3lLT8DtKum"
      }
    },
    {
      "cell_type": "code",
      "source": [
        "X"
      ],
      "metadata": {
        "colab": {
          "base_uri": "https://localhost:8080/"
        },
        "id": "UwHB0ScetlMt",
        "outputId": "3c347d81-38f4-4e32-d9ec-31857691c9f3"
      },
      "execution_count": 46,
      "outputs": [
        {
          "output_type": "execute_result",
          "data": {
            "text/plain": [
              "array([[-0.57518657,  0.14977667,  1.08254492],\n",
              "       [ 0.09578085,  0.2846845 ,  2.00844156],\n",
              "       [ 0.48512008,  0.16015993, -1.20878093],\n",
              "       ...,\n",
              "       [ 0.39436884, -1.34586156,  1.1278689 ],\n",
              "       [ 0.21145003, -1.280188  ,  0.95535492],\n",
              "       [ 0.41172465,  0.0953787 , -0.1013019 ]])"
            ]
          },
          "metadata": {},
          "execution_count": 46
        }
      ]
    },
    {
      "cell_type": "code",
      "source": [
        "X_train, X_test, y_train, y_test=train_test_split(X, y, test_size=0.3, random_state=1234)"
      ],
      "metadata": {
        "id": "93HSgObStl9Q"
      },
      "execution_count": 47,
      "outputs": []
    },
    {
      "cell_type": "code",
      "source": [
        "Escalado=StandardScaler().fit(X_train)"
      ],
      "metadata": {
        "id": "EVnoKz3ctwwx"
      },
      "execution_count": 48,
      "outputs": []
    },
    {
      "cell_type": "code",
      "source": [
        "X_train_escalado=Escalado.transform(X_train)\n",
        "X_test_escalado=Escalado.transform(X_test)"
      ],
      "metadata": {
        "id": "xusobQ0ot1Ex"
      },
      "execution_count": 55,
      "outputs": []
    },
    {
      "cell_type": "code",
      "source": [
        "y"
      ],
      "metadata": {
        "colab": {
          "base_uri": "https://localhost:8080/"
        },
        "id": "tMHpbndut-dt",
        "outputId": "930b59ac-0240-4b49-ef21-5710132964c1"
      },
      "execution_count": 50,
      "outputs": [
        {
          "output_type": "execute_result",
          "data": {
            "text/plain": [
              "array([ 14.18689238, 140.17253253, -23.80832289, ...,  77.99860496,\n",
              "        50.91512453,  36.13532202])"
            ]
          },
          "metadata": {},
          "execution_count": 50
        }
      ]
    },
    {
      "cell_type": "code",
      "source": [
        "modelo_R=Sequential()"
      ],
      "metadata": {
        "id": "ucSMhH_Kt_gf"
      },
      "execution_count": 51,
      "outputs": []
    },
    {
      "cell_type": "code",
      "source": [
        "modelo_R.add(Dense(8, input_dim=3, activation=\"relu\"))\n",
        "modelo_R.add(Dense(3, activation=\"linear\"))\n",
        "modelo_R.add(Dense(1, activation=\"relu\"))\n",
        "modelo_R.compile(loss=\"mse\", optimizer=\"adam\")"
      ],
      "metadata": {
        "id": "pF9oTTHHuIXV"
      },
      "execution_count": 53,
      "outputs": []
    },
    {
      "cell_type": "code",
      "source": [
        "modelo_R.fit(X_train_escalado, y_train)"
      ],
      "metadata": {
        "colab": {
          "base_uri": "https://localhost:8080/"
        },
        "id": "xBUT2lgBu0bF",
        "outputId": "ed003aad-0cbc-4fc6-f8b8-f05fa5f48735"
      },
      "execution_count": 56,
      "outputs": [
        {
          "output_type": "stream",
          "name": "stdout",
          "text": [
            "1094/1094 [==============================] - 4s 3ms/step - loss: 8629.1816\n"
          ]
        },
        {
          "output_type": "execute_result",
          "data": {
            "text/plain": [
              "<keras.callbacks.History at 0x7f47d511b090>"
            ]
          },
          "metadata": {},
          "execution_count": 56
        }
      ]
    },
    {
      "cell_type": "code",
      "source": [
        "y_pred=modelo_R.predict(X_test_escalado)"
      ],
      "metadata": {
        "id": "f7ZoXwJVucoH"
      },
      "execution_count": 57,
      "outputs": []
    },
    {
      "cell_type": "code",
      "source": [
        "y_pred"
      ],
      "metadata": {
        "colab": {
          "base_uri": "https://localhost:8080/"
        },
        "id": "hLCY7J5OvXTu",
        "outputId": "586dcb5b-566a-4dda-9d41-235901475246"
      },
      "execution_count": 58,
      "outputs": [
        {
          "output_type": "execute_result",
          "data": {
            "text/plain": [
              "array([[216.68434  ],\n",
              "       [ 13.088754 ],\n",
              "       [  0.       ],\n",
              "       ...,\n",
              "       [  0.       ],\n",
              "       [  1.1111057],\n",
              "       [  0.       ]], dtype=float32)"
            ]
          },
          "metadata": {},
          "execution_count": 58
        }
      ]
    },
    {
      "cell_type": "code",
      "source": [
        "from sklearn.preprocessing import MinMaxScaler"
      ],
      "metadata": {
        "id": "AzX6PFuHvYTm"
      },
      "execution_count": 59,
      "outputs": []
    },
    {
      "cell_type": "code",
      "source": [
        "EscaladoX, EscaladoY=MinMaxScaler().fit(X_train), MinMaxScaler().fit(y_train.reshape(35000, 1))"
      ],
      "metadata": {
        "id": "sz0KEywOvtYm"
      },
      "execution_count": 70,
      "outputs": []
    },
    {
      "cell_type": "code",
      "source": [
        ""
      ],
      "metadata": {
        "id": "2t4bxuUMwuue"
      },
      "execution_count": null,
      "outputs": []
    },
    {
      "cell_type": "code",
      "source": [
        "X_train_reescalado=EscaladoX.fit(X_train)\n",
        "X_test_reescalado=EscaladoX.fit(X_test)\n",
        "y_train_reescalado=EscaladoY.transform(y_train.reshape(35000,1))\n",
        "y_test_reescalado=EscaladoY.transform(y_test.reshape(15000,1))"
      ],
      "metadata": {
        "id": "MG5cyfblv6sW"
      },
      "execution_count": 71,
      "outputs": []
    },
    {
      "cell_type": "code",
      "source": [
        "modelo_R1=Sequential()\n",
        "modelo_R1.add(Dense(8, input_dim=3, activation=\"relu\"))\n",
        "modelo_R1.add(Dense(3, activation=\"linear\"))\n",
        "modelo_R1.add(Dense(1, activation=\"relu\"))\n",
        "modelo_R1.compile(loss=\"mse\", optimizer=\"adam\")"
      ],
      "metadata": {
        "id": "Qb4mPQsNyjT2"
      },
      "execution_count": 73,
      "outputs": []
    },
    {
      "cell_type": "code",
      "source": [
        "modelo_R1.fit(X_train_reescalado, y_train_reescalado, epochs=10)"
      ],
      "metadata": {
        "id": "Hwg5YMlYxeDf"
      },
      "execution_count": null,
      "outputs": []
    },
    {
      "cell_type": "code",
      "source": [
        ""
      ],
      "metadata": {
        "id": "Fo6L1rXexplK"
      },
      "execution_count": null,
      "outputs": []
    },
    {
      "cell_type": "code",
      "source": [
        "EscaladoY=inverse_transform(modelo_R1.predict(X_test_reescalado))"
      ],
      "metadata": {
        "id": "eUem1xJ6v3nM"
      },
      "execution_count": null,
      "outputs": []
    }
  ]
}