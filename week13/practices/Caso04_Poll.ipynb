{
  "nbformat": 4,
  "nbformat_minor": 0,
  "metadata": {
    "colab": {
      "name": "Caso04 - Poll",
      "provenance": []
    },
    "kernelspec": {
      "name": "python3",
      "display_name": "Python 3"
    },
    "language_info": {
      "name": "python"
    }
  },
  "cells": [
    {
      "cell_type": "markdown",
      "source": [
        "# Poll\n",
        "\n",
        "- En este desafío, tiene la tarea de ayudar a un pequeño pueblo rural a modernizar su proceso de conteo de votos. (Hasta ahora, el tío Cleetus había estado contándolos con confianza uno por uno, pero desafortunadamente, su concentración ya no es la que solía ser).\n",
        "\n",
        "- Se le dará un conjunto de datos de encuesta llamados [`election_data.csv`](https://github.com/marcusRB/IDbootcamps_DataScience_student_PT_10201/blob/master/dataset/election_data.csv). El conjunto de datos se compone de tres columnas: ID de votante, condado y candidato. Su tarea es crear un script de Python que analice los votos y calcule cada uno de los siguientes:\n",
        "\n",
        "  * El número total de votos emitidos\n",
        "  * Una lista completa de los candidatos que recibieron votos\n",
        "  * El porcentaje de votos que ganó cada candidato.\n",
        "  * El número total de votos que ganó cada candidato.\n",
        "  * El ganador de la elección basado en el voto popular.\n",
        "\n",
        "Como ejemplo, su análisis debería ser similar al siguiente:\n",
        "```\n",
        "    Resultados de las elecciones\n",
        "    -------------------------\n",
        "    Votos totales: 3521001\n",
        "    -------------------------\n",
        "    Khan: 63.000% (2218231)\n",
        "    Correy: 20.000% (704200)\n",
        "    Li: 14,000% (492940)\n",
        "    O´Tooley: 3.000% (105630)\n",
        "    -------------------------\n",
        "    Ganador: Khan\n",
        "    -------------------------\n",
        "```\n",
        "\n"
      ],
      "metadata": {
        "id": "7kYgyYLeffR1"
      }
    },
    {
      "cell_type": "code",
      "execution_count": null,
      "metadata": {
        "id": "s5XFM1mKfYcv"
      },
      "outputs": [],
      "source": [
        ""
      ]
    }
  ]
}