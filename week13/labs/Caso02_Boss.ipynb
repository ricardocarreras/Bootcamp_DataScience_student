{
  "nbformat": 4,
  "nbformat_minor": 0,
  "metadata": {
    "colab": {
      "name": "Caso02 - Boss",
      "provenance": [],
      "collapsed_sections": []
    },
    "kernelspec": {
      "name": "python3",
      "display_name": "Python 3"
    },
    "language_info": {
      "name": "python"
    }
  },
  "cells": [
    {
      "cell_type": "markdown",
      "source": [
        "# Caso2 Boss\n",
        "\n",
        "En este desafío, llegas a ser el jefe. Supervisa a cientos de empleados en todo el país que desarrollan Tuna 2.0, un refrigerio que cambiará el mundo a base de atún enlatado. Por desgracia, ser el jefe no es todo diversión, juegos y autoadulación. La empresa decidió recientemente comprar un nuevo sistema de recursos humanos y, lamentablemente para usted, el nuevo sistema requiere que los registros de los empleados se almacenen de manera completamente diferente.\n",
        "\n",
        "Su tarea es ayudar a cerrar la brecha mediante la creación de un script de Python capaz de convertir los registros de sus empleados al formato requerido. Su secuencia de comandos deberá hacer lo siguiente:\n",
        "\n",
        "- Importe los archivos `employee_data1.csv` y `employee_data2.csv`, que actualmente contienen registros de empleados como el siguiente:\n",
        "\n",
        "Emp ID, nombre, fecha de nacimiento, SSN, estado\n",
        "214,Sarah Simpson,1985-12-04,282-01-8166,Florida\n",
        "15,Samantha Lara,1993-09-08,848-80-7526,Colorado\n",
        "411, Stacy Charles, 1957-12-20,658-75-8526, Pensilvania\n",
        "\n",
        "    Luego convierta y exporte los datos para usar el siguiente formato en su lugar:\n",
        "\n",
        "Emp ID, Nombre, Apellido, Fecha de nacimiento, SSN, Estado\n",
        "214, Sarah, Simpson, 04/12/1985, ***-**-8166, Florida\n",
        "15, Samantha, Lara, 08/09/1993, ***-**-7526, CO\n",
        "411, Stacy, Charles, 20/12/1957, ***-**-8526, Pensilvania\n",
        "\n",
        "- En resumen, las conversiones requeridas son las siguientes:\n",
        "\n",
        "  * La columna Nombre debe dividirse en columnas separadas de Nombre y Apellido.\n",
        "\n",
        "  * Los datos de fecha de nacimiento deben volver a escribirse en formato MM/DD/YYYY.\n",
        "\n",
        "  * Los datos del SSN se deben volver a escribir de modo que los primeros cinco números queden ocultos a la vista.\n",
        "\n",
        "  * Los datos de estado deben reescribirse como simples abreviaturas de dos letras.\n",
        "\n",
        "  [Dataset unificado](https://github.com/marcusRB/IDbootcamps_DataScience_student_PT_10201/blob/master/dataset/employee_data.csv)"
      ],
      "metadata": {
        "id": "Unce9I-ycAng"
      }
    },
    {
      "cell_type": "code",
      "execution_count": null,
      "metadata": {
        "id": "HIMrMlvrb_3n"
      },
      "outputs": [],
      "source": [
        ""
      ]
    }
  ]
}