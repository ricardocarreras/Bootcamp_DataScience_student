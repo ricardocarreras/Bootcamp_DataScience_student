{
  "nbformat": 4,
  "nbformat_minor": 0,
  "metadata": {
    "colab": {
      "name": "Caso03 ",
      "provenance": [],
      "collapsed_sections": []
    },
    "kernelspec": {
      "name": "python3",
      "display_name": "Python 3"
    },
    "language_info": {
      "name": "python"
    }
  },
  "cells": [
    {
      "cell_type": "markdown",
      "source": [
        "# PyParagraph\n",
        "\n",
        "En este desafío, puedes desempeñar el papel de lingüista jefe en una academia de aprendizaje local. Como lingüista jefe, usted es responsable de evaluar la complejidad de varios pasajes de la escritura, que van desde la novela de Crepúsculo de segundo año hasta el artículo de investigación asquerosamente altruista. Después de haber leído tantos pasajes, desde entonces se le ocurrió un conjunto bastante simple de métricas para evaluar la complejidad.\n",
        "\n",
        "Su tarea es crear una secuencia de comandos de Python para automatizar el análisis de cualquier pasaje de este tipo utilizando estas métricas. Su secuencia de comandos deberá hacer lo siguiente:\n",
        "\n",
        "- Importe un archivo de texto con un párrafo de su elección.\n",
        "\n",
        "- Evalúe el pasaje para cada uno de los siguientes:\n",
        "\n",
        "  * Recuento aproximado de palabras\n",
        "\n",
        "  * Recuento aproximado de oraciones\n",
        "\n",
        "  * Recuento aproximado de letras (por palabra)\n",
        "\n",
        "  * Longitud promedio de las oraciones (en palabras)\n",
        "\n",
        "- Como ejemplo, este pasaje:\n",
        "> “Adam Wayne, el conquistador, con el rostro echado hacia atrás y la melena como la de un león, estaba de pie con su gran espada apuntando hacia arriba, la ropa roja de su oficina aleteando a su alrededor como las alas rojas de un arcángel. Y el Rey vio, no supo cómo, algo nuevo y sobrecogedor. Los grandes árboles verdes y las grandes túnicas rojas se mecían juntas en el viento. La absurda mascarada, nacida de su propia burla, se elevaba sobre él y abrazaba al mundo. Esto era lo normal, esto era cordura, esto era naturaleza, y él mismo, con su racionalidad, y su desprendimiento y su levita negra, era la excepción y el accidente una mancha negra sobre un mundo de carmesí y oro. ”\n",
        "\n",
        "... daría estos resultados:\n",
        "\n",
        "```\n",
        "Análisis de párrafo\n",
        "-----------------\n",
        "Recuento aproximado de palabras: 122\n",
        "Recuento aproximado de oraciones: 5\n",
        "Conteo promedio de letras: 4.6\n",
        "Longitud promedio de la oración: 24.0\n",
        "```\n",
        "\n",
        "Dataset: \n",
        "- paragraph_1.txt, \n",
        "- paragraph_2.txt,\n",
        "- test.txt"
      ],
      "metadata": {
        "id": "ip9fzHJXdpKs"
      }
    },
    {
      "cell_type": "code",
      "execution_count": null,
      "metadata": {
        "id": "8NPCUZsGdW7x"
      },
      "outputs": [],
      "source": [
        ""
      ]
    }
  ]
}